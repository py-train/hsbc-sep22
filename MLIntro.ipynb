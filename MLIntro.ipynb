{
 "cells": [
  {
   "cell_type": "markdown",
   "metadata": {
    "slideshow": {
     "slide_type": "slide"
    }
   },
   "source": [
    "# Introduction to Machine Learning"
   ]
  },
  {
   "cell_type": "markdown",
   "metadata": {
    "slideshow": {
     "slide_type": "slide"
    }
   },
   "source": [
    "# Agenda\n",
    "\n",
    "- Definitions\n",
    "- Comparison with Traditional Programming\n",
    "- Comparison with related domains\n",
    "- Why NOW?\n",
    "- ML use cases\n",
    "- ML Categories\n",
    "- ML Lifecycle\n",
    "- Tools, Languages"
   ]
  },
  {
   "cell_type": "markdown",
   "metadata": {
    "slideshow": {
     "slide_type": "slide"
    }
   },
   "source": [
    "# Learning\n",
    "\n",
    "> Improve with experience at some task"
   ]
  },
  {
   "cell_type": "markdown",
   "metadata": {
    "slideshow": {
     "slide_type": "fragment"
    }
   },
   "source": [
    "# Machine Learning\n",
    "\n",
    "> The study of algorithms and mathematical models that computer systems use to _progressively improve_ their performance on a specific task"
   ]
  },
  {
   "cell_type": "markdown",
   "metadata": {
    "slideshow": {
     "slide_type": "slide"
    }
   },
   "source": [
    "# ML vs Traditional Programming\n",
    "\n",
    "<img src=\"mlvsprog.png\" height=\"50%\" width=\"50%\"/>"
   ]
  },
  {
   "cell_type": "markdown",
   "metadata": {
    "slideshow": {
     "slide_type": "slide"
    }
   },
   "source": [
    "# ML compared to related domains\n",
    "\n",
    "<img src=\"aivsmlvsdl.png\" height=\"70%\" width=\"70%\"/>"
   ]
  },
  {
   "cell_type": "markdown",
   "metadata": {
    "slideshow": {
     "slide_type": "slide"
    }
   },
   "source": [
    "# Why NOW?\n",
    "\n",
    "- Data explosion\n",
    "- Resource availability: processing, memory, bandwidth\n",
    "- Tools, libraries, algorithm development\n",
    "- Industry & community support\n",
    "- Use cases\n",
    "\n"
   ]
  },
  {
   "cell_type": "markdown",
   "metadata": {
    "slideshow": {
     "slide_type": "slide"
    }
   },
   "source": [
    "# ML Use Cases\n",
    "\n",
    "- Spam filtering\n",
    "- Finding mood of an audience on social media\n",
    "- Predicting prices, temperatures, rainfalls\n",
    "- Finding similar products\n",
    "- Handwriting and speech recognition\n",
    "- Detecting objects from images or streaming video\n",
    "- Autonomous vehicles"
   ]
  },
  {
   "cell_type": "markdown",
   "metadata": {
    "slideshow": {
     "slide_type": "slide"
    }
   },
   "source": [
    "# ML Categories"
   ]
  },
  {
   "cell_type": "markdown",
   "metadata": {
    "cell_style": "split",
    "slideshow": {
     "slide_type": "fragment"
    }
   },
   "source": [
    "### Supervised Learning\n",
    "- Classification: predicting a class\n",
    "    - Fraud detection\n",
    "    - Spam filtering\n",
    "    - Image classification\n",
    "- Regression: predicting a value\n",
    "    - Risk Assessment\n",
    "    - Score Prediction"
   ]
  },
  {
   "cell_type": "markdown",
   "metadata": {
    "cell_style": "split",
    "slideshow": {
     "slide_type": "fragment"
    }
   },
   "source": [
    "### Unsupervised Learning\n",
    "- Clustering\n",
    "    - Biology\n",
    "    - City Planning\n",
    "    - Targetted marketing\n",
    "- Dimensionality reduction\n",
    "    - Face Recogniton\n",
    "    - Object recognition"
   ]
  },
  {
   "cell_type": "markdown",
   "metadata": {
    "slideshow": {
     "slide_type": "fragment"
    }
   },
   "source": [
    "### Reinforcement Learning\n",
    "- Gaming\n",
    "- Robot Navigation\n",
    "- Inventory Management"
   ]
  },
  {
   "cell_type": "markdown",
   "metadata": {
    "slideshow": {
     "slide_type": "slide"
    }
   },
   "source": [
    "# ML Lifecycle\n",
    "\n",
    "<img src=\"mllc.png\" height=\"50%\" width=\"50%\"/>"
   ]
  },
  {
   "cell_type": "markdown",
   "metadata": {
    "slideshow": {
     "slide_type": "slide"
    }
   },
   "source": [
    "# Tools & Languages\n",
    "\n",
    "- Python\n",
    "    - High Level\n",
    "    - Simple\n",
    "    - Popular\n",
    "- R\n",
    "    - statistical computing and visualization\n",
    "- SAS\n",
    "    - statistical software suite\n",
    "- Julia\n",
    "    - High performance\n",
    "    - Relatively young"
   ]
  }
 ],
 "metadata": {
  "celltoolbar": "Slideshow",
  "kernelspec": {
   "display_name": "Python 3",
   "language": "python",
   "name": "python3"
  },
  "language_info": {
   "codemirror_mode": {
    "name": "ipython",
    "version": 3
   },
   "file_extension": ".py",
   "mimetype": "text/x-python",
   "name": "python",
   "nbconvert_exporter": "python",
   "pygments_lexer": "ipython3",
   "version": "3.8.8"
  }
 },
 "nbformat": 4,
 "nbformat_minor": 4
}
