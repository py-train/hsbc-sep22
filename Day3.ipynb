{
 "cells": [
  {
   "cell_type": "markdown",
   "id": "3290cc48",
   "metadata": {},
   "source": [
    "# Pandas\n",
    "\n",
    "- 2D data manipulation"
   ]
  },
  {
   "cell_type": "code",
   "execution_count": 1,
   "id": "3503ff91",
   "metadata": {},
   "outputs": [],
   "source": [
    "import pandas as pd"
   ]
  },
  {
   "cell_type": "code",
   "execution_count": 37,
   "id": "14ae8b5b",
   "metadata": {},
   "outputs": [],
   "source": [
    "gapminder = pd.read_csv('data/gapminder - gapminder.csv')\n",
    "gapminder = pd.read_csv('data/gapminder_full.csv')"
   ]
  },
  {
   "cell_type": "code",
   "execution_count": 3,
   "id": "b43c4407",
   "metadata": {},
   "outputs": [
    {
     "data": {
      "text/html": [
       "<div>\n",
       "<style scoped>\n",
       "    .dataframe tbody tr th:only-of-type {\n",
       "        vertical-align: middle;\n",
       "    }\n",
       "\n",
       "    .dataframe tbody tr th {\n",
       "        vertical-align: top;\n",
       "    }\n",
       "\n",
       "    .dataframe thead th {\n",
       "        text-align: right;\n",
       "    }\n",
       "</style>\n",
       "<table border=\"1\" class=\"dataframe\">\n",
       "  <thead>\n",
       "    <tr style=\"text-align: right;\">\n",
       "      <th></th>\n",
       "      <th>Unnamed: 0</th>\n",
       "      <th>country</th>\n",
       "      <th>year</th>\n",
       "      <th>population</th>\n",
       "      <th>continent</th>\n",
       "      <th>life_exp</th>\n",
       "      <th>gdp_cap</th>\n",
       "    </tr>\n",
       "  </thead>\n",
       "  <tbody>\n",
       "    <tr>\n",
       "      <th>0</th>\n",
       "      <td>11</td>\n",
       "      <td>Afghanistan</td>\n",
       "      <td>2007</td>\n",
       "      <td>31889923</td>\n",
       "      <td>Asia</td>\n",
       "      <td>43.828</td>\n",
       "      <td>974.580338</td>\n",
       "    </tr>\n",
       "    <tr>\n",
       "      <th>1</th>\n",
       "      <td>23</td>\n",
       "      <td>Albania</td>\n",
       "      <td>2007</td>\n",
       "      <td>3600523</td>\n",
       "      <td>Europe</td>\n",
       "      <td>76.423</td>\n",
       "      <td>5937.029526</td>\n",
       "    </tr>\n",
       "    <tr>\n",
       "      <th>2</th>\n",
       "      <td>35</td>\n",
       "      <td>Algeria</td>\n",
       "      <td>2007</td>\n",
       "      <td>33333216</td>\n",
       "      <td>Africa</td>\n",
       "      <td>72.301</td>\n",
       "      <td>6223.367465</td>\n",
       "    </tr>\n",
       "    <tr>\n",
       "      <th>3</th>\n",
       "      <td>47</td>\n",
       "      <td>Angola</td>\n",
       "      <td>2007</td>\n",
       "      <td>12420476</td>\n",
       "      <td>Africa</td>\n",
       "      <td>42.731</td>\n",
       "      <td>4797.231267</td>\n",
       "    </tr>\n",
       "    <tr>\n",
       "      <th>4</th>\n",
       "      <td>59</td>\n",
       "      <td>Argentina</td>\n",
       "      <td>2007</td>\n",
       "      <td>40301927</td>\n",
       "      <td>Americas</td>\n",
       "      <td>75.320</td>\n",
       "      <td>12779.379640</td>\n",
       "    </tr>\n",
       "    <tr>\n",
       "      <th>...</th>\n",
       "      <td>...</td>\n",
       "      <td>...</td>\n",
       "      <td>...</td>\n",
       "      <td>...</td>\n",
       "      <td>...</td>\n",
       "      <td>...</td>\n",
       "      <td>...</td>\n",
       "    </tr>\n",
       "    <tr>\n",
       "      <th>137</th>\n",
       "      <td>1655</td>\n",
       "      <td>Vietnam</td>\n",
       "      <td>2007</td>\n",
       "      <td>85262356</td>\n",
       "      <td>Asia</td>\n",
       "      <td>74.249</td>\n",
       "      <td>2441.576404</td>\n",
       "    </tr>\n",
       "    <tr>\n",
       "      <th>138</th>\n",
       "      <td>1667</td>\n",
       "      <td>West Bank and Gaza</td>\n",
       "      <td>2007</td>\n",
       "      <td>4018332</td>\n",
       "      <td>Asia</td>\n",
       "      <td>73.422</td>\n",
       "      <td>3025.349798</td>\n",
       "    </tr>\n",
       "    <tr>\n",
       "      <th>139</th>\n",
       "      <td>1679</td>\n",
       "      <td>Yemen, Rep.</td>\n",
       "      <td>2007</td>\n",
       "      <td>22211743</td>\n",
       "      <td>Asia</td>\n",
       "      <td>62.698</td>\n",
       "      <td>2280.769906</td>\n",
       "    </tr>\n",
       "    <tr>\n",
       "      <th>140</th>\n",
       "      <td>1691</td>\n",
       "      <td>Zambia</td>\n",
       "      <td>2007</td>\n",
       "      <td>11746035</td>\n",
       "      <td>Africa</td>\n",
       "      <td>42.384</td>\n",
       "      <td>1271.211593</td>\n",
       "    </tr>\n",
       "    <tr>\n",
       "      <th>141</th>\n",
       "      <td>1703</td>\n",
       "      <td>Zimbabwe</td>\n",
       "      <td>2007</td>\n",
       "      <td>12311143</td>\n",
       "      <td>Africa</td>\n",
       "      <td>43.487</td>\n",
       "      <td>469.709298</td>\n",
       "    </tr>\n",
       "  </tbody>\n",
       "</table>\n",
       "<p>142 rows × 7 columns</p>\n",
       "</div>"
      ],
      "text/plain": [
       "     Unnamed: 0             country  year  population continent  life_exp  \\\n",
       "0            11         Afghanistan  2007    31889923      Asia    43.828   \n",
       "1            23             Albania  2007     3600523    Europe    76.423   \n",
       "2            35             Algeria  2007    33333216    Africa    72.301   \n",
       "3            47              Angola  2007    12420476    Africa    42.731   \n",
       "4            59           Argentina  2007    40301927  Americas    75.320   \n",
       "..          ...                 ...   ...         ...       ...       ...   \n",
       "137        1655             Vietnam  2007    85262356      Asia    74.249   \n",
       "138        1667  West Bank and Gaza  2007     4018332      Asia    73.422   \n",
       "139        1679         Yemen, Rep.  2007    22211743      Asia    62.698   \n",
       "140        1691              Zambia  2007    11746035    Africa    42.384   \n",
       "141        1703            Zimbabwe  2007    12311143    Africa    43.487   \n",
       "\n",
       "          gdp_cap  \n",
       "0      974.580338  \n",
       "1     5937.029526  \n",
       "2     6223.367465  \n",
       "3     4797.231267  \n",
       "4    12779.379640  \n",
       "..            ...  \n",
       "137   2441.576404  \n",
       "138   3025.349798  \n",
       "139   2280.769906  \n",
       "140   1271.211593  \n",
       "141    469.709298  \n",
       "\n",
       "[142 rows x 7 columns]"
      ]
     },
     "execution_count": 3,
     "metadata": {},
     "output_type": "execute_result"
    }
   ],
   "source": [
    "gapminder"
   ]
  },
  {
   "cell_type": "code",
   "execution_count": 4,
   "id": "b37cfa67",
   "metadata": {},
   "outputs": [
    {
     "data": {
      "text/plain": [
       "pandas.core.frame.DataFrame"
      ]
     },
     "execution_count": 4,
     "metadata": {},
     "output_type": "execute_result"
    }
   ],
   "source": [
    "type(gapminder)"
   ]
  },
  {
   "cell_type": "code",
   "execution_count": 5,
   "id": "6f300468",
   "metadata": {},
   "outputs": [
    {
     "data": {
      "text/plain": [
       "142"
      ]
     },
     "execution_count": 5,
     "metadata": {},
     "output_type": "execute_result"
    }
   ],
   "source": [
    "len(gapminder)"
   ]
  },
  {
   "cell_type": "code",
   "execution_count": 6,
   "id": "e7a39eb6",
   "metadata": {},
   "outputs": [
    {
     "data": {
      "text/plain": [
       "0             Afghanistan\n",
       "1                 Albania\n",
       "2                 Algeria\n",
       "3                  Angola\n",
       "4               Argentina\n",
       "              ...        \n",
       "137               Vietnam\n",
       "138    West Bank and Gaza\n",
       "139           Yemen, Rep.\n",
       "140                Zambia\n",
       "141              Zimbabwe\n",
       "Name: country, Length: 142, dtype: object"
      ]
     },
     "execution_count": 6,
     "metadata": {},
     "output_type": "execute_result"
    }
   ],
   "source": [
    "gapminder['country']"
   ]
  },
  {
   "cell_type": "code",
   "execution_count": 7,
   "id": "bca80cce",
   "metadata": {},
   "outputs": [
    {
     "data": {
      "text/plain": [
       "0      2007\n",
       "1      2007\n",
       "2      2007\n",
       "3      2007\n",
       "4      2007\n",
       "       ... \n",
       "137    2007\n",
       "138    2007\n",
       "139    2007\n",
       "140    2007\n",
       "141    2007\n",
       "Name: year, Length: 142, dtype: int64"
      ]
     },
     "execution_count": 7,
     "metadata": {},
     "output_type": "execute_result"
    }
   ],
   "source": [
    "gapminder['year']"
   ]
  },
  {
   "cell_type": "code",
   "execution_count": 8,
   "id": "acf52469",
   "metadata": {},
   "outputs": [
    {
     "data": {
      "text/plain": [
       "pandas.core.series.Series"
      ]
     },
     "execution_count": 8,
     "metadata": {},
     "output_type": "execute_result"
    }
   ],
   "source": [
    "type(gapminder['year'])"
   ]
  },
  {
   "cell_type": "code",
   "execution_count": 10,
   "id": "972e9087",
   "metadata": {},
   "outputs": [
    {
     "data": {
      "text/plain": [
       "Index(['Unnamed: 0', 'country', 'year', 'population', 'continent', 'life_exp',\n",
       "       'gdp_cap'],\n",
       "      dtype='object')"
      ]
     },
     "execution_count": 10,
     "metadata": {},
     "output_type": "execute_result"
    }
   ],
   "source": [
    "gapminder.columns"
   ]
  },
  {
   "cell_type": "code",
   "execution_count": 11,
   "id": "7a4f9168",
   "metadata": {},
   "outputs": [
    {
     "data": {
      "text/plain": [
       "0      2007\n",
       "1      2007\n",
       "2      2007\n",
       "3      2007\n",
       "4      2007\n",
       "       ... \n",
       "137    2007\n",
       "138    2007\n",
       "139    2007\n",
       "140    2007\n",
       "141    2007\n",
       "Name: year, Length: 142, dtype: int64"
      ]
     },
     "execution_count": 11,
     "metadata": {},
     "output_type": "execute_result"
    }
   ],
   "source": [
    "gapminder.year"
   ]
  },
  {
   "cell_type": "code",
   "execution_count": 12,
   "id": "32c1e204",
   "metadata": {},
   "outputs": [
    {
     "data": {
      "text/plain": [
       "array([2007], dtype=int64)"
      ]
     },
     "execution_count": 12,
     "metadata": {},
     "output_type": "execute_result"
    }
   ],
   "source": [
    "gapminder.year.unique()"
   ]
  },
  {
   "cell_type": "code",
   "execution_count": 13,
   "id": "0010ee1d",
   "metadata": {},
   "outputs": [
    {
     "data": {
      "text/plain": [
       "0      True\n",
       "1      True\n",
       "2      True\n",
       "3      True\n",
       "4      True\n",
       "       ... \n",
       "137    True\n",
       "138    True\n",
       "139    True\n",
       "140    True\n",
       "141    True\n",
       "Name: year, Length: 142, dtype: bool"
      ]
     },
     "execution_count": 13,
     "metadata": {},
     "output_type": "execute_result"
    }
   ],
   "source": [
    "gapminder.year == 2007"
   ]
  },
  {
   "cell_type": "code",
   "execution_count": 15,
   "id": "a325e24c",
   "metadata": {},
   "outputs": [
    {
     "data": {
      "text/html": [
       "<div>\n",
       "<style scoped>\n",
       "    .dataframe tbody tr th:only-of-type {\n",
       "        vertical-align: middle;\n",
       "    }\n",
       "\n",
       "    .dataframe tbody tr th {\n",
       "        vertical-align: top;\n",
       "    }\n",
       "\n",
       "    .dataframe thead th {\n",
       "        text-align: right;\n",
       "    }\n",
       "</style>\n",
       "<table border=\"1\" class=\"dataframe\">\n",
       "  <thead>\n",
       "    <tr style=\"text-align: right;\">\n",
       "      <th></th>\n",
       "      <th>Unnamed: 0</th>\n",
       "      <th>country</th>\n",
       "      <th>year</th>\n",
       "      <th>population</th>\n",
       "      <th>continent</th>\n",
       "      <th>life_exp</th>\n",
       "      <th>gdp_cap</th>\n",
       "    </tr>\n",
       "  </thead>\n",
       "  <tbody>\n",
       "    <tr>\n",
       "      <th>0</th>\n",
       "      <td>11</td>\n",
       "      <td>Afghanistan</td>\n",
       "      <td>2007</td>\n",
       "      <td>31889923</td>\n",
       "      <td>Asia</td>\n",
       "      <td>43.828</td>\n",
       "      <td>974.580338</td>\n",
       "    </tr>\n",
       "    <tr>\n",
       "      <th>7</th>\n",
       "      <td>95</td>\n",
       "      <td>Bahrain</td>\n",
       "      <td>2007</td>\n",
       "      <td>708573</td>\n",
       "      <td>Asia</td>\n",
       "      <td>75.635</td>\n",
       "      <td>29796.048340</td>\n",
       "    </tr>\n",
       "    <tr>\n",
       "      <th>8</th>\n",
       "      <td>107</td>\n",
       "      <td>Bangladesh</td>\n",
       "      <td>2007</td>\n",
       "      <td>150448339</td>\n",
       "      <td>Asia</td>\n",
       "      <td>64.062</td>\n",
       "      <td>1391.253792</td>\n",
       "    </tr>\n",
       "    <tr>\n",
       "      <th>18</th>\n",
       "      <td>227</td>\n",
       "      <td>Cambodia</td>\n",
       "      <td>2007</td>\n",
       "      <td>14131858</td>\n",
       "      <td>Asia</td>\n",
       "      <td>59.723</td>\n",
       "      <td>1713.778686</td>\n",
       "    </tr>\n",
       "    <tr>\n",
       "      <th>24</th>\n",
       "      <td>299</td>\n",
       "      <td>China</td>\n",
       "      <td>2007</td>\n",
       "      <td>1318683096</td>\n",
       "      <td>Asia</td>\n",
       "      <td>72.961</td>\n",
       "      <td>4959.114854</td>\n",
       "    </tr>\n",
       "    <tr>\n",
       "      <th>55</th>\n",
       "      <td>671</td>\n",
       "      <td>Hong Kong, China</td>\n",
       "      <td>2007</td>\n",
       "      <td>6980412</td>\n",
       "      <td>Asia</td>\n",
       "      <td>82.208</td>\n",
       "      <td>39724.978670</td>\n",
       "    </tr>\n",
       "    <tr>\n",
       "      <th>58</th>\n",
       "      <td>707</td>\n",
       "      <td>India</td>\n",
       "      <td>2007</td>\n",
       "      <td>1110396331</td>\n",
       "      <td>Asia</td>\n",
       "      <td>64.698</td>\n",
       "      <td>2452.210407</td>\n",
       "    </tr>\n",
       "    <tr>\n",
       "      <th>59</th>\n",
       "      <td>719</td>\n",
       "      <td>Indonesia</td>\n",
       "      <td>2007</td>\n",
       "      <td>223547000</td>\n",
       "      <td>Asia</td>\n",
       "      <td>70.650</td>\n",
       "      <td>3540.651564</td>\n",
       "    </tr>\n",
       "    <tr>\n",
       "      <th>60</th>\n",
       "      <td>731</td>\n",
       "      <td>Iran</td>\n",
       "      <td>2007</td>\n",
       "      <td>69453570</td>\n",
       "      <td>Asia</td>\n",
       "      <td>70.964</td>\n",
       "      <td>11605.714490</td>\n",
       "    </tr>\n",
       "    <tr>\n",
       "      <th>61</th>\n",
       "      <td>743</td>\n",
       "      <td>Iraq</td>\n",
       "      <td>2007</td>\n",
       "      <td>27499638</td>\n",
       "      <td>Asia</td>\n",
       "      <td>59.545</td>\n",
       "      <td>4471.061906</td>\n",
       "    </tr>\n",
       "    <tr>\n",
       "      <th>63</th>\n",
       "      <td>767</td>\n",
       "      <td>Israel</td>\n",
       "      <td>2007</td>\n",
       "      <td>6426679</td>\n",
       "      <td>Asia</td>\n",
       "      <td>80.745</td>\n",
       "      <td>25523.277100</td>\n",
       "    </tr>\n",
       "    <tr>\n",
       "      <th>66</th>\n",
       "      <td>803</td>\n",
       "      <td>Japan</td>\n",
       "      <td>2007</td>\n",
       "      <td>127467972</td>\n",
       "      <td>Asia</td>\n",
       "      <td>82.603</td>\n",
       "      <td>31656.068060</td>\n",
       "    </tr>\n",
       "    <tr>\n",
       "      <th>67</th>\n",
       "      <td>815</td>\n",
       "      <td>Jordan</td>\n",
       "      <td>2007</td>\n",
       "      <td>6053193</td>\n",
       "      <td>Asia</td>\n",
       "      <td>72.535</td>\n",
       "      <td>4519.461171</td>\n",
       "    </tr>\n",
       "    <tr>\n",
       "      <th>69</th>\n",
       "      <td>839</td>\n",
       "      <td>Korea, Dem. Rep.</td>\n",
       "      <td>2007</td>\n",
       "      <td>23301725</td>\n",
       "      <td>Asia</td>\n",
       "      <td>67.297</td>\n",
       "      <td>1593.065480</td>\n",
       "    </tr>\n",
       "    <tr>\n",
       "      <th>70</th>\n",
       "      <td>851</td>\n",
       "      <td>Korea, Rep.</td>\n",
       "      <td>2007</td>\n",
       "      <td>49044790</td>\n",
       "      <td>Asia</td>\n",
       "      <td>78.623</td>\n",
       "      <td>23348.139730</td>\n",
       "    </tr>\n",
       "    <tr>\n",
       "      <th>71</th>\n",
       "      <td>863</td>\n",
       "      <td>Kuwait</td>\n",
       "      <td>2007</td>\n",
       "      <td>2505559</td>\n",
       "      <td>Asia</td>\n",
       "      <td>77.588</td>\n",
       "      <td>47306.989780</td>\n",
       "    </tr>\n",
       "    <tr>\n",
       "      <th>72</th>\n",
       "      <td>875</td>\n",
       "      <td>Lebanon</td>\n",
       "      <td>2007</td>\n",
       "      <td>3921278</td>\n",
       "      <td>Asia</td>\n",
       "      <td>71.993</td>\n",
       "      <td>10461.058680</td>\n",
       "    </tr>\n",
       "    <tr>\n",
       "      <th>78</th>\n",
       "      <td>947</td>\n",
       "      <td>Malaysia</td>\n",
       "      <td>2007</td>\n",
       "      <td>24821286</td>\n",
       "      <td>Asia</td>\n",
       "      <td>74.241</td>\n",
       "      <td>12451.655800</td>\n",
       "    </tr>\n",
       "    <tr>\n",
       "      <th>83</th>\n",
       "      <td>1007</td>\n",
       "      <td>Mongolia</td>\n",
       "      <td>2007</td>\n",
       "      <td>2874127</td>\n",
       "      <td>Asia</td>\n",
       "      <td>66.803</td>\n",
       "      <td>3095.772271</td>\n",
       "    </tr>\n",
       "    <tr>\n",
       "      <th>87</th>\n",
       "      <td>1055</td>\n",
       "      <td>Myanmar</td>\n",
       "      <td>2007</td>\n",
       "      <td>47761980</td>\n",
       "      <td>Asia</td>\n",
       "      <td>62.069</td>\n",
       "      <td>944.000000</td>\n",
       "    </tr>\n",
       "    <tr>\n",
       "      <th>89</th>\n",
       "      <td>1079</td>\n",
       "      <td>Nepal</td>\n",
       "      <td>2007</td>\n",
       "      <td>28901790</td>\n",
       "      <td>Asia</td>\n",
       "      <td>63.785</td>\n",
       "      <td>1091.359778</td>\n",
       "    </tr>\n",
       "    <tr>\n",
       "      <th>96</th>\n",
       "      <td>1163</td>\n",
       "      <td>Oman</td>\n",
       "      <td>2007</td>\n",
       "      <td>3204897</td>\n",
       "      <td>Asia</td>\n",
       "      <td>75.640</td>\n",
       "      <td>22316.192870</td>\n",
       "    </tr>\n",
       "    <tr>\n",
       "      <th>97</th>\n",
       "      <td>1175</td>\n",
       "      <td>Pakistan</td>\n",
       "      <td>2007</td>\n",
       "      <td>169270617</td>\n",
       "      <td>Asia</td>\n",
       "      <td>65.483</td>\n",
       "      <td>2605.947580</td>\n",
       "    </tr>\n",
       "    <tr>\n",
       "      <th>101</th>\n",
       "      <td>1223</td>\n",
       "      <td>Philippines</td>\n",
       "      <td>2007</td>\n",
       "      <td>91077287</td>\n",
       "      <td>Asia</td>\n",
       "      <td>71.688</td>\n",
       "      <td>3190.481016</td>\n",
       "    </tr>\n",
       "    <tr>\n",
       "      <th>109</th>\n",
       "      <td>1319</td>\n",
       "      <td>Saudi Arabia</td>\n",
       "      <td>2007</td>\n",
       "      <td>27601038</td>\n",
       "      <td>Asia</td>\n",
       "      <td>72.777</td>\n",
       "      <td>21654.831940</td>\n",
       "    </tr>\n",
       "    <tr>\n",
       "      <th>113</th>\n",
       "      <td>1367</td>\n",
       "      <td>Singapore</td>\n",
       "      <td>2007</td>\n",
       "      <td>4553009</td>\n",
       "      <td>Asia</td>\n",
       "      <td>79.972</td>\n",
       "      <td>47143.179640</td>\n",
       "    </tr>\n",
       "    <tr>\n",
       "      <th>119</th>\n",
       "      <td>1439</td>\n",
       "      <td>Sri Lanka</td>\n",
       "      <td>2007</td>\n",
       "      <td>20378239</td>\n",
       "      <td>Asia</td>\n",
       "      <td>72.396</td>\n",
       "      <td>3970.095407</td>\n",
       "    </tr>\n",
       "    <tr>\n",
       "      <th>124</th>\n",
       "      <td>1499</td>\n",
       "      <td>Syria</td>\n",
       "      <td>2007</td>\n",
       "      <td>19314747</td>\n",
       "      <td>Asia</td>\n",
       "      <td>74.143</td>\n",
       "      <td>4184.548089</td>\n",
       "    </tr>\n",
       "    <tr>\n",
       "      <th>125</th>\n",
       "      <td>1511</td>\n",
       "      <td>Taiwan</td>\n",
       "      <td>2007</td>\n",
       "      <td>23174294</td>\n",
       "      <td>Asia</td>\n",
       "      <td>78.400</td>\n",
       "      <td>28718.276840</td>\n",
       "    </tr>\n",
       "    <tr>\n",
       "      <th>127</th>\n",
       "      <td>1535</td>\n",
       "      <td>Thailand</td>\n",
       "      <td>2007</td>\n",
       "      <td>65068149</td>\n",
       "      <td>Asia</td>\n",
       "      <td>70.616</td>\n",
       "      <td>7458.396327</td>\n",
       "    </tr>\n",
       "    <tr>\n",
       "      <th>137</th>\n",
       "      <td>1655</td>\n",
       "      <td>Vietnam</td>\n",
       "      <td>2007</td>\n",
       "      <td>85262356</td>\n",
       "      <td>Asia</td>\n",
       "      <td>74.249</td>\n",
       "      <td>2441.576404</td>\n",
       "    </tr>\n",
       "    <tr>\n",
       "      <th>138</th>\n",
       "      <td>1667</td>\n",
       "      <td>West Bank and Gaza</td>\n",
       "      <td>2007</td>\n",
       "      <td>4018332</td>\n",
       "      <td>Asia</td>\n",
       "      <td>73.422</td>\n",
       "      <td>3025.349798</td>\n",
       "    </tr>\n",
       "    <tr>\n",
       "      <th>139</th>\n",
       "      <td>1679</td>\n",
       "      <td>Yemen, Rep.</td>\n",
       "      <td>2007</td>\n",
       "      <td>22211743</td>\n",
       "      <td>Asia</td>\n",
       "      <td>62.698</td>\n",
       "      <td>2280.769906</td>\n",
       "    </tr>\n",
       "  </tbody>\n",
       "</table>\n",
       "</div>"
      ],
      "text/plain": [
       "     Unnamed: 0             country  year  population continent  life_exp  \\\n",
       "0            11         Afghanistan  2007    31889923      Asia    43.828   \n",
       "7            95             Bahrain  2007      708573      Asia    75.635   \n",
       "8           107          Bangladesh  2007   150448339      Asia    64.062   \n",
       "18          227            Cambodia  2007    14131858      Asia    59.723   \n",
       "24          299               China  2007  1318683096      Asia    72.961   \n",
       "55          671    Hong Kong, China  2007     6980412      Asia    82.208   \n",
       "58          707               India  2007  1110396331      Asia    64.698   \n",
       "59          719           Indonesia  2007   223547000      Asia    70.650   \n",
       "60          731                Iran  2007    69453570      Asia    70.964   \n",
       "61          743                Iraq  2007    27499638      Asia    59.545   \n",
       "63          767              Israel  2007     6426679      Asia    80.745   \n",
       "66          803               Japan  2007   127467972      Asia    82.603   \n",
       "67          815              Jordan  2007     6053193      Asia    72.535   \n",
       "69          839    Korea, Dem. Rep.  2007    23301725      Asia    67.297   \n",
       "70          851         Korea, Rep.  2007    49044790      Asia    78.623   \n",
       "71          863              Kuwait  2007     2505559      Asia    77.588   \n",
       "72          875             Lebanon  2007     3921278      Asia    71.993   \n",
       "78          947            Malaysia  2007    24821286      Asia    74.241   \n",
       "83         1007            Mongolia  2007     2874127      Asia    66.803   \n",
       "87         1055             Myanmar  2007    47761980      Asia    62.069   \n",
       "89         1079               Nepal  2007    28901790      Asia    63.785   \n",
       "96         1163                Oman  2007     3204897      Asia    75.640   \n",
       "97         1175            Pakistan  2007   169270617      Asia    65.483   \n",
       "101        1223         Philippines  2007    91077287      Asia    71.688   \n",
       "109        1319        Saudi Arabia  2007    27601038      Asia    72.777   \n",
       "113        1367           Singapore  2007     4553009      Asia    79.972   \n",
       "119        1439           Sri Lanka  2007    20378239      Asia    72.396   \n",
       "124        1499               Syria  2007    19314747      Asia    74.143   \n",
       "125        1511              Taiwan  2007    23174294      Asia    78.400   \n",
       "127        1535            Thailand  2007    65068149      Asia    70.616   \n",
       "137        1655             Vietnam  2007    85262356      Asia    74.249   \n",
       "138        1667  West Bank and Gaza  2007     4018332      Asia    73.422   \n",
       "139        1679         Yemen, Rep.  2007    22211743      Asia    62.698   \n",
       "\n",
       "          gdp_cap  \n",
       "0      974.580338  \n",
       "7    29796.048340  \n",
       "8     1391.253792  \n",
       "18    1713.778686  \n",
       "24    4959.114854  \n",
       "55   39724.978670  \n",
       "58    2452.210407  \n",
       "59    3540.651564  \n",
       "60   11605.714490  \n",
       "61    4471.061906  \n",
       "63   25523.277100  \n",
       "66   31656.068060  \n",
       "67    4519.461171  \n",
       "69    1593.065480  \n",
       "70   23348.139730  \n",
       "71   47306.989780  \n",
       "72   10461.058680  \n",
       "78   12451.655800  \n",
       "83    3095.772271  \n",
       "87     944.000000  \n",
       "89    1091.359778  \n",
       "96   22316.192870  \n",
       "97    2605.947580  \n",
       "101   3190.481016  \n",
       "109  21654.831940  \n",
       "113  47143.179640  \n",
       "119   3970.095407  \n",
       "124   4184.548089  \n",
       "125  28718.276840  \n",
       "127   7458.396327  \n",
       "137   2441.576404  \n",
       "138   3025.349798  \n",
       "139   2280.769906  "
      ]
     },
     "execution_count": 15,
     "metadata": {},
     "output_type": "execute_result"
    }
   ],
   "source": [
    "# Filter to only Asia data\n",
    "gapminder[gapminder.continent == 'Asia']"
   ]
  },
  {
   "cell_type": "code",
   "execution_count": 17,
   "id": "e46e1214",
   "metadata": {},
   "outputs": [
    {
     "data": {
      "text/plain": [
       "33"
      ]
     },
     "execution_count": 17,
     "metadata": {},
     "output_type": "execute_result"
    }
   ],
   "source": [
    "# Filter to only Asia data for year 2007\n",
    "gapminder[(gapminder.continent == 'Asia') & (gapminder.year == 2007)]"
   ]
  },
  {
   "cell_type": "code",
   "execution_count": 18,
   "id": "0ebe1226",
   "metadata": {},
   "outputs": [
    {
     "data": {
      "text/plain": [
       "array(['Afghanistan', 'Albania', 'Algeria', 'Angola', 'Argentina',\n",
       "       'Australia', 'Austria', 'Bahrain', 'Bangladesh', 'Belgium',\n",
       "       'Benin', 'Bolivia', 'Bosnia and Herzegovina', 'Botswana', 'Brazil',\n",
       "       'Bulgaria', 'Burkina Faso', 'Burundi', 'Cambodia', 'Cameroon',\n",
       "       'Canada', 'Central African Republic', 'Chad', 'Chile', 'China',\n",
       "       'Colombia', 'Comoros', 'Congo, Dem. Rep.', 'Congo, Rep.',\n",
       "       'Costa Rica', \"Cote d'Ivoire\", 'Croatia', 'Cuba', 'Czech Republic',\n",
       "       'Denmark', 'Djibouti', 'Dominican Republic', 'Ecuador', 'Egypt',\n",
       "       'El Salvador', 'Equatorial Guinea', 'Eritrea', 'Ethiopia',\n",
       "       'Finland', 'France', 'Gabon', 'Gambia', 'Germany', 'Ghana',\n",
       "       'Greece', 'Guatemala', 'Guinea', 'Guinea-Bissau', 'Haiti',\n",
       "       'Honduras', 'Hong Kong, China', 'Hungary', 'Iceland', 'India',\n",
       "       'Indonesia', 'Iran', 'Iraq', 'Ireland', 'Israel', 'Italy',\n",
       "       'Jamaica', 'Japan', 'Jordan', 'Kenya', 'Korea, Dem. Rep.',\n",
       "       'Korea, Rep.', 'Kuwait', 'Lebanon', 'Lesotho', 'Liberia', 'Libya',\n",
       "       'Madagascar', 'Malawi', 'Malaysia', 'Mali', 'Mauritania',\n",
       "       'Mauritius', 'Mexico', 'Mongolia', 'Montenegro', 'Morocco',\n",
       "       'Mozambique', 'Myanmar', 'Namibia', 'Nepal', 'Netherlands',\n",
       "       'New Zealand', 'Nicaragua', 'Niger', 'Nigeria', 'Norway', 'Oman',\n",
       "       'Pakistan', 'Panama', 'Paraguay', 'Peru', 'Philippines', 'Poland',\n",
       "       'Portugal', 'Puerto Rico', 'Reunion', 'Romania', 'Rwanda',\n",
       "       'Sao Tome and Principe', 'Saudi Arabia', 'Senegal', 'Serbia',\n",
       "       'Sierra Leone', 'Singapore', 'Slovak Republic', 'Slovenia',\n",
       "       'Somalia', 'South Africa', 'Spain', 'Sri Lanka', 'Sudan',\n",
       "       'Swaziland', 'Sweden', 'Switzerland', 'Syria', 'Taiwan',\n",
       "       'Tanzania', 'Thailand', 'Togo', 'Trinidad and Tobago', 'Tunisia',\n",
       "       'Turkey', 'Uganda', 'United Kingdom', 'United States', 'Uruguay',\n",
       "       'Venezuela', 'Vietnam', 'West Bank and Gaza', 'Yemen, Rep.',\n",
       "       'Zambia', 'Zimbabwe'], dtype=object)"
      ]
     },
     "execution_count": 18,
     "metadata": {},
     "output_type": "execute_result"
    }
   ],
   "source": [
    "gapminder.country.unique()"
   ]
  },
  {
   "cell_type": "code",
   "execution_count": 19,
   "id": "2c52e64e",
   "metadata": {},
   "outputs": [
    {
     "data": {
      "text/plain": [
       "2"
      ]
     },
     "execution_count": 19,
     "metadata": {},
     "output_type": "execute_result"
    }
   ],
   "source": [
    "# How much data for India + Pakistan combined\n",
    "len(gapminder[(gapminder.country=='India') | (gapminder.country=='Pakistan')])"
   ]
  },
  {
   "cell_type": "code",
   "execution_count": 20,
   "id": "1c5ea4ab",
   "metadata": {},
   "outputs": [
    {
     "data": {
      "text/plain": [
       "['India', 'Pakistan', 'Nepal', 'Bangladesh', 'Sri Lanka', 'Maldives']"
      ]
     },
     "execution_count": 20,
     "metadata": {},
     "output_type": "execute_result"
    }
   ],
   "source": [
    "# How much data for South Asia(India, Pakistan, Nepal, Bangladesh, Sri Lanka, Maldives) combined\n",
    "south_asia = 'India, Pakistan, Nepal, Bangladesh, Sri Lanka, Maldives'.split(', ')\n",
    "south_asia"
   ]
  },
  {
   "cell_type": "code",
   "execution_count": 21,
   "id": "cf2c8811",
   "metadata": {},
   "outputs": [
    {
     "data": {
      "text/plain": [
       "True"
      ]
     },
     "execution_count": 21,
     "metadata": {},
     "output_type": "execute_result"
    }
   ],
   "source": [
    "'India' in south_asia"
   ]
  },
  {
   "cell_type": "code",
   "execution_count": 23,
   "id": "b9cf1a30",
   "metadata": {},
   "outputs": [
    {
     "data": {
      "text/html": [
       "<div>\n",
       "<style scoped>\n",
       "    .dataframe tbody tr th:only-of-type {\n",
       "        vertical-align: middle;\n",
       "    }\n",
       "\n",
       "    .dataframe tbody tr th {\n",
       "        vertical-align: top;\n",
       "    }\n",
       "\n",
       "    .dataframe thead th {\n",
       "        text-align: right;\n",
       "    }\n",
       "</style>\n",
       "<table border=\"1\" class=\"dataframe\">\n",
       "  <thead>\n",
       "    <tr style=\"text-align: right;\">\n",
       "      <th></th>\n",
       "      <th>Unnamed: 0</th>\n",
       "      <th>country</th>\n",
       "      <th>year</th>\n",
       "      <th>population</th>\n",
       "      <th>continent</th>\n",
       "      <th>life_exp</th>\n",
       "      <th>gdp_cap</th>\n",
       "    </tr>\n",
       "  </thead>\n",
       "  <tbody>\n",
       "    <tr>\n",
       "      <th>8</th>\n",
       "      <td>107</td>\n",
       "      <td>Bangladesh</td>\n",
       "      <td>2007</td>\n",
       "      <td>150448339</td>\n",
       "      <td>Asia</td>\n",
       "      <td>64.062</td>\n",
       "      <td>1391.253792</td>\n",
       "    </tr>\n",
       "    <tr>\n",
       "      <th>58</th>\n",
       "      <td>707</td>\n",
       "      <td>India</td>\n",
       "      <td>2007</td>\n",
       "      <td>1110396331</td>\n",
       "      <td>Asia</td>\n",
       "      <td>64.698</td>\n",
       "      <td>2452.210407</td>\n",
       "    </tr>\n",
       "    <tr>\n",
       "      <th>89</th>\n",
       "      <td>1079</td>\n",
       "      <td>Nepal</td>\n",
       "      <td>2007</td>\n",
       "      <td>28901790</td>\n",
       "      <td>Asia</td>\n",
       "      <td>63.785</td>\n",
       "      <td>1091.359778</td>\n",
       "    </tr>\n",
       "    <tr>\n",
       "      <th>97</th>\n",
       "      <td>1175</td>\n",
       "      <td>Pakistan</td>\n",
       "      <td>2007</td>\n",
       "      <td>169270617</td>\n",
       "      <td>Asia</td>\n",
       "      <td>65.483</td>\n",
       "      <td>2605.947580</td>\n",
       "    </tr>\n",
       "    <tr>\n",
       "      <th>119</th>\n",
       "      <td>1439</td>\n",
       "      <td>Sri Lanka</td>\n",
       "      <td>2007</td>\n",
       "      <td>20378239</td>\n",
       "      <td>Asia</td>\n",
       "      <td>72.396</td>\n",
       "      <td>3970.095407</td>\n",
       "    </tr>\n",
       "  </tbody>\n",
       "</table>\n",
       "</div>"
      ],
      "text/plain": [
       "     Unnamed: 0     country  year  population continent  life_exp      gdp_cap\n",
       "8           107  Bangladesh  2007   150448339      Asia    64.062  1391.253792\n",
       "58          707       India  2007  1110396331      Asia    64.698  2452.210407\n",
       "89         1079       Nepal  2007    28901790      Asia    63.785  1091.359778\n",
       "97         1175    Pakistan  2007   169270617      Asia    65.483  2605.947580\n",
       "119        1439   Sri Lanka  2007    20378239      Asia    72.396  3970.095407"
      ]
     },
     "execution_count": 23,
     "metadata": {},
     "output_type": "execute_result"
    }
   ],
   "source": [
    "gapminder[gapminder.country.isin(south_asia)]"
   ]
  },
  {
   "cell_type": "code",
   "execution_count": 24,
   "id": "f8dd258d",
   "metadata": {},
   "outputs": [],
   "source": [
    "g = gapminder"
   ]
  },
  {
   "cell_type": "code",
   "execution_count": 26,
   "id": "e5a1e1b2",
   "metadata": {},
   "outputs": [
    {
     "data": {
      "text/plain": [
       "39.613"
      ]
     },
     "execution_count": 26,
     "metadata": {},
     "output_type": "execute_result"
    }
   ],
   "source": [
    "g.life_exp.min()"
   ]
  },
  {
   "cell_type": "code",
   "execution_count": 33,
   "id": "888128d7",
   "metadata": {},
   "outputs": [
    {
     "data": {
      "text/plain": [
       "66    Japan\n",
       "Name: country, dtype: object"
      ]
     },
     "execution_count": 33,
     "metadata": {},
     "output_type": "execute_result"
    }
   ],
   "source": [
    "# Country with the highest life exp\n",
    "g.sort_values('life_exp', ascending=False).head(1).country"
   ]
  },
  {
   "cell_type": "code",
   "execution_count": 34,
   "id": "54534268",
   "metadata": {},
   "outputs": [
    {
     "data": {
      "text/html": [
       "<div>\n",
       "<style scoped>\n",
       "    .dataframe tbody tr th:only-of-type {\n",
       "        vertical-align: middle;\n",
       "    }\n",
       "\n",
       "    .dataframe tbody tr th {\n",
       "        vertical-align: top;\n",
       "    }\n",
       "\n",
       "    .dataframe thead th {\n",
       "        text-align: right;\n",
       "    }\n",
       "</style>\n",
       "<table border=\"1\" class=\"dataframe\">\n",
       "  <thead>\n",
       "    <tr style=\"text-align: right;\">\n",
       "      <th></th>\n",
       "      <th>Unnamed: 0</th>\n",
       "      <th>country</th>\n",
       "      <th>year</th>\n",
       "      <th>population</th>\n",
       "      <th>continent</th>\n",
       "      <th>life_exp</th>\n",
       "      <th>gdp_cap</th>\n",
       "    </tr>\n",
       "  </thead>\n",
       "  <tbody>\n",
       "    <tr>\n",
       "      <th>66</th>\n",
       "      <td>803</td>\n",
       "      <td>Japan</td>\n",
       "      <td>2007</td>\n",
       "      <td>127467972</td>\n",
       "      <td>Asia</td>\n",
       "      <td>82.603</td>\n",
       "      <td>31656.06806</td>\n",
       "    </tr>\n",
       "  </tbody>\n",
       "</table>\n",
       "</div>"
      ],
      "text/plain": [
       "    Unnamed: 0 country  year  population continent  life_exp      gdp_cap\n",
       "66         803   Japan  2007   127467972      Asia    82.603  31656.06806"
      ]
     },
     "execution_count": 34,
     "metadata": {},
     "output_type": "execute_result"
    }
   ],
   "source": [
    "g.nlargest(1, 'life_exp')"
   ]
  },
  {
   "cell_type": "code",
   "execution_count": 42,
   "id": "b3920272",
   "metadata": {},
   "outputs": [
    {
     "data": {
      "text/html": [
       "<div>\n",
       "<style scoped>\n",
       "    .dataframe tbody tr th:only-of-type {\n",
       "        vertical-align: middle;\n",
       "    }\n",
       "\n",
       "    .dataframe tbody tr th {\n",
       "        vertical-align: top;\n",
       "    }\n",
       "\n",
       "    .dataframe thead th {\n",
       "        text-align: right;\n",
       "    }\n",
       "</style>\n",
       "<table border=\"1\" class=\"dataframe\">\n",
       "  <thead>\n",
       "    <tr style=\"text-align: right;\">\n",
       "      <th></th>\n",
       "      <th>country</th>\n",
       "      <th>year</th>\n",
       "      <th>population</th>\n",
       "      <th>continent</th>\n",
       "      <th>life_exp</th>\n",
       "      <th>gdp_cap</th>\n",
       "    </tr>\n",
       "  </thead>\n",
       "  <tbody>\n",
       "    <tr>\n",
       "      <th>1068</th>\n",
       "      <td>Nepal</td>\n",
       "      <td>1952</td>\n",
       "      <td>9182536</td>\n",
       "      <td>Asia</td>\n",
       "      <td>36.157</td>\n",
       "      <td>545.865723</td>\n",
       "    </tr>\n",
       "  </tbody>\n",
       "</table>\n",
       "</div>"
      ],
      "text/plain": [
       "     country  year  population continent  life_exp     gdp_cap\n",
       "1068   Nepal  1952     9182536      Asia    36.157  545.865723"
      ]
     },
     "execution_count": 42,
     "metadata": {},
     "output_type": "execute_result"
    }
   ],
   "source": [
    "# Find the country with the smallest life_exp in south asia\n",
    "gapminder[gapminder.country.isin(south_asia)].nsmallest(1, 'life_exp')"
   ]
  },
  {
   "cell_type": "code",
   "execution_count": 38,
   "id": "f6c82ac8",
   "metadata": {},
   "outputs": [],
   "source": [
    "g = gapminder"
   ]
  },
  {
   "cell_type": "code",
   "execution_count": 41,
   "id": "2760546c",
   "metadata": {},
   "outputs": [
    {
     "data": {
      "text/plain": [
       "12"
      ]
     },
     "execution_count": 41,
     "metadata": {},
     "output_type": "execute_result"
    }
   ],
   "source": [
    "# How many years worth of data?\n",
    "len(g.year.unique())"
   ]
  },
  {
   "cell_type": "code",
   "execution_count": 43,
   "id": "cafd13a8",
   "metadata": {},
   "outputs": [
    {
     "data": {
      "text/html": [
       "<div>\n",
       "<style scoped>\n",
       "    .dataframe tbody tr th:only-of-type {\n",
       "        vertical-align: middle;\n",
       "    }\n",
       "\n",
       "    .dataframe tbody tr th {\n",
       "        vertical-align: top;\n",
       "    }\n",
       "\n",
       "    .dataframe thead th {\n",
       "        text-align: right;\n",
       "    }\n",
       "</style>\n",
       "<table border=\"1\" class=\"dataframe\">\n",
       "  <thead>\n",
       "    <tr style=\"text-align: right;\">\n",
       "      <th></th>\n",
       "      <th>country</th>\n",
       "      <th>year</th>\n",
       "      <th>population</th>\n",
       "      <th>continent</th>\n",
       "      <th>life_exp</th>\n",
       "      <th>gdp_cap</th>\n",
       "    </tr>\n",
       "  </thead>\n",
       "  <tbody>\n",
       "    <tr>\n",
       "      <th>1068</th>\n",
       "      <td>Nepal</td>\n",
       "      <td>1952</td>\n",
       "      <td>9182536</td>\n",
       "      <td>Asia</td>\n",
       "      <td>36.157</td>\n",
       "      <td>545.865723</td>\n",
       "    </tr>\n",
       "    <tr>\n",
       "      <th>1069</th>\n",
       "      <td>Nepal</td>\n",
       "      <td>1957</td>\n",
       "      <td>9682338</td>\n",
       "      <td>Asia</td>\n",
       "      <td>37.686</td>\n",
       "      <td>597.936356</td>\n",
       "    </tr>\n",
       "    <tr>\n",
       "      <th>1070</th>\n",
       "      <td>Nepal</td>\n",
       "      <td>1962</td>\n",
       "      <td>10332057</td>\n",
       "      <td>Asia</td>\n",
       "      <td>39.393</td>\n",
       "      <td>652.396859</td>\n",
       "    </tr>\n",
       "    <tr>\n",
       "      <th>1071</th>\n",
       "      <td>Nepal</td>\n",
       "      <td>1967</td>\n",
       "      <td>11261690</td>\n",
       "      <td>Asia</td>\n",
       "      <td>41.472</td>\n",
       "      <td>676.442225</td>\n",
       "    </tr>\n",
       "    <tr>\n",
       "      <th>1072</th>\n",
       "      <td>Nepal</td>\n",
       "      <td>1972</td>\n",
       "      <td>12412593</td>\n",
       "      <td>Asia</td>\n",
       "      <td>43.971</td>\n",
       "      <td>674.788130</td>\n",
       "    </tr>\n",
       "    <tr>\n",
       "      <th>1073</th>\n",
       "      <td>Nepal</td>\n",
       "      <td>1977</td>\n",
       "      <td>13933198</td>\n",
       "      <td>Asia</td>\n",
       "      <td>46.748</td>\n",
       "      <td>694.112440</td>\n",
       "    </tr>\n",
       "    <tr>\n",
       "      <th>1074</th>\n",
       "      <td>Nepal</td>\n",
       "      <td>1982</td>\n",
       "      <td>15796314</td>\n",
       "      <td>Asia</td>\n",
       "      <td>49.594</td>\n",
       "      <td>718.373095</td>\n",
       "    </tr>\n",
       "    <tr>\n",
       "      <th>1075</th>\n",
       "      <td>Nepal</td>\n",
       "      <td>1987</td>\n",
       "      <td>17917180</td>\n",
       "      <td>Asia</td>\n",
       "      <td>52.537</td>\n",
       "      <td>775.632450</td>\n",
       "    </tr>\n",
       "    <tr>\n",
       "      <th>1076</th>\n",
       "      <td>Nepal</td>\n",
       "      <td>1992</td>\n",
       "      <td>20326209</td>\n",
       "      <td>Asia</td>\n",
       "      <td>55.727</td>\n",
       "      <td>897.740360</td>\n",
       "    </tr>\n",
       "    <tr>\n",
       "      <th>1077</th>\n",
       "      <td>Nepal</td>\n",
       "      <td>1997</td>\n",
       "      <td>23001113</td>\n",
       "      <td>Asia</td>\n",
       "      <td>59.426</td>\n",
       "      <td>1010.892138</td>\n",
       "    </tr>\n",
       "    <tr>\n",
       "      <th>1078</th>\n",
       "      <td>Nepal</td>\n",
       "      <td>2002</td>\n",
       "      <td>25873917</td>\n",
       "      <td>Asia</td>\n",
       "      <td>61.340</td>\n",
       "      <td>1057.206311</td>\n",
       "    </tr>\n",
       "    <tr>\n",
       "      <th>1079</th>\n",
       "      <td>Nepal</td>\n",
       "      <td>2007</td>\n",
       "      <td>28901790</td>\n",
       "      <td>Asia</td>\n",
       "      <td>63.785</td>\n",
       "      <td>1091.359778</td>\n",
       "    </tr>\n",
       "  </tbody>\n",
       "</table>\n",
       "</div>"
      ],
      "text/plain": [
       "     country  year  population continent  life_exp      gdp_cap\n",
       "1068   Nepal  1952     9182536      Asia    36.157   545.865723\n",
       "1069   Nepal  1957     9682338      Asia    37.686   597.936356\n",
       "1070   Nepal  1962    10332057      Asia    39.393   652.396859\n",
       "1071   Nepal  1967    11261690      Asia    41.472   676.442225\n",
       "1072   Nepal  1972    12412593      Asia    43.971   674.788130\n",
       "1073   Nepal  1977    13933198      Asia    46.748   694.112440\n",
       "1074   Nepal  1982    15796314      Asia    49.594   718.373095\n",
       "1075   Nepal  1987    17917180      Asia    52.537   775.632450\n",
       "1076   Nepal  1992    20326209      Asia    55.727   897.740360\n",
       "1077   Nepal  1997    23001113      Asia    59.426  1010.892138\n",
       "1078   Nepal  2002    25873917      Asia    61.340  1057.206311\n",
       "1079   Nepal  2007    28901790      Asia    63.785  1091.359778"
      ]
     },
     "execution_count": 43,
     "metadata": {},
     "output_type": "execute_result"
    }
   ],
   "source": [
    "# all data for Nepal\n",
    "g[g.country == 'Nepal']"
   ]
  },
  {
   "cell_type": "code",
   "execution_count": 44,
   "id": "cc67787f",
   "metadata": {},
   "outputs": [],
   "source": [
    "%matplotlib inline"
   ]
  },
  {
   "cell_type": "code",
   "execution_count": 50,
   "id": "69ee9967",
   "metadata": {},
   "outputs": [
    {
     "data": {
      "text/plain": [
       "1068    36.157\n",
       "1069    37.686\n",
       "1070    39.393\n",
       "1071    41.472\n",
       "1072    43.971\n",
       "1073    46.748\n",
       "1074    49.594\n",
       "1075    52.537\n",
       "1076    55.727\n",
       "1077    59.426\n",
       "1078    61.340\n",
       "1079    63.785\n",
       "Name: life_exp, dtype: float64"
      ]
     },
     "execution_count": 50,
     "metadata": {},
     "output_type": "execute_result"
    }
   ],
   "source": [
    "g[g.country == 'Nepal'].life_exp"
   ]
  },
  {
   "cell_type": "code",
   "execution_count": 45,
   "id": "917c0f27",
   "metadata": {},
   "outputs": [
    {
     "data": {
      "text/plain": [
       "<AxesSubplot:>"
      ]
     },
     "execution_count": 45,
     "metadata": {},
     "output_type": "execute_result"
    },
    {
     "data": {
      "image/png": "[encoded data removed]",
      "text/plain": [
       "<Figure size 432x288 with 1 Axes>"
      ]
     },
     "metadata": {
      "needs_background": "light"
     },
     "output_type": "display_data"
    }
   ],
   "source": [
    "g[g.country == 'Nepal'].life_exp.plot()"
   ]
  },
  {
   "cell_type": "code",
   "execution_count": 46,
   "id": "0ee50161",
   "metadata": {},
   "outputs": [
    {
     "data": {
      "text/plain": [
       "Index(['country', 'year', 'population', 'continent', 'life_exp', 'gdp_cap'], dtype='object')"
      ]
     },
     "execution_count": 46,
     "metadata": {},
     "output_type": "execute_result"
    }
   ],
   "source": [
    "g.columns"
   ]
  },
  {
   "cell_type": "code",
   "execution_count": 47,
   "id": "32c25269",
   "metadata": {},
   "outputs": [
    {
     "data": {
      "text/plain": [
       "RangeIndex(start=0, stop=1704, step=1)"
      ]
     },
     "execution_count": 47,
     "metadata": {},
     "output_type": "execute_result"
    }
   ],
   "source": [
    "g.index"
   ]
  },
  {
   "cell_type": "code",
   "execution_count": 49,
   "id": "671f55bd",
   "metadata": {},
   "outputs": [
    {
     "data": {
      "text/html": [
       "<div>\n",
       "<style scoped>\n",
       "    .dataframe tbody tr th:only-of-type {\n",
       "        vertical-align: middle;\n",
       "    }\n",
       "\n",
       "    .dataframe tbody tr th {\n",
       "        vertical-align: top;\n",
       "    }\n",
       "\n",
       "    .dataframe thead th {\n",
       "        text-align: right;\n",
       "    }\n",
       "</style>\n",
       "<table border=\"1\" class=\"dataframe\">\n",
       "  <thead>\n",
       "    <tr style=\"text-align: right;\">\n",
       "      <th></th>\n",
       "      <th>country</th>\n",
       "      <th>population</th>\n",
       "      <th>continent</th>\n",
       "      <th>life_exp</th>\n",
       "      <th>gdp_cap</th>\n",
       "    </tr>\n",
       "    <tr>\n",
       "      <th>year</th>\n",
       "      <th></th>\n",
       "      <th></th>\n",
       "      <th></th>\n",
       "      <th></th>\n",
       "      <th></th>\n",
       "    </tr>\n",
       "  </thead>\n",
       "  <tbody>\n",
       "    <tr>\n",
       "      <th>1952</th>\n",
       "      <td>Afghanistan</td>\n",
       "      <td>8425333</td>\n",
       "      <td>Asia</td>\n",
       "      <td>28.801</td>\n",
       "      <td>779.445314</td>\n",
       "    </tr>\n",
       "    <tr>\n",
       "      <th>1957</th>\n",
       "      <td>Afghanistan</td>\n",
       "      <td>9240934</td>\n",
       "      <td>Asia</td>\n",
       "      <td>30.332</td>\n",
       "      <td>820.853030</td>\n",
       "    </tr>\n",
       "    <tr>\n",
       "      <th>1962</th>\n",
       "      <td>Afghanistan</td>\n",
       "      <td>10267083</td>\n",
       "      <td>Asia</td>\n",
       "      <td>31.997</td>\n",
       "      <td>853.100710</td>\n",
       "    </tr>\n",
       "    <tr>\n",
       "      <th>1967</th>\n",
       "      <td>Afghanistan</td>\n",
       "      <td>11537966</td>\n",
       "      <td>Asia</td>\n",
       "      <td>34.020</td>\n",
       "      <td>836.197138</td>\n",
       "    </tr>\n",
       "    <tr>\n",
       "      <th>1972</th>\n",
       "      <td>Afghanistan</td>\n",
       "      <td>13079460</td>\n",
       "      <td>Asia</td>\n",
       "      <td>36.088</td>\n",
       "      <td>739.981106</td>\n",
       "    </tr>\n",
       "    <tr>\n",
       "      <th>...</th>\n",
       "      <td>...</td>\n",
       "      <td>...</td>\n",
       "      <td>...</td>\n",
       "      <td>...</td>\n",
       "      <td>...</td>\n",
       "    </tr>\n",
       "    <tr>\n",
       "      <th>1987</th>\n",
       "      <td>Zimbabwe</td>\n",
       "      <td>9216418</td>\n",
       "      <td>Africa</td>\n",
       "      <td>62.351</td>\n",
       "      <td>706.157306</td>\n",
       "    </tr>\n",
       "    <tr>\n",
       "      <th>1992</th>\n",
       "      <td>Zimbabwe</td>\n",
       "      <td>10704340</td>\n",
       "      <td>Africa</td>\n",
       "      <td>60.377</td>\n",
       "      <td>693.420786</td>\n",
       "    </tr>\n",
       "    <tr>\n",
       "      <th>1997</th>\n",
       "      <td>Zimbabwe</td>\n",
       "      <td>11404948</td>\n",
       "      <td>Africa</td>\n",
       "      <td>46.809</td>\n",
       "      <td>792.449960</td>\n",
       "    </tr>\n",
       "    <tr>\n",
       "      <th>2002</th>\n",
       "      <td>Zimbabwe</td>\n",
       "      <td>11926563</td>\n",
       "      <td>Africa</td>\n",
       "      <td>39.989</td>\n",
       "      <td>672.038623</td>\n",
       "    </tr>\n",
       "    <tr>\n",
       "      <th>2007</th>\n",
       "      <td>Zimbabwe</td>\n",
       "      <td>12311143</td>\n",
       "      <td>Africa</td>\n",
       "      <td>43.487</td>\n",
       "      <td>469.709298</td>\n",
       "    </tr>\n",
       "  </tbody>\n",
       "</table>\n",
       "<p>1704 rows × 5 columns</p>\n",
       "</div>"
      ],
      "text/plain": [
       "          country  population continent  life_exp     gdp_cap\n",
       "year                                                         \n",
       "1952  Afghanistan     8425333      Asia    28.801  779.445314\n",
       "1957  Afghanistan     9240934      Asia    30.332  820.853030\n",
       "1962  Afghanistan    10267083      Asia    31.997  853.100710\n",
       "1967  Afghanistan    11537966      Asia    34.020  836.197138\n",
       "1972  Afghanistan    13079460      Asia    36.088  739.981106\n",
       "...           ...         ...       ...       ...         ...\n",
       "1987     Zimbabwe     9216418    Africa    62.351  706.157306\n",
       "1992     Zimbabwe    10704340    Africa    60.377  693.420786\n",
       "1997     Zimbabwe    11404948    Africa    46.809  792.449960\n",
       "2002     Zimbabwe    11926563    Africa    39.989  672.038623\n",
       "2007     Zimbabwe    12311143    Africa    43.487  469.709298\n",
       "\n",
       "[1704 rows x 5 columns]"
      ]
     },
     "execution_count": 49,
     "metadata": {},
     "output_type": "execute_result"
    }
   ],
   "source": [
    "g.set_index('year')"
   ]
  },
  {
   "cell_type": "code",
   "execution_count": 52,
   "id": "efada8a5",
   "metadata": {},
   "outputs": [
    {
     "data": {
      "text/plain": [
       "<AxesSubplot:xlabel='year'>"
      ]
     },
     "execution_count": 52,
     "metadata": {},
     "output_type": "execute_result"
    },
    {
     "data": {
      "image/png": "[encoded data removed]",
      "text/plain": [
       "<Figure size 432x288 with 1 Axes>"
      ]
     },
     "metadata": {
      "needs_background": "light"
     },
     "output_type": "display_data"
    }
   ],
   "source": [
    "nepal = g[g.country == 'Nepal']\n",
    "nepal.set_index('year', inplace=True)\n",
    "nepal.life_exp.plot()"
   ]
  },
  {
   "cell_type": "code",
   "execution_count": 55,
   "id": "b289161d",
   "metadata": {},
   "outputs": [
    {
     "data": {
      "text/html": [
       "<div>\n",
       "<style scoped>\n",
       "    .dataframe tbody tr th:only-of-type {\n",
       "        vertical-align: middle;\n",
       "    }\n",
       "\n",
       "    .dataframe tbody tr th {\n",
       "        vertical-align: top;\n",
       "    }\n",
       "\n",
       "    .dataframe thead th {\n",
       "        text-align: right;\n",
       "    }\n",
       "</style>\n",
       "<table border=\"1\" class=\"dataframe\">\n",
       "  <thead>\n",
       "    <tr style=\"text-align: right;\">\n",
       "      <th></th>\n",
       "      <th>year</th>\n",
       "      <th>life_exp</th>\n",
       "    </tr>\n",
       "  </thead>\n",
       "  <tbody>\n",
       "    <tr>\n",
       "      <th>0</th>\n",
       "      <td>1952</td>\n",
       "      <td>28.801</td>\n",
       "    </tr>\n",
       "    <tr>\n",
       "      <th>1</th>\n",
       "      <td>1957</td>\n",
       "      <td>30.332</td>\n",
       "    </tr>\n",
       "    <tr>\n",
       "      <th>2</th>\n",
       "      <td>1962</td>\n",
       "      <td>31.997</td>\n",
       "    </tr>\n",
       "    <tr>\n",
       "      <th>3</th>\n",
       "      <td>1967</td>\n",
       "      <td>34.020</td>\n",
       "    </tr>\n",
       "    <tr>\n",
       "      <th>4</th>\n",
       "      <td>1972</td>\n",
       "      <td>36.088</td>\n",
       "    </tr>\n",
       "    <tr>\n",
       "      <th>...</th>\n",
       "      <td>...</td>\n",
       "      <td>...</td>\n",
       "    </tr>\n",
       "    <tr>\n",
       "      <th>1699</th>\n",
       "      <td>1987</td>\n",
       "      <td>62.351</td>\n",
       "    </tr>\n",
       "    <tr>\n",
       "      <th>1700</th>\n",
       "      <td>1992</td>\n",
       "      <td>60.377</td>\n",
       "    </tr>\n",
       "    <tr>\n",
       "      <th>1701</th>\n",
       "      <td>1997</td>\n",
       "      <td>46.809</td>\n",
       "    </tr>\n",
       "    <tr>\n",
       "      <th>1702</th>\n",
       "      <td>2002</td>\n",
       "      <td>39.989</td>\n",
       "    </tr>\n",
       "    <tr>\n",
       "      <th>1703</th>\n",
       "      <td>2007</td>\n",
       "      <td>43.487</td>\n",
       "    </tr>\n",
       "  </tbody>\n",
       "</table>\n",
       "<p>1704 rows × 2 columns</p>\n",
       "</div>"
      ],
      "text/plain": [
       "      year  life_exp\n",
       "0     1952    28.801\n",
       "1     1957    30.332\n",
       "2     1962    31.997\n",
       "3     1967    34.020\n",
       "4     1972    36.088\n",
       "...    ...       ...\n",
       "1699  1987    62.351\n",
       "1700  1992    60.377\n",
       "1701  1997    46.809\n",
       "1702  2002    39.989\n",
       "1703  2007    43.487\n",
       "\n",
       "[1704 rows x 2 columns]"
      ]
     },
     "execution_count": 55,
     "metadata": {},
     "output_type": "execute_result"
    }
   ],
   "source": [
    "g[['year','life_exp']]"
   ]
  },
  {
   "cell_type": "code",
   "execution_count": 56,
   "id": "e78a8b34",
   "metadata": {},
   "outputs": [
    {
     "data": {
      "text/html": [
       "<div>\n",
       "<style scoped>\n",
       "    .dataframe tbody tr th:only-of-type {\n",
       "        vertical-align: middle;\n",
       "    }\n",
       "\n",
       "    .dataframe tbody tr th {\n",
       "        vertical-align: top;\n",
       "    }\n",
       "\n",
       "    .dataframe thead th {\n",
       "        text-align: right;\n",
       "    }\n",
       "</style>\n",
       "<table border=\"1\" class=\"dataframe\">\n",
       "  <thead>\n",
       "    <tr style=\"text-align: right;\">\n",
       "      <th></th>\n",
       "      <th>year</th>\n",
       "    </tr>\n",
       "  </thead>\n",
       "  <tbody>\n",
       "    <tr>\n",
       "      <th>0</th>\n",
       "      <td>1952</td>\n",
       "    </tr>\n",
       "    <tr>\n",
       "      <th>1</th>\n",
       "      <td>1957</td>\n",
       "    </tr>\n",
       "    <tr>\n",
       "      <th>2</th>\n",
       "      <td>1962</td>\n",
       "    </tr>\n",
       "    <tr>\n",
       "      <th>3</th>\n",
       "      <td>1967</td>\n",
       "    </tr>\n",
       "    <tr>\n",
       "      <th>4</th>\n",
       "      <td>1972</td>\n",
       "    </tr>\n",
       "    <tr>\n",
       "      <th>...</th>\n",
       "      <td>...</td>\n",
       "    </tr>\n",
       "    <tr>\n",
       "      <th>1699</th>\n",
       "      <td>1987</td>\n",
       "    </tr>\n",
       "    <tr>\n",
       "      <th>1700</th>\n",
       "      <td>1992</td>\n",
       "    </tr>\n",
       "    <tr>\n",
       "      <th>1701</th>\n",
       "      <td>1997</td>\n",
       "    </tr>\n",
       "    <tr>\n",
       "      <th>1702</th>\n",
       "      <td>2002</td>\n",
       "    </tr>\n",
       "    <tr>\n",
       "      <th>1703</th>\n",
       "      <td>2007</td>\n",
       "    </tr>\n",
       "  </tbody>\n",
       "</table>\n",
       "<p>1704 rows × 1 columns</p>\n",
       "</div>"
      ],
      "text/plain": [
       "      year\n",
       "0     1952\n",
       "1     1957\n",
       "2     1962\n",
       "3     1967\n",
       "4     1972\n",
       "...    ...\n",
       "1699  1987\n",
       "1700  1992\n",
       "1701  1997\n",
       "1702  2002\n",
       "1703  2007\n",
       "\n",
       "[1704 rows x 1 columns]"
      ]
     },
     "execution_count": 56,
     "metadata": {},
     "output_type": "execute_result"
    }
   ],
   "source": [
    "g[['year']]"
   ]
  },
  {
   "cell_type": "code",
   "execution_count": null,
   "id": "a01a2f77",
   "metadata": {},
   "outputs": [],
   "source": [
    "# life expectancy data for south asia for 2007"
   ]
  },
  {
   "cell_type": "code",
   "execution_count": 63,
   "id": "448c2e5a",
   "metadata": {},
   "outputs": [
    {
     "data": {
      "text/plain": [
       "<AxesSubplot:xlabel='country'>"
      ]
     },
     "execution_count": 63,
     "metadata": {},
     "output_type": "execute_result"
    },
    {
     "data": {
      "image/png": "[encoded data removed]",
      "text/plain": [
       "<Figure size 432x288 with 1 Axes>"
      ]
     },
     "metadata": {
      "needs_background": "light"
     },
     "output_type": "display_data"
    }
   ],
   "source": [
    "g[(g.country.isin(south_asia)) & (g.year==2007)].set_index('country').life_exp.plot()"
   ]
  },
  {
   "cell_type": "code",
   "execution_count": 62,
   "id": "5688dac2",
   "metadata": {},
   "outputs": [
    {
     "data": {
      "text/plain": [
       "<AxesSubplot:xlabel='country'>"
      ]
     },
     "execution_count": 62,
     "metadata": {},
     "output_type": "execute_result"
    },
    {
     "data": {
      "image/png": "[encoded data removed]",
      "text/plain": [
       "<Figure size 432x288 with 1 Axes>"
      ]
     },
     "metadata": {
      "needs_background": "light"
     },
     "output_type": "display_data"
    }
   ],
   "source": [
    "g[(g.country.isin(south_asia)) & (g.year==2007)].set_index('country').life_exp.plot(kind='bar')"
   ]
  },
  {
   "cell_type": "code",
   "execution_count": 70,
   "id": "2635e8f8",
   "metadata": {},
   "outputs": [
    {
     "data": {
      "text/html": [
       "<div>\n",
       "<style scoped>\n",
       "    .dataframe tbody tr th:only-of-type {\n",
       "        vertical-align: middle;\n",
       "    }\n",
       "\n",
       "    .dataframe tbody tr th {\n",
       "        vertical-align: top;\n",
       "    }\n",
       "\n",
       "    .dataframe thead th {\n",
       "        text-align: right;\n",
       "    }\n",
       "</style>\n",
       "<table border=\"1\" class=\"dataframe\">\n",
       "  <thead>\n",
       "    <tr style=\"text-align: right;\">\n",
       "      <th></th>\n",
       "      <th>country</th>\n",
       "      <th>year</th>\n",
       "      <th>population</th>\n",
       "    </tr>\n",
       "  </thead>\n",
       "  <tbody>\n",
       "    <tr>\n",
       "      <th>96</th>\n",
       "      <td>Bangladesh</td>\n",
       "      <td>1952</td>\n",
       "      <td>46886859</td>\n",
       "    </tr>\n",
       "    <tr>\n",
       "      <th>97</th>\n",
       "      <td>Bangladesh</td>\n",
       "      <td>1957</td>\n",
       "      <td>51365468</td>\n",
       "    </tr>\n",
       "    <tr>\n",
       "      <th>98</th>\n",
       "      <td>Bangladesh</td>\n",
       "      <td>1962</td>\n",
       "      <td>56839289</td>\n",
       "    </tr>\n",
       "    <tr>\n",
       "      <th>99</th>\n",
       "      <td>Bangladesh</td>\n",
       "      <td>1967</td>\n",
       "      <td>62821884</td>\n",
       "    </tr>\n",
       "    <tr>\n",
       "      <th>100</th>\n",
       "      <td>Bangladesh</td>\n",
       "      <td>1972</td>\n",
       "      <td>70759295</td>\n",
       "    </tr>\n",
       "    <tr>\n",
       "      <th>101</th>\n",
       "      <td>Bangladesh</td>\n",
       "      <td>1977</td>\n",
       "      <td>80428306</td>\n",
       "    </tr>\n",
       "    <tr>\n",
       "      <th>102</th>\n",
       "      <td>Bangladesh</td>\n",
       "      <td>1982</td>\n",
       "      <td>93074406</td>\n",
       "    </tr>\n",
       "    <tr>\n",
       "      <th>103</th>\n",
       "      <td>Bangladesh</td>\n",
       "      <td>1987</td>\n",
       "      <td>103764241</td>\n",
       "    </tr>\n",
       "    <tr>\n",
       "      <th>104</th>\n",
       "      <td>Bangladesh</td>\n",
       "      <td>1992</td>\n",
       "      <td>113704579</td>\n",
       "    </tr>\n",
       "    <tr>\n",
       "      <th>105</th>\n",
       "      <td>Bangladesh</td>\n",
       "      <td>1997</td>\n",
       "      <td>123315288</td>\n",
       "    </tr>\n",
       "    <tr>\n",
       "      <th>106</th>\n",
       "      <td>Bangladesh</td>\n",
       "      <td>2002</td>\n",
       "      <td>135656790</td>\n",
       "    </tr>\n",
       "    <tr>\n",
       "      <th>107</th>\n",
       "      <td>Bangladesh</td>\n",
       "      <td>2007</td>\n",
       "      <td>150448339</td>\n",
       "    </tr>\n",
       "    <tr>\n",
       "      <th>696</th>\n",
       "      <td>India</td>\n",
       "      <td>1952</td>\n",
       "      <td>372000000</td>\n",
       "    </tr>\n",
       "    <tr>\n",
       "      <th>697</th>\n",
       "      <td>India</td>\n",
       "      <td>1957</td>\n",
       "      <td>409000000</td>\n",
       "    </tr>\n",
       "    <tr>\n",
       "      <th>698</th>\n",
       "      <td>India</td>\n",
       "      <td>1962</td>\n",
       "      <td>454000000</td>\n",
       "    </tr>\n",
       "    <tr>\n",
       "      <th>699</th>\n",
       "      <td>India</td>\n",
       "      <td>1967</td>\n",
       "      <td>506000000</td>\n",
       "    </tr>\n",
       "    <tr>\n",
       "      <th>700</th>\n",
       "      <td>India</td>\n",
       "      <td>1972</td>\n",
       "      <td>567000000</td>\n",
       "    </tr>\n",
       "    <tr>\n",
       "      <th>701</th>\n",
       "      <td>India</td>\n",
       "      <td>1977</td>\n",
       "      <td>634000000</td>\n",
       "    </tr>\n",
       "    <tr>\n",
       "      <th>702</th>\n",
       "      <td>India</td>\n",
       "      <td>1982</td>\n",
       "      <td>708000000</td>\n",
       "    </tr>\n",
       "    <tr>\n",
       "      <th>703</th>\n",
       "      <td>India</td>\n",
       "      <td>1987</td>\n",
       "      <td>788000000</td>\n",
       "    </tr>\n",
       "    <tr>\n",
       "      <th>704</th>\n",
       "      <td>India</td>\n",
       "      <td>1992</td>\n",
       "      <td>872000000</td>\n",
       "    </tr>\n",
       "    <tr>\n",
       "      <th>705</th>\n",
       "      <td>India</td>\n",
       "      <td>1997</td>\n",
       "      <td>959000000</td>\n",
       "    </tr>\n",
       "    <tr>\n",
       "      <th>706</th>\n",
       "      <td>India</td>\n",
       "      <td>2002</td>\n",
       "      <td>1034172547</td>\n",
       "    </tr>\n",
       "    <tr>\n",
       "      <th>707</th>\n",
       "      <td>India</td>\n",
       "      <td>2007</td>\n",
       "      <td>1110396331</td>\n",
       "    </tr>\n",
       "    <tr>\n",
       "      <th>1068</th>\n",
       "      <td>Nepal</td>\n",
       "      <td>1952</td>\n",
       "      <td>9182536</td>\n",
       "    </tr>\n",
       "    <tr>\n",
       "      <th>1069</th>\n",
       "      <td>Nepal</td>\n",
       "      <td>1957</td>\n",
       "      <td>9682338</td>\n",
       "    </tr>\n",
       "    <tr>\n",
       "      <th>1070</th>\n",
       "      <td>Nepal</td>\n",
       "      <td>1962</td>\n",
       "      <td>10332057</td>\n",
       "    </tr>\n",
       "    <tr>\n",
       "      <th>1071</th>\n",
       "      <td>Nepal</td>\n",
       "      <td>1967</td>\n",
       "      <td>11261690</td>\n",
       "    </tr>\n",
       "    <tr>\n",
       "      <th>1072</th>\n",
       "      <td>Nepal</td>\n",
       "      <td>1972</td>\n",
       "      <td>12412593</td>\n",
       "    </tr>\n",
       "    <tr>\n",
       "      <th>1073</th>\n",
       "      <td>Nepal</td>\n",
       "      <td>1977</td>\n",
       "      <td>13933198</td>\n",
       "    </tr>\n",
       "    <tr>\n",
       "      <th>1074</th>\n",
       "      <td>Nepal</td>\n",
       "      <td>1982</td>\n",
       "      <td>15796314</td>\n",
       "    </tr>\n",
       "    <tr>\n",
       "      <th>1075</th>\n",
       "      <td>Nepal</td>\n",
       "      <td>1987</td>\n",
       "      <td>17917180</td>\n",
       "    </tr>\n",
       "    <tr>\n",
       "      <th>1076</th>\n",
       "      <td>Nepal</td>\n",
       "      <td>1992</td>\n",
       "      <td>20326209</td>\n",
       "    </tr>\n",
       "    <tr>\n",
       "      <th>1077</th>\n",
       "      <td>Nepal</td>\n",
       "      <td>1997</td>\n",
       "      <td>23001113</td>\n",
       "    </tr>\n",
       "    <tr>\n",
       "      <th>1078</th>\n",
       "      <td>Nepal</td>\n",
       "      <td>2002</td>\n",
       "      <td>25873917</td>\n",
       "    </tr>\n",
       "    <tr>\n",
       "      <th>1079</th>\n",
       "      <td>Nepal</td>\n",
       "      <td>2007</td>\n",
       "      <td>28901790</td>\n",
       "    </tr>\n",
       "    <tr>\n",
       "      <th>1164</th>\n",
       "      <td>Pakistan</td>\n",
       "      <td>1952</td>\n",
       "      <td>41346560</td>\n",
       "    </tr>\n",
       "    <tr>\n",
       "      <th>1165</th>\n",
       "      <td>Pakistan</td>\n",
       "      <td>1957</td>\n",
       "      <td>46679944</td>\n",
       "    </tr>\n",
       "    <tr>\n",
       "      <th>1166</th>\n",
       "      <td>Pakistan</td>\n",
       "      <td>1962</td>\n",
       "      <td>53100671</td>\n",
       "    </tr>\n",
       "    <tr>\n",
       "      <th>1167</th>\n",
       "      <td>Pakistan</td>\n",
       "      <td>1967</td>\n",
       "      <td>60641899</td>\n",
       "    </tr>\n",
       "    <tr>\n",
       "      <th>1168</th>\n",
       "      <td>Pakistan</td>\n",
       "      <td>1972</td>\n",
       "      <td>69325921</td>\n",
       "    </tr>\n",
       "    <tr>\n",
       "      <th>1169</th>\n",
       "      <td>Pakistan</td>\n",
       "      <td>1977</td>\n",
       "      <td>78152686</td>\n",
       "    </tr>\n",
       "    <tr>\n",
       "      <th>1170</th>\n",
       "      <td>Pakistan</td>\n",
       "      <td>1982</td>\n",
       "      <td>91462088</td>\n",
       "    </tr>\n",
       "    <tr>\n",
       "      <th>1171</th>\n",
       "      <td>Pakistan</td>\n",
       "      <td>1987</td>\n",
       "      <td>105186881</td>\n",
       "    </tr>\n",
       "    <tr>\n",
       "      <th>1172</th>\n",
       "      <td>Pakistan</td>\n",
       "      <td>1992</td>\n",
       "      <td>120065004</td>\n",
       "    </tr>\n",
       "    <tr>\n",
       "      <th>1173</th>\n",
       "      <td>Pakistan</td>\n",
       "      <td>1997</td>\n",
       "      <td>135564834</td>\n",
       "    </tr>\n",
       "    <tr>\n",
       "      <th>1174</th>\n",
       "      <td>Pakistan</td>\n",
       "      <td>2002</td>\n",
       "      <td>153403524</td>\n",
       "    </tr>\n",
       "    <tr>\n",
       "      <th>1175</th>\n",
       "      <td>Pakistan</td>\n",
       "      <td>2007</td>\n",
       "      <td>169270617</td>\n",
       "    </tr>\n",
       "    <tr>\n",
       "      <th>1428</th>\n",
       "      <td>Sri Lanka</td>\n",
       "      <td>1952</td>\n",
       "      <td>7982342</td>\n",
       "    </tr>\n",
       "    <tr>\n",
       "      <th>1429</th>\n",
       "      <td>Sri Lanka</td>\n",
       "      <td>1957</td>\n",
       "      <td>9128546</td>\n",
       "    </tr>\n",
       "    <tr>\n",
       "      <th>1430</th>\n",
       "      <td>Sri Lanka</td>\n",
       "      <td>1962</td>\n",
       "      <td>10421936</td>\n",
       "    </tr>\n",
       "    <tr>\n",
       "      <th>1431</th>\n",
       "      <td>Sri Lanka</td>\n",
       "      <td>1967</td>\n",
       "      <td>11737396</td>\n",
       "    </tr>\n",
       "    <tr>\n",
       "      <th>1432</th>\n",
       "      <td>Sri Lanka</td>\n",
       "      <td>1972</td>\n",
       "      <td>13016733</td>\n",
       "    </tr>\n",
       "    <tr>\n",
       "      <th>1433</th>\n",
       "      <td>Sri Lanka</td>\n",
       "      <td>1977</td>\n",
       "      <td>14116836</td>\n",
       "    </tr>\n",
       "    <tr>\n",
       "      <th>1434</th>\n",
       "      <td>Sri Lanka</td>\n",
       "      <td>1982</td>\n",
       "      <td>15410151</td>\n",
       "    </tr>\n",
       "    <tr>\n",
       "      <th>1435</th>\n",
       "      <td>Sri Lanka</td>\n",
       "      <td>1987</td>\n",
       "      <td>16495304</td>\n",
       "    </tr>\n",
       "    <tr>\n",
       "      <th>1436</th>\n",
       "      <td>Sri Lanka</td>\n",
       "      <td>1992</td>\n",
       "      <td>17587060</td>\n",
       "    </tr>\n",
       "    <tr>\n",
       "      <th>1437</th>\n",
       "      <td>Sri Lanka</td>\n",
       "      <td>1997</td>\n",
       "      <td>18698655</td>\n",
       "    </tr>\n",
       "    <tr>\n",
       "      <th>1438</th>\n",
       "      <td>Sri Lanka</td>\n",
       "      <td>2002</td>\n",
       "      <td>19576783</td>\n",
       "    </tr>\n",
       "    <tr>\n",
       "      <th>1439</th>\n",
       "      <td>Sri Lanka</td>\n",
       "      <td>2007</td>\n",
       "      <td>20378239</td>\n",
       "    </tr>\n",
       "  </tbody>\n",
       "</table>\n",
       "</div>"
      ],
      "text/plain": [
       "         country  year  population\n",
       "96    Bangladesh  1952    46886859\n",
       "97    Bangladesh  1957    51365468\n",
       "98    Bangladesh  1962    56839289\n",
       "99    Bangladesh  1967    62821884\n",
       "100   Bangladesh  1972    70759295\n",
       "101   Bangladesh  1977    80428306\n",
       "102   Bangladesh  1982    93074406\n",
       "103   Bangladesh  1987   103764241\n",
       "104   Bangladesh  1992   113704579\n",
       "105   Bangladesh  1997   123315288\n",
       "106   Bangladesh  2002   135656790\n",
       "107   Bangladesh  2007   150448339\n",
       "696        India  1952   372000000\n",
       "697        India  1957   409000000\n",
       "698        India  1962   454000000\n",
       "699        India  1967   506000000\n",
       "700        India  1972   567000000\n",
       "701        India  1977   634000000\n",
       "702        India  1982   708000000\n",
       "703        India  1987   788000000\n",
       "704        India  1992   872000000\n",
       "705        India  1997   959000000\n",
       "706        India  2002  1034172547\n",
       "707        India  2007  1110396331\n",
       "1068       Nepal  1952     9182536\n",
       "1069       Nepal  1957     9682338\n",
       "1070       Nepal  1962    10332057\n",
       "1071       Nepal  1967    11261690\n",
       "1072       Nepal  1972    12412593\n",
       "1073       Nepal  1977    13933198\n",
       "1074       Nepal  1982    15796314\n",
       "1075       Nepal  1987    17917180\n",
       "1076       Nepal  1992    20326209\n",
       "1077       Nepal  1997    23001113\n",
       "1078       Nepal  2002    25873917\n",
       "1079       Nepal  2007    28901790\n",
       "1164    Pakistan  1952    41346560\n",
       "1165    Pakistan  1957    46679944\n",
       "1166    Pakistan  1962    53100671\n",
       "1167    Pakistan  1967    60641899\n",
       "1168    Pakistan  1972    69325921\n",
       "1169    Pakistan  1977    78152686\n",
       "1170    Pakistan  1982    91462088\n",
       "1171    Pakistan  1987   105186881\n",
       "1172    Pakistan  1992   120065004\n",
       "1173    Pakistan  1997   135564834\n",
       "1174    Pakistan  2002   153403524\n",
       "1175    Pakistan  2007   169270617\n",
       "1428   Sri Lanka  1952     7982342\n",
       "1429   Sri Lanka  1957     9128546\n",
       "1430   Sri Lanka  1962    10421936\n",
       "1431   Sri Lanka  1967    11737396\n",
       "1432   Sri Lanka  1972    13016733\n",
       "1433   Sri Lanka  1977    14116836\n",
       "1434   Sri Lanka  1982    15410151\n",
       "1435   Sri Lanka  1987    16495304\n",
       "1436   Sri Lanka  1992    17587060\n",
       "1437   Sri Lanka  1997    18698655\n",
       "1438   Sri Lanka  2002    19576783\n",
       "1439   Sri Lanka  2007    20378239"
      ]
     },
     "execution_count": 70,
     "metadata": {},
     "output_type": "execute_result"
    }
   ],
   "source": [
    "# Population over the years for South Asia\n",
    "g[g.country.isin(south_asia)].drop(['life_exp', 'gdp_cap', 'continent'], axis=1)"
   ]
  },
  {
   "cell_type": "code",
   "execution_count": 69,
   "id": "cf9dd5e2",
   "metadata": {},
   "outputs": [
    {
     "data": {
      "text/html": [
       "<div>\n",
       "<style scoped>\n",
       "    .dataframe tbody tr th:only-of-type {\n",
       "        vertical-align: middle;\n",
       "    }\n",
       "\n",
       "    .dataframe tbody tr th {\n",
       "        vertical-align: top;\n",
       "    }\n",
       "\n",
       "    .dataframe thead th {\n",
       "        text-align: right;\n",
       "    }\n",
       "</style>\n",
       "<table border=\"1\" class=\"dataframe\">\n",
       "  <thead>\n",
       "    <tr style=\"text-align: right;\">\n",
       "      <th></th>\n",
       "      <th>country</th>\n",
       "      <th>year</th>\n",
       "      <th>population</th>\n",
       "      <th>continent</th>\n",
       "    </tr>\n",
       "  </thead>\n",
       "  <tbody>\n",
       "    <tr>\n",
       "      <th>0</th>\n",
       "      <td>Afghanistan</td>\n",
       "      <td>1952</td>\n",
       "      <td>8425333</td>\n",
       "      <td>Asia</td>\n",
       "    </tr>\n",
       "    <tr>\n",
       "      <th>1</th>\n",
       "      <td>Afghanistan</td>\n",
       "      <td>1957</td>\n",
       "      <td>9240934</td>\n",
       "      <td>Asia</td>\n",
       "    </tr>\n",
       "    <tr>\n",
       "      <th>2</th>\n",
       "      <td>Afghanistan</td>\n",
       "      <td>1962</td>\n",
       "      <td>10267083</td>\n",
       "      <td>Asia</td>\n",
       "    </tr>\n",
       "    <tr>\n",
       "      <th>3</th>\n",
       "      <td>Afghanistan</td>\n",
       "      <td>1967</td>\n",
       "      <td>11537966</td>\n",
       "      <td>Asia</td>\n",
       "    </tr>\n",
       "    <tr>\n",
       "      <th>4</th>\n",
       "      <td>Afghanistan</td>\n",
       "      <td>1972</td>\n",
       "      <td>13079460</td>\n",
       "      <td>Asia</td>\n",
       "    </tr>\n",
       "    <tr>\n",
       "      <th>...</th>\n",
       "      <td>...</td>\n",
       "      <td>...</td>\n",
       "      <td>...</td>\n",
       "      <td>...</td>\n",
       "    </tr>\n",
       "    <tr>\n",
       "      <th>1699</th>\n",
       "      <td>Zimbabwe</td>\n",
       "      <td>1987</td>\n",
       "      <td>9216418</td>\n",
       "      <td>Africa</td>\n",
       "    </tr>\n",
       "    <tr>\n",
       "      <th>1700</th>\n",
       "      <td>Zimbabwe</td>\n",
       "      <td>1992</td>\n",
       "      <td>10704340</td>\n",
       "      <td>Africa</td>\n",
       "    </tr>\n",
       "    <tr>\n",
       "      <th>1701</th>\n",
       "      <td>Zimbabwe</td>\n",
       "      <td>1997</td>\n",
       "      <td>11404948</td>\n",
       "      <td>Africa</td>\n",
       "    </tr>\n",
       "    <tr>\n",
       "      <th>1702</th>\n",
       "      <td>Zimbabwe</td>\n",
       "      <td>2002</td>\n",
       "      <td>11926563</td>\n",
       "      <td>Africa</td>\n",
       "    </tr>\n",
       "    <tr>\n",
       "      <th>1703</th>\n",
       "      <td>Zimbabwe</td>\n",
       "      <td>2007</td>\n",
       "      <td>12311143</td>\n",
       "      <td>Africa</td>\n",
       "    </tr>\n",
       "  </tbody>\n",
       "</table>\n",
       "<p>1704 rows × 4 columns</p>\n",
       "</div>"
      ],
      "text/plain": [
       "          country  year  population continent\n",
       "0     Afghanistan  1952     8425333      Asia\n",
       "1     Afghanistan  1957     9240934      Asia\n",
       "2     Afghanistan  1962    10267083      Asia\n",
       "3     Afghanistan  1967    11537966      Asia\n",
       "4     Afghanistan  1972    13079460      Asia\n",
       "...           ...   ...         ...       ...\n",
       "1699     Zimbabwe  1987     9216418    Africa\n",
       "1700     Zimbabwe  1992    10704340    Africa\n",
       "1701     Zimbabwe  1997    11404948    Africa\n",
       "1702     Zimbabwe  2002    11926563    Africa\n",
       "1703     Zimbabwe  2007    12311143    Africa\n",
       "\n",
       "[1704 rows x 4 columns]"
      ]
     },
     "execution_count": 69,
     "metadata": {},
     "output_type": "execute_result"
    }
   ],
   "source": [
    "g.drop(['life_exp', 'gdp_cap'], axis='columns')"
   ]
  },
  {
   "cell_type": "code",
   "execution_count": 72,
   "id": "f9a782a9",
   "metadata": {},
   "outputs": [
    {
     "data": {
      "text/html": [
       "<div>\n",
       "<style scoped>\n",
       "    .dataframe tbody tr th:only-of-type {\n",
       "        vertical-align: middle;\n",
       "    }\n",
       "\n",
       "    .dataframe tbody tr th {\n",
       "        vertical-align: top;\n",
       "    }\n",
       "\n",
       "    .dataframe thead th {\n",
       "        text-align: right;\n",
       "    }\n",
       "</style>\n",
       "<table border=\"1\" class=\"dataframe\">\n",
       "  <thead>\n",
       "    <tr style=\"text-align: right;\">\n",
       "      <th></th>\n",
       "      <th>year</th>\n",
       "      <th>population</th>\n",
       "      <th>life_exp</th>\n",
       "      <th>gdp_cap</th>\n",
       "    </tr>\n",
       "    <tr>\n",
       "      <th>country</th>\n",
       "      <th></th>\n",
       "      <th></th>\n",
       "      <th></th>\n",
       "      <th></th>\n",
       "    </tr>\n",
       "  </thead>\n",
       "  <tbody>\n",
       "    <tr>\n",
       "      <th>Afghanistan</th>\n",
       "      <td>1979.5</td>\n",
       "      <td>1.582372e+07</td>\n",
       "      <td>37.478833</td>\n",
       "      <td>802.674598</td>\n",
       "    </tr>\n",
       "    <tr>\n",
       "      <th>Albania</th>\n",
       "      <td>1979.5</td>\n",
       "      <td>2.580249e+06</td>\n",
       "      <td>68.432917</td>\n",
       "      <td>3255.366633</td>\n",
       "    </tr>\n",
       "    <tr>\n",
       "      <th>Algeria</th>\n",
       "      <td>1979.5</td>\n",
       "      <td>1.987541e+07</td>\n",
       "      <td>59.030167</td>\n",
       "      <td>4426.025973</td>\n",
       "    </tr>\n",
       "    <tr>\n",
       "      <th>Angola</th>\n",
       "      <td>1979.5</td>\n",
       "      <td>7.309390e+06</td>\n",
       "      <td>37.883500</td>\n",
       "      <td>3607.100529</td>\n",
       "    </tr>\n",
       "    <tr>\n",
       "      <th>Argentina</th>\n",
       "      <td>1979.5</td>\n",
       "      <td>2.860224e+07</td>\n",
       "      <td>69.060417</td>\n",
       "      <td>8955.553783</td>\n",
       "    </tr>\n",
       "    <tr>\n",
       "      <th>...</th>\n",
       "      <td>...</td>\n",
       "      <td>...</td>\n",
       "      <td>...</td>\n",
       "      <td>...</td>\n",
       "    </tr>\n",
       "    <tr>\n",
       "      <th>Vietnam</th>\n",
       "      <td>1979.5</td>\n",
       "      <td>5.456857e+07</td>\n",
       "      <td>57.479500</td>\n",
       "      <td>1017.712615</td>\n",
       "    </tr>\n",
       "    <tr>\n",
       "      <th>West Bank and Gaza</th>\n",
       "      <td>1979.5</td>\n",
       "      <td>1.848606e+06</td>\n",
       "      <td>60.328667</td>\n",
       "      <td>3759.996781</td>\n",
       "    </tr>\n",
       "    <tr>\n",
       "      <th>Yemen, Rep.</th>\n",
       "      <td>1979.5</td>\n",
       "      <td>1.084319e+07</td>\n",
       "      <td>46.780417</td>\n",
       "      <td>1569.274672</td>\n",
       "    </tr>\n",
       "    <tr>\n",
       "      <th>Zambia</th>\n",
       "      <td>1979.5</td>\n",
       "      <td>6.353805e+06</td>\n",
       "      <td>45.996333</td>\n",
       "      <td>1358.199409</td>\n",
       "    </tr>\n",
       "    <tr>\n",
       "      <th>Zimbabwe</th>\n",
       "      <td>1979.5</td>\n",
       "      <td>7.641966e+06</td>\n",
       "      <td>52.663167</td>\n",
       "      <td>635.858042</td>\n",
       "    </tr>\n",
       "  </tbody>\n",
       "</table>\n",
       "<p>142 rows × 4 columns</p>\n",
       "</div>"
      ],
      "text/plain": [
       "                      year    population   life_exp      gdp_cap\n",
       "country                                                         \n",
       "Afghanistan         1979.5  1.582372e+07  37.478833   802.674598\n",
       "Albania             1979.5  2.580249e+06  68.432917  3255.366633\n",
       "Algeria             1979.5  1.987541e+07  59.030167  4426.025973\n",
       "Angola              1979.5  7.309390e+06  37.883500  3607.100529\n",
       "Argentina           1979.5  2.860224e+07  69.060417  8955.553783\n",
       "...                    ...           ...        ...          ...\n",
       "Vietnam             1979.5  5.456857e+07  57.479500  1017.712615\n",
       "West Bank and Gaza  1979.5  1.848606e+06  60.328667  3759.996781\n",
       "Yemen, Rep.         1979.5  1.084319e+07  46.780417  1569.274672\n",
       "Zambia              1979.5  6.353805e+06  45.996333  1358.199409\n",
       "Zimbabwe            1979.5  7.641966e+06  52.663167   635.858042\n",
       "\n",
       "[142 rows x 4 columns]"
      ]
     },
     "execution_count": 72,
     "metadata": {},
     "output_type": "execute_result"
    }
   ],
   "source": [
    "g.groupby('country').mean()"
   ]
  },
  {
   "cell_type": "code",
   "execution_count": 76,
   "id": "3cdbacc1",
   "metadata": {},
   "outputs": [
    {
     "data": {
      "text/plain": [
       "country\n",
       "Afghanistan           1.582372e+07\n",
       "Albania               2.580249e+06\n",
       "Algeria               1.987541e+07\n",
       "Angola                7.309390e+06\n",
       "Argentina             2.860224e+07\n",
       "                          ...     \n",
       "Vietnam               5.456857e+07\n",
       "West Bank and Gaza    1.848606e+06\n",
       "Yemen, Rep.           1.084319e+07\n",
       "Zambia                6.353805e+06\n",
       "Zimbabwe              7.641966e+06\n",
       "Name: population, Length: 142, dtype: float64"
      ]
     },
     "execution_count": 76,
     "metadata": {},
     "output_type": "execute_result"
    }
   ],
   "source": [
    "g.groupby('country')['population'].mean()"
   ]
  },
  {
   "cell_type": "code",
   "execution_count": 78,
   "id": "374da66e",
   "metadata": {},
   "outputs": [
    {
     "name": "stderr",
     "output_type": "stream",
     "text": [
      "C:\\Users\\agulati\\Anaconda3\\lib\\site-packages\\pandas\\core\\frame.py:4308: SettingWithCopyWarning: \n",
      "A value is trying to be set on a copy of a slice from a DataFrame\n",
      "\n",
      "See the caveats in the documentation: https://pandas.pydata.org/pandas-docs/stable/user_guide/indexing.html#returning-a-view-versus-a-copy\n",
      "  return super().drop(\n"
     ]
    }
   ],
   "source": [
    "sa = g[g.country.isin(south_asia)]\n",
    "sa.drop(['life_exp', 'gdp_cap', 'continent'], axis=1, inplace=True)"
   ]
  },
  {
   "cell_type": "code",
   "execution_count": 82,
   "id": "cc6a3c9e",
   "metadata": {},
   "outputs": [
    {
     "data": {
      "text/plain": [
       "<AxesSubplot:xlabel='country'>"
      ]
     },
     "execution_count": 82,
     "metadata": {},
     "output_type": "execute_result"
    },
    {
     "data": {
      "image/png": "[encoded data removed]",
      "text/plain": [
       "<Figure size 432x288 with 1 Axes>"
      ]
     },
     "metadata": {
      "needs_background": "light"
     },
     "output_type": "display_data"
    }
   ],
   "source": [
    "sa.groupby('country')['population'].mean().plot(kind='bar')"
   ]
  },
  {
   "cell_type": "code",
   "execution_count": null,
   "id": "bb0bc89b",
   "metadata": {},
   "outputs": [],
   "source": []
  },
  {
   "cell_type": "code",
   "execution_count": 89,
   "id": "bd1f58c2",
   "metadata": {},
   "outputs": [
    {
     "data": {
      "text/plain": [
       "array([<AxesSubplot:title={'center':'population'}, xlabel='country'>,\n",
       "       <AxesSubplot:title={'center':'life_exp'}, xlabel='country'>,\n",
       "       <AxesSubplot:title={'center':'gdp_cap'}, xlabel='country'>],\n",
       "      dtype=object)"
      ]
     },
     "execution_count": 89,
     "metadata": {},
     "output_type": "execute_result"
    },
    {
     "data": {
      "image/png": "[encoded data removed]",
      "text/plain": [
       "<Figure size 720x720 with 3 Axes>"
      ]
     },
     "metadata": {
      "needs_background": "light"
     },
     "output_type": "display_data"
    }
   ],
   "source": [
    "sa = g[g.country.isin(south_asia)]\n",
    "sa.groupby('country')[['population', 'life_exp', 'gdp_cap']].mean().plot(kind='bar', subplots=(3,1), figsize=(10,10))"
   ]
  },
  {
   "cell_type": "code",
   "execution_count": 91,
   "id": "138ed619",
   "metadata": {},
   "outputs": [
    {
     "data": {
      "text/plain": [
       "<AxesSubplot:xlabel='country'>"
      ]
     },
     "execution_count": 91,
     "metadata": {},
     "output_type": "execute_result"
    },
    {
     "data": {
      "image/png": "[encoded data removed]",
      "text/plain": [
       "<Figure size 432x288 with 1 Axes>"
      ]
     },
     "metadata": {
      "needs_background": "light"
     },
     "output_type": "display_data"
    }
   ],
   "source": [
    "sa = g[g.country.isin(south_asia)]\n",
    "sa.groupby('country')[['population', 'life_exp', 'gdp_cap']].mean().plot(kind='bar')"
   ]
  },
  {
   "cell_type": "code",
   "execution_count": 95,
   "id": "c3e72f5e",
   "metadata": {},
   "outputs": [
    {
     "data": {
      "text/plain": [
       "count      60.000000\n",
       "mean      183.333419\n",
       "std       285.931901\n",
       "min         7.982342\n",
       "25%        17.314121\n",
       "50%        58.740594\n",
       "75%       139.354677\n",
       "max      1110.396331\n",
       "Name: population, dtype: float64"
      ]
     },
     "execution_count": 95,
     "metadata": {},
     "output_type": "execute_result"
    }
   ],
   "source": [
    "(sa.population / 1e6).describe()"
   ]
  },
  {
   "cell_type": "code",
   "execution_count": 98,
   "id": "2519bf2f",
   "metadata": {
    "scrolled": true
   },
   "outputs": [
    {
     "name": "stderr",
     "output_type": "stream",
     "text": [
      "C:\\Users\\agulati\\Anaconda3\\lib\\site-packages\\pandas\\core\\generic.py:5494: SettingWithCopyWarning: \n",
      "A value is trying to be set on a copy of a slice from a DataFrame.\n",
      "Try using .loc[row_indexer,col_indexer] = value instead\n",
      "\n",
      "See the caveats in the documentation: https://pandas.pydata.org/pandas-docs/stable/user_guide/indexing.html#returning-a-view-versus-a-copy\n",
      "  self[name] = value\n"
     ]
    },
    {
     "data": {
      "text/html": [
       "<div>\n",
       "<style scoped>\n",
       "    .dataframe tbody tr th:only-of-type {\n",
       "        vertical-align: middle;\n",
       "    }\n",
       "\n",
       "    .dataframe tbody tr th {\n",
       "        vertical-align: top;\n",
       "    }\n",
       "\n",
       "    .dataframe thead th {\n",
       "        text-align: right;\n",
       "    }\n",
       "</style>\n",
       "<table border=\"1\" class=\"dataframe\">\n",
       "  <thead>\n",
       "    <tr style=\"text-align: right;\">\n",
       "      <th></th>\n",
       "      <th>year</th>\n",
       "      <th>population</th>\n",
       "      <th>life_exp</th>\n",
       "      <th>gdp_cap</th>\n",
       "    </tr>\n",
       "  </thead>\n",
       "  <tbody>\n",
       "    <tr>\n",
       "      <th>count</th>\n",
       "      <td>60.000000</td>\n",
       "      <td>60.000000</td>\n",
       "      <td>60.000000</td>\n",
       "      <td>60.000000</td>\n",
       "    </tr>\n",
       "    <tr>\n",
       "      <th>mean</th>\n",
       "      <td>1979.500000</td>\n",
       "      <td>183.333419</td>\n",
       "      <td>54.678967</td>\n",
       "      <td>1190.317151</td>\n",
       "    </tr>\n",
       "    <tr>\n",
       "      <th>std</th>\n",
       "      <td>17.405921</td>\n",
       "      <td>285.931901</td>\n",
       "      <td>10.125075</td>\n",
       "      <td>695.295471</td>\n",
       "    </tr>\n",
       "    <tr>\n",
       "      <th>min</th>\n",
       "      <td>1952.000000</td>\n",
       "      <td>7.982342</td>\n",
       "      <td>36.157000</td>\n",
       "      <td>545.865723</td>\n",
       "    </tr>\n",
       "    <tr>\n",
       "      <th>25%</th>\n",
       "      <td>1965.750000</td>\n",
       "      <td>17.314121</td>\n",
       "      <td>46.450250</td>\n",
       "      <td>692.169718</td>\n",
       "    </tr>\n",
       "    <tr>\n",
       "      <th>50%</th>\n",
       "      <td>1979.500000</td>\n",
       "      <td>58.740594</td>\n",
       "      <td>56.088000</td>\n",
       "      <td>974.641355</td>\n",
       "    </tr>\n",
       "    <tr>\n",
       "      <th>75%</th>\n",
       "      <td>1993.250000</td>\n",
       "      <td>139.354677</td>\n",
       "      <td>62.363750</td>\n",
       "      <td>1404.297802</td>\n",
       "    </tr>\n",
       "    <tr>\n",
       "      <th>max</th>\n",
       "      <td>2007.000000</td>\n",
       "      <td>1110.396331</td>\n",
       "      <td>72.396000</td>\n",
       "      <td>3970.095407</td>\n",
       "    </tr>\n",
       "  </tbody>\n",
       "</table>\n",
       "</div>"
      ],
      "text/plain": [
       "              year   population   life_exp      gdp_cap\n",
       "count    60.000000    60.000000  60.000000    60.000000\n",
       "mean   1979.500000   183.333419  54.678967  1190.317151\n",
       "std      17.405921   285.931901  10.125075   695.295471\n",
       "min    1952.000000     7.982342  36.157000   545.865723\n",
       "25%    1965.750000    17.314121  46.450250   692.169718\n",
       "50%    1979.500000    58.740594  56.088000   974.641355\n",
       "75%    1993.250000   139.354677  62.363750  1404.297802\n",
       "max    2007.000000  1110.396331  72.396000  3970.095407"
      ]
     },
     "execution_count": 98,
     "metadata": {},
     "output_type": "execute_result"
    }
   ],
   "source": [
    "sa.population = sa.population / 1e6\n",
    "sa.describe()"
   ]
  },
  {
   "cell_type": "code",
   "execution_count": 99,
   "id": "2b18b3f3",
   "metadata": {},
   "outputs": [
    {
     "data": {
      "text/plain": [
       "<AxesSubplot:xlabel='country'>"
      ]
     },
     "execution_count": 99,
     "metadata": {},
     "output_type": "execute_result"
    },
    {
     "data": {
      "image/png": "[encoded data removed]",
      "text/plain": [
       "<Figure size 432x288 with 1 Axes>"
      ]
     },
     "metadata": {
      "needs_background": "light"
     },
     "output_type": "display_data"
    }
   ],
   "source": [
    "sa.groupby('country')[['population', 'life_exp', 'gdp_cap']].mean().plot(kind='bar')"
   ]
  },
  {
   "cell_type": "code",
   "execution_count": null,
   "id": "0dca7717",
   "metadata": {},
   "outputs": [],
   "source": []
  },
  {
   "cell_type": "code",
   "execution_count": 105,
   "id": "b12bdccf",
   "metadata": {},
   "outputs": [
    {
     "data": {
      "text/plain": [
       "Int64Index([1952, 1957, 1962, 1967, 1972, 1977, 1982, 1987, 1992, 1997, 2002,\n",
       "            2007],\n",
       "           dtype='int64', name='year')"
      ]
     },
     "execution_count": 105,
     "metadata": {},
     "output_type": "execute_result"
    }
   ],
   "source": [
    "sa.groupby(['year', 'country']).mean().index.levels[0]"
   ]
  },
  {
   "cell_type": "code",
   "execution_count": 110,
   "id": "770f86fb",
   "metadata": {},
   "outputs": [
    {
     "data": {
      "text/plain": [
       "<AxesSubplot:xlabel='year,country'>"
      ]
     },
     "execution_count": 110,
     "metadata": {},
     "output_type": "execute_result"
    },
    {
     "data": {
      "image/png": "[encoded data removed]",
      "text/plain": [
       "<Figure size 432x288 with 1 Axes>"
      ]
     },
     "metadata": {
      "needs_background": "light"
     },
     "output_type": "display_data"
    }
   ],
   "source": [
    "sa.groupby(['year', 'country']).mean()['population'].plot()"
   ]
  },
  {
   "cell_type": "code",
   "execution_count": 113,
   "id": "b1144a56",
   "metadata": {},
   "outputs": [
    {
     "data": {
      "text/plain": [
       "year  country   \n",
       "1952  Bangladesh      46.886859\n",
       "      India          372.000000\n",
       "      Nepal            9.182536\n",
       "      Pakistan        41.346560\n",
       "      Sri Lanka        7.982342\n",
       "1957  Bangladesh      51.365468\n",
       "      India          409.000000\n",
       "      Nepal            9.682338\n",
       "      Pakistan        46.679944\n",
       "      Sri Lanka        9.128546\n",
       "1962  Bangladesh      56.839289\n",
       "      India          454.000000\n",
       "      Nepal           10.332057\n",
       "      Pakistan        53.100671\n",
       "      Sri Lanka       10.421936\n",
       "1967  Bangladesh      62.821884\n",
       "      India          506.000000\n",
       "      Nepal           11.261690\n",
       "      Pakistan        60.641899\n",
       "      Sri Lanka       11.737396\n",
       "1972  Bangladesh      70.759295\n",
       "      India          567.000000\n",
       "      Nepal           12.412593\n",
       "      Pakistan        69.325921\n",
       "      Sri Lanka       13.016733\n",
       "1977  Bangladesh      80.428306\n",
       "      India          634.000000\n",
       "      Nepal           13.933198\n",
       "      Pakistan        78.152686\n",
       "      Sri Lanka       14.116836\n",
       "1982  Bangladesh      93.074406\n",
       "      India          708.000000\n",
       "      Nepal           15.796314\n",
       "      Pakistan        91.462088\n",
       "      Sri Lanka       15.410151\n",
       "1987  Bangladesh     103.764241\n",
       "      India          788.000000\n",
       "      Nepal           17.917180\n",
       "      Pakistan       105.186881\n",
       "      Sri Lanka       16.495304\n",
       "1992  Bangladesh     113.704579\n",
       "      India          872.000000\n",
       "      Nepal           20.326209\n",
       "      Pakistan       120.065004\n",
       "      Sri Lanka       17.587060\n",
       "1997  Bangladesh     123.315288\n",
       "      India          959.000000\n",
       "      Nepal           23.001113\n",
       "      Pakistan       135.564834\n",
       "      Sri Lanka       18.698655\n",
       "2002  Bangladesh     135.656790\n",
       "      India         1034.172547\n",
       "      Nepal           25.873917\n",
       "      Pakistan       153.403524\n",
       "      Sri Lanka       19.576783\n",
       "2007  Bangladesh     150.448339\n",
       "      India         1110.396331\n",
       "      Nepal           28.901790\n",
       "      Pakistan       169.270617\n",
       "      Sri Lanka       20.378239\n",
       "Name: population, dtype: float64"
      ]
     },
     "execution_count": 113,
     "metadata": {},
     "output_type": "execute_result"
    }
   ],
   "source": [
    "sa.groupby(['year', 'country']).mean()['population']"
   ]
  },
  {
   "cell_type": "code",
   "execution_count": 112,
   "id": "fc6a6ac6",
   "metadata": {},
   "outputs": [
    {
     "data": {
      "text/html": [
       "<div>\n",
       "<style scoped>\n",
       "    .dataframe tbody tr th:only-of-type {\n",
       "        vertical-align: middle;\n",
       "    }\n",
       "\n",
       "    .dataframe tbody tr th {\n",
       "        vertical-align: top;\n",
       "    }\n",
       "\n",
       "    .dataframe thead th {\n",
       "        text-align: right;\n",
       "    }\n",
       "</style>\n",
       "<table border=\"1\" class=\"dataframe\">\n",
       "  <thead>\n",
       "    <tr style=\"text-align: right;\">\n",
       "      <th>country</th>\n",
       "      <th>Bangladesh</th>\n",
       "      <th>India</th>\n",
       "      <th>Nepal</th>\n",
       "      <th>Pakistan</th>\n",
       "      <th>Sri Lanka</th>\n",
       "    </tr>\n",
       "    <tr>\n",
       "      <th>year</th>\n",
       "      <th></th>\n",
       "      <th></th>\n",
       "      <th></th>\n",
       "      <th></th>\n",
       "      <th></th>\n",
       "    </tr>\n",
       "  </thead>\n",
       "  <tbody>\n",
       "    <tr>\n",
       "      <th>1952</th>\n",
       "      <td>46.886859</td>\n",
       "      <td>372.000000</td>\n",
       "      <td>9.182536</td>\n",
       "      <td>41.346560</td>\n",
       "      <td>7.982342</td>\n",
       "    </tr>\n",
       "    <tr>\n",
       "      <th>1957</th>\n",
       "      <td>51.365468</td>\n",
       "      <td>409.000000</td>\n",
       "      <td>9.682338</td>\n",
       "      <td>46.679944</td>\n",
       "      <td>9.128546</td>\n",
       "    </tr>\n",
       "    <tr>\n",
       "      <th>1962</th>\n",
       "      <td>56.839289</td>\n",
       "      <td>454.000000</td>\n",
       "      <td>10.332057</td>\n",
       "      <td>53.100671</td>\n",
       "      <td>10.421936</td>\n",
       "    </tr>\n",
       "    <tr>\n",
       "      <th>1967</th>\n",
       "      <td>62.821884</td>\n",
       "      <td>506.000000</td>\n",
       "      <td>11.261690</td>\n",
       "      <td>60.641899</td>\n",
       "      <td>11.737396</td>\n",
       "    </tr>\n",
       "    <tr>\n",
       "      <th>1972</th>\n",
       "      <td>70.759295</td>\n",
       "      <td>567.000000</td>\n",
       "      <td>12.412593</td>\n",
       "      <td>69.325921</td>\n",
       "      <td>13.016733</td>\n",
       "    </tr>\n",
       "    <tr>\n",
       "      <th>1977</th>\n",
       "      <td>80.428306</td>\n",
       "      <td>634.000000</td>\n",
       "      <td>13.933198</td>\n",
       "      <td>78.152686</td>\n",
       "      <td>14.116836</td>\n",
       "    </tr>\n",
       "    <tr>\n",
       "      <th>1982</th>\n",
       "      <td>93.074406</td>\n",
       "      <td>708.000000</td>\n",
       "      <td>15.796314</td>\n",
       "      <td>91.462088</td>\n",
       "      <td>15.410151</td>\n",
       "    </tr>\n",
       "    <tr>\n",
       "      <th>1987</th>\n",
       "      <td>103.764241</td>\n",
       "      <td>788.000000</td>\n",
       "      <td>17.917180</td>\n",
       "      <td>105.186881</td>\n",
       "      <td>16.495304</td>\n",
       "    </tr>\n",
       "    <tr>\n",
       "      <th>1992</th>\n",
       "      <td>113.704579</td>\n",
       "      <td>872.000000</td>\n",
       "      <td>20.326209</td>\n",
       "      <td>120.065004</td>\n",
       "      <td>17.587060</td>\n",
       "    </tr>\n",
       "    <tr>\n",
       "      <th>1997</th>\n",
       "      <td>123.315288</td>\n",
       "      <td>959.000000</td>\n",
       "      <td>23.001113</td>\n",
       "      <td>135.564834</td>\n",
       "      <td>18.698655</td>\n",
       "    </tr>\n",
       "    <tr>\n",
       "      <th>2002</th>\n",
       "      <td>135.656790</td>\n",
       "      <td>1034.172547</td>\n",
       "      <td>25.873917</td>\n",
       "      <td>153.403524</td>\n",
       "      <td>19.576783</td>\n",
       "    </tr>\n",
       "    <tr>\n",
       "      <th>2007</th>\n",
       "      <td>150.448339</td>\n",
       "      <td>1110.396331</td>\n",
       "      <td>28.901790</td>\n",
       "      <td>169.270617</td>\n",
       "      <td>20.378239</td>\n",
       "    </tr>\n",
       "  </tbody>\n",
       "</table>\n",
       "</div>"
      ],
      "text/plain": [
       "country  Bangladesh        India      Nepal    Pakistan  Sri Lanka\n",
       "year                                                              \n",
       "1952      46.886859   372.000000   9.182536   41.346560   7.982342\n",
       "1957      51.365468   409.000000   9.682338   46.679944   9.128546\n",
       "1962      56.839289   454.000000  10.332057   53.100671  10.421936\n",
       "1967      62.821884   506.000000  11.261690   60.641899  11.737396\n",
       "1972      70.759295   567.000000  12.412593   69.325921  13.016733\n",
       "1977      80.428306   634.000000  13.933198   78.152686  14.116836\n",
       "1982      93.074406   708.000000  15.796314   91.462088  15.410151\n",
       "1987     103.764241   788.000000  17.917180  105.186881  16.495304\n",
       "1992     113.704579   872.000000  20.326209  120.065004  17.587060\n",
       "1997     123.315288   959.000000  23.001113  135.564834  18.698655\n",
       "2002     135.656790  1034.172547  25.873917  153.403524  19.576783\n",
       "2007     150.448339  1110.396331  28.901790  169.270617  20.378239"
      ]
     },
     "execution_count": 112,
     "metadata": {},
     "output_type": "execute_result"
    }
   ],
   "source": [
    "sa.groupby(['year', 'country']).mean()['population'].unstack()"
   ]
  },
  {
   "cell_type": "code",
   "execution_count": 114,
   "id": "17586c45",
   "metadata": {},
   "outputs": [
    {
     "data": {
      "text/plain": [
       "<AxesSubplot:xlabel='year'>"
      ]
     },
     "execution_count": 114,
     "metadata": {},
     "output_type": "execute_result"
    },
    {
     "data": {
      "image/png": "[encoded data removed]",
      "text/plain": [
       "<Figure size 432x288 with 1 Axes>"
      ]
     },
     "metadata": {
      "needs_background": "light"
     },
     "output_type": "display_data"
    }
   ],
   "source": [
    "sa.groupby(['year', 'country']).mean()['population'].unstack().plot()"
   ]
  },
  {
   "cell_type": "code",
   "execution_count": 115,
   "id": "f8892a51",
   "metadata": {},
   "outputs": [
    {
     "data": {
      "text/plain": [
       "<AxesSubplot:xlabel='year'>"
      ]
     },
     "execution_count": 115,
     "metadata": {},
     "output_type": "execute_result"
    },
    {
     "data": {
      "image/png": "[encoded data removed]",
      "text/plain": [
       "<Figure size 432x288 with 1 Axes>"
      ]
     },
     "metadata": {
      "needs_background": "light"
     },
     "output_type": "display_data"
    }
   ],
   "source": [
    "sa.groupby(['year', 'country']).mean()['population'].unstack().plot(kind='bar')"
   ]
  },
  {
   "cell_type": "code",
   "execution_count": null,
   "id": "63aee423",
   "metadata": {},
   "outputs": [],
   "source": []
  },
  {
   "cell_type": "code",
   "execution_count": null,
   "id": "8266dfa3",
   "metadata": {},
   "outputs": [],
   "source": []
  },
  {
   "cell_type": "code",
   "execution_count": null,
   "id": "7b307984",
   "metadata": {},
   "outputs": [],
   "source": []
  }
 ],
 "metadata": {
  "kernelspec": {
   "display_name": "Python 3",
   "language": "python",
   "name": "python3"
  },
  "language_info": {
   "codemirror_mode": {
    "name": "ipython",
    "version": 3
   },
   "file_extension": ".py",
   "mimetype": "text/x-python",
   "name": "python",
   "nbconvert_exporter": "python",
   "pygments_lexer": "ipython3",
   "version": "3.8.8"
  }
 },
 "nbformat": 4,
 "nbformat_minor": 5
}
