{
 "cells": [
  {
   "cell_type": "code",
   "execution_count": 1,
   "id": "d1db5828",
   "metadata": {},
   "outputs": [],
   "source": [
    "name = 'leonardo'\n",
    "nums = [1,2,3,4]"
   ]
  },
  {
   "cell_type": "code",
   "execution_count": 2,
   "id": "db9d9251",
   "metadata": {},
   "outputs": [
    {
     "data": {
      "text/plain": [
       "2889488844912"
      ]
     },
     "execution_count": 2,
     "metadata": {},
     "output_type": "execute_result"
    }
   ],
   "source": [
    "id(name)"
   ]
  },
  {
   "cell_type": "code",
   "execution_count": 3,
   "id": "8904beb9",
   "metadata": {},
   "outputs": [
    {
     "data": {
      "text/plain": [
       "2889488650880"
      ]
     },
     "execution_count": 3,
     "metadata": {},
     "output_type": "execute_result"
    }
   ],
   "source": [
    "id(nums)"
   ]
  },
  {
   "cell_type": "code",
   "execution_count": 4,
   "id": "e1465ab4",
   "metadata": {},
   "outputs": [],
   "source": [
    "nums2 = nums"
   ]
  },
  {
   "cell_type": "code",
   "execution_count": 6,
   "id": "d65ab388",
   "metadata": {},
   "outputs": [],
   "source": [
    "nums.append(5)"
   ]
  },
  {
   "cell_type": "code",
   "execution_count": 7,
   "id": "26032ea9",
   "metadata": {},
   "outputs": [
    {
     "data": {
      "text/plain": [
       "[1, 2, 3, 4, 5]"
      ]
     },
     "execution_count": 7,
     "metadata": {},
     "output_type": "execute_result"
    }
   ],
   "source": [
    "nums"
   ]
  },
  {
   "cell_type": "code",
   "execution_count": 8,
   "id": "90efd506",
   "metadata": {},
   "outputs": [
    {
     "data": {
      "text/plain": [
       "2889488650880"
      ]
     },
     "execution_count": 8,
     "metadata": {},
     "output_type": "execute_result"
    }
   ],
   "source": [
    "id(nums)"
   ]
  },
  {
   "cell_type": "code",
   "execution_count": 10,
   "id": "bdc113fc",
   "metadata": {},
   "outputs": [],
   "source": [
    "name = name.upper()"
   ]
  },
  {
   "cell_type": "code",
   "execution_count": 11,
   "id": "4138666e",
   "metadata": {},
   "outputs": [
    {
     "data": {
      "text/plain": [
       "'LEONARDO'"
      ]
     },
     "execution_count": 11,
     "metadata": {},
     "output_type": "execute_result"
    }
   ],
   "source": [
    "name"
   ]
  },
  {
   "cell_type": "code",
   "execution_count": 12,
   "id": "6bb2fc48",
   "metadata": {},
   "outputs": [
    {
     "data": {
      "text/plain": [
       "2889489610416"
      ]
     },
     "execution_count": 12,
     "metadata": {},
     "output_type": "execute_result"
    }
   ],
   "source": [
    "id(name)"
   ]
  },
  {
   "cell_type": "code",
   "execution_count": 13,
   "id": "6b9e6ea3",
   "metadata": {},
   "outputs": [
    {
     "data": {
      "text/plain": [
       "[1, 2, 3, 4, 5]"
      ]
     },
     "execution_count": 13,
     "metadata": {},
     "output_type": "execute_result"
    }
   ],
   "source": [
    "nums2"
   ]
  },
  {
   "cell_type": "code",
   "execution_count": 14,
   "id": "0c47affb",
   "metadata": {},
   "outputs": [
    {
     "data": {
      "text/plain": [
       "2889488650880"
      ]
     },
     "execution_count": 14,
     "metadata": {},
     "output_type": "execute_result"
    }
   ],
   "source": [
    "id(nums2)"
   ]
  },
  {
   "cell_type": "code",
   "execution_count": 15,
   "id": "841e3b8d",
   "metadata": {},
   "outputs": [
    {
     "data": {
      "text/plain": [
       "2889489687680"
      ]
     },
     "execution_count": 15,
     "metadata": {},
     "output_type": "execute_result"
    }
   ],
   "source": [
    "nums2 = nums.copy()\n",
    "id(nums2)"
   ]
  },
  {
   "cell_type": "code",
   "execution_count": 21,
   "id": "422affe6",
   "metadata": {},
   "outputs": [],
   "source": [
    "sentence = 'a man a plan a canal panama'\n",
    "sentence = 'a an the a a the an an an'\n",
    "\n",
    "# a-3\n",
    "# an-4\n",
    "\n",
    "# a-3\n",
    "# man-1\n",
    "# plan-1"
   ]
  },
  {
   "cell_type": "code",
   "execution_count": 16,
   "id": "59281cd9",
   "metadata": {},
   "outputs": [
    {
     "data": {
      "text/plain": [
       "True"
      ]
     },
     "execution_count": 16,
     "metadata": {},
     "output_type": "execute_result"
    }
   ],
   "source": [
    "'ab' in 'abracadabra'"
   ]
  },
  {
   "cell_type": "code",
   "execution_count": 17,
   "id": "66955898",
   "metadata": {},
   "outputs": [
    {
     "data": {
      "text/plain": [
       "True"
      ]
     },
     "execution_count": 17,
     "metadata": {},
     "output_type": "execute_result"
    }
   ],
   "source": [
    "1 in [1,2,3,4]"
   ]
  },
  {
   "cell_type": "code",
   "execution_count": null,
   "id": "8c077c62",
   "metadata": {},
   "outputs": [],
   "source": [
    "# sqs = {1:1, 2:4, 3:9}\n",
    "sqs = {}\n",
    "for"
   ]
  },
  {
   "cell_type": "code",
   "execution_count": 116,
   "id": "a156e199",
   "metadata": {},
   "outputs": [
    {
     "data": {
      "text/plain": [
       "'\\njai,CEO,1,12324.56\\nviru,CTO,2,11111.11\\nbasanti,CFO,3,22222.22\\n'"
      ]
     },
     "execution_count": 116,
     "metadata": {},
     "output_type": "execute_result"
    }
   ],
   "source": [
    "emps_data = '''\n",
    "jai,CEO,1,12324.56\n",
    "viru,CTO,2,11111.11\n",
    "basanti,CFO,3,22222.22\n",
    "'''\n",
    "emps_data"
   ]
  },
  {
   "cell_type": "code",
   "execution_count": null,
   "id": "8bb77929",
   "metadata": {},
   "outputs": [],
   "source": [
    "find_emp('jai', 'salary')"
   ]
  },
  {
   "cell_type": "code",
   "execution_count": 19,
   "id": "653f617e",
   "metadata": {},
   "outputs": [
    {
     "data": {
      "text/plain": [
       "{1: 1, 2: 4, 3: 9, 4: 16, 5: 25, 6: 36, 7: 49, 8: 64, 9: 81, 10: 100}"
      ]
     },
     "execution_count": 19,
     "metadata": {},
     "output_type": "execute_result"
    }
   ],
   "source": [
    "sqs = {}\n",
    "for num in range(1,10+1):\n",
    "    sqs[num] = num**2\n",
    "    \n",
    "sqs"
   ]
  },
  {
   "cell_type": "code",
   "execution_count": 26,
   "id": "127ec681",
   "metadata": {},
   "outputs": [
    {
     "name": "stdout",
     "output_type": "stream",
     "text": [
      "a an the a a the an an an\n",
      "{'a': 1}\n",
      "{'a': 1, 'an': 1}\n",
      "{'a': 1, 'an': 1, 'the': 1}\n",
      "{'a': 2, 'an': 1, 'the': 1}\n",
      "{'a': 3, 'an': 1, 'the': 1}\n",
      "{'a': 3, 'an': 1, 'the': 2}\n",
      "{'a': 3, 'an': 2, 'the': 2}\n",
      "{'a': 3, 'an': 3, 'the': 2}\n",
      "{'a': 3, 'an': 4, 'the': 2}\n"
     ]
    }
   ],
   "source": [
    "word_freq = {}\n",
    "print(sentence)\n",
    "for word in sentence.split():\n",
    "    if word in word_freq:\n",
    "        word_freq[word] += 1\n",
    "    else:\n",
    "        word_freq[word] = 1\n",
    "        \n",
    "    print(word_freq)"
   ]
  },
  {
   "cell_type": "code",
   "execution_count": 27,
   "id": "5b578a32",
   "metadata": {},
   "outputs": [],
   "source": [
    "def sq(num):\n",
    "    return num**2"
   ]
  },
  {
   "cell_type": "code",
   "execution_count": 41,
   "id": "728213bd",
   "metadata": {},
   "outputs": [],
   "source": [
    "def pbar(nums, char='#'):\n",
    "    for num in nums:\n",
    "        print(char*num, num)"
   ]
  },
  {
   "cell_type": "code",
   "execution_count": 39,
   "id": "a4eecb9f",
   "metadata": {},
   "outputs": [
    {
     "name": "stdout",
     "output_type": "stream",
     "text": [
      "--- 3\n",
      "- 1\n",
      "------ 6\n",
      "---- 4\n"
     ]
    }
   ],
   "source": [
    "pbar([3,1,6,4], '-')"
   ]
  },
  {
   "cell_type": "code",
   "execution_count": 44,
   "id": "d57d85cc",
   "metadata": {},
   "outputs": [],
   "source": [
    "def calc_freq(sentence):\n",
    "    word_freq = {}\n",
    "\n",
    "    for word in sentence.split():\n",
    "        if word in word_freq:\n",
    "            word_freq[word] += 1\n",
    "        else:\n",
    "            word_freq[word] = 1\n",
    "    \n",
    "    return word_freq"
   ]
  },
  {
   "cell_type": "code",
   "execution_count": 45,
   "id": "d64cc348",
   "metadata": {},
   "outputs": [
    {
     "data": {
      "text/plain": [
       "{'a': 3, 'an': 4, 'the': 2}"
      ]
     },
     "execution_count": 45,
     "metadata": {},
     "output_type": "execute_result"
    }
   ],
   "source": [
    "calc_freq(sentence)"
   ]
  },
  {
   "cell_type": "code",
   "execution_count": 68,
   "id": "3040cc31",
   "metadata": {},
   "outputs": [],
   "source": [
    "def parse(emp_data):\n",
    "    emps = {}\n",
    "\n",
    "    for emp_data in emps_data.strip().splitlines():\n",
    "    #     name, emp_data = emp_data.split(',', 1)\n",
    "        emp = emp_data.split(',')\n",
    "        name = emp.pop(0)\n",
    "        keys = 'desig empid salary'.split()\n",
    "        emps[name] = dict(zip(keys, emp))\n",
    "\n",
    "    return emps\n",
    "\n",
    "def lookup(emps, name, field='empid'):\n",
    "    return emps[name][field]"
   ]
  },
  {
   "cell_type": "code",
   "execution_count": 71,
   "id": "f2ac4215",
   "metadata": {},
   "outputs": [
    {
     "data": {
      "text/plain": [
       "'12324.56'"
      ]
     },
     "execution_count": 71,
     "metadata": {},
     "output_type": "execute_result"
    }
   ],
   "source": [
    "emps = parse(emp_data)\n",
    "lookup(emps, 'jai', field='salary')"
   ]
  },
  {
   "cell_type": "code",
   "execution_count": 57,
   "id": "b75aa8b2",
   "metadata": {},
   "outputs": [
    {
     "data": {
      "text/plain": [
       "['jai', 'CEO', '1', '12324.56']"
      ]
     },
     "execution_count": 57,
     "metadata": {},
     "output_type": "execute_result"
    }
   ],
   "source": [
    "emp = 'jai,CEO,1,12324.56'.split(',')\n",
    "# key = emp[0]\n",
    "# value = emp[1:]\n",
    "key = emp.pop(0)"
   ]
  },
  {
   "cell_type": "code",
   "execution_count": 59,
   "id": "ed2cb297",
   "metadata": {},
   "outputs": [
    {
     "data": {
      "text/plain": [
       "'12324.56'"
      ]
     },
     "execution_count": 59,
     "metadata": {},
     "output_type": "execute_result"
    }
   ],
   "source": [
    "# emps['jai'].split(',')[2]\n",
    "emps['jai'][2]"
   ]
  },
  {
   "cell_type": "code",
   "execution_count": 61,
   "id": "3566015f",
   "metadata": {},
   "outputs": [],
   "source": [
    "emp = ['CEO', '1', '12324.56']\n",
    "keys = 'desig empid salary'.split()\n",
    "# emp = {'desig': 'CEO', 'empid': '1', 'salary': '12324.56'}\n",
    "# emp['salary']"
   ]
  },
  {
   "cell_type": "code",
   "execution_count": 64,
   "id": "626d9687",
   "metadata": {},
   "outputs": [
    {
     "data": {
      "text/plain": [
       "{'desig': 'CEO', 'empid': '1', 'salary': '12324.56'}"
      ]
     },
     "execution_count": 64,
     "metadata": {},
     "output_type": "execute_result"
    }
   ],
   "source": [
    "e = {}\n",
    "for k,v in zip(keys, emp):\n",
    "    e[k] = v\n",
    "    \n",
    "e"
   ]
  },
  {
   "cell_type": "code",
   "execution_count": 66,
   "id": "025603d7",
   "metadata": {},
   "outputs": [
    {
     "data": {
      "text/plain": [
       "{'desig': 'CEO', 'empid': '1', 'salary': '12324.56'}"
      ]
     },
     "execution_count": 66,
     "metadata": {},
     "output_type": "execute_result"
    }
   ],
   "source": [
    "dict(zip(keys, emp))"
   ]
  },
  {
   "cell_type": "code",
   "execution_count": 72,
   "id": "70165111",
   "metadata": {},
   "outputs": [],
   "source": [
    "list = [1,2,3,4]"
   ]
  },
  {
   "cell_type": "code",
   "execution_count": 75,
   "id": "c6eb9e58",
   "metadata": {},
   "outputs": [],
   "source": [
    "list = __builtins__.list"
   ]
  },
  {
   "cell_type": "code",
   "execution_count": 77,
   "id": "cee1d393",
   "metadata": {},
   "outputs": [],
   "source": [
    "dir(__builtin__);"
   ]
  },
  {
   "cell_type": "code",
   "execution_count": 78,
   "id": "8e01109e",
   "metadata": {},
   "outputs": [
    {
     "data": {
      "text/plain": [
       "{'jai': {'desig': 'CEO', 'empid': '1', 'salary': '12324.56'},\n",
       " 'viru': {'desig': 'CTO', 'empid': '2', 'salary': '11111.11'},\n",
       " 'basanti': {'desig': 'CFO', 'empid': '3', 'salary': '22222.22'}}"
      ]
     },
     "execution_count": 78,
     "metadata": {},
     "output_type": "execute_result"
    }
   ],
   "source": [
    "emps"
   ]
  },
  {
   "cell_type": "markdown",
   "id": "264031f8",
   "metadata": {},
   "source": [
    "- File I/O\n",
    "- File Formats\n",
    "    - json\n",
    "    - csv/xls  \n",
    "- Modules/packages"
   ]
  },
  {
   "cell_type": "code",
   "execution_count": 79,
   "id": "17f45fda",
   "metadata": {},
   "outputs": [],
   "source": [
    "import sys\n",
    "import os"
   ]
  },
  {
   "cell_type": "code",
   "execution_count": 84,
   "id": "692664f6",
   "metadata": {},
   "outputs": [
    {
     "data": {
      "text/plain": [
       "['C:\\\\Users\\\\agulati\\\\Anaconda3\\\\lib\\\\site-packages\\\\ipykernel_launcher.py',\n",
       " '-f',\n",
       " 'C:\\\\Users\\\\agulati\\\\AppData\\\\Roaming\\\\jupyter\\\\runtime\\\\kernel-a2fc551d-a25a-4739-909f-0e9942a200f8.json']"
      ]
     },
     "execution_count": 84,
     "metadata": {},
     "output_type": "execute_result"
    }
   ],
   "source": [
    "sys.path\n",
    "sys.argv"
   ]
  },
  {
   "cell_type": "code",
   "execution_count": 86,
   "id": "833c4d6c",
   "metadata": {},
   "outputs": [
    {
     "data": {
      "text/plain": [
       "'C:\\\\Users\\\\agulati\\\\hsbc'"
      ]
     },
     "execution_count": 86,
     "metadata": {},
     "output_type": "execute_result"
    }
   ],
   "source": [
    "os.getcwd()"
   ]
  },
  {
   "cell_type": "code",
   "execution_count": 87,
   "id": "3ba5a3c1",
   "metadata": {},
   "outputs": [
    {
     "data": {
      "text/plain": [
       "23"
      ]
     },
     "execution_count": 87,
     "metadata": {},
     "output_type": "execute_result"
    }
   ],
   "source": [
    "sys.getrefcount(name)"
   ]
  },
  {
   "cell_type": "code",
   "execution_count": 88,
   "id": "199e11d1",
   "metadata": {},
   "outputs": [],
   "source": [
    "import glob"
   ]
  },
  {
   "cell_type": "code",
   "execution_count": 89,
   "id": "ba9cfb66",
   "metadata": {},
   "outputs": [
    {
     "data": {
      "text/plain": [
       "['Day1.ipynb', 'Day2.ipynb']"
      ]
     },
     "execution_count": 89,
     "metadata": {},
     "output_type": "execute_result"
    }
   ],
   "source": [
    "glob.glob('*.ipynb')"
   ]
  },
  {
   "cell_type": "code",
   "execution_count": 90,
   "id": "ee385265",
   "metadata": {},
   "outputs": [],
   "source": [
    "import re"
   ]
  },
  {
   "cell_type": "code",
   "execution_count": 115,
   "id": "6944a793",
   "metadata": {},
   "outputs": [
    {
     "name": "stdout",
     "output_type": "stream",
     "text": [
      "Matched\n",
      "abc@def.com\n"
     ]
    }
   ],
   "source": [
    "m = re.search(r'\\w+@\\w+\\.\\w+', 'my mail id is abc@def.com. See you.')\n",
    "# if m is not None:\n",
    "if m:\n",
    "    print('Matched')\n",
    "    print(m.group(0))\n",
    "else:\n",
    "    print('Nope')\n",
    "    "
   ]
  },
  {
   "cell_type": "code",
   "execution_count": 114,
   "id": "eed4a686",
   "metadata": {},
   "outputs": [
    {
     "data": {
      "text/plain": [
       "'abc@def.com'"
      ]
     },
     "execution_count": 114,
     "metadata": {},
     "output_type": "execute_result"
    }
   ],
   "source": [
    "m.group(0)"
   ]
  },
  {
   "cell_type": "code",
   "execution_count": 105,
   "id": "349e66af",
   "metadata": {},
   "outputs": [
    {
     "data": {
      "text/plain": [
       "True"
      ]
     },
     "execution_count": 105,
     "metadata": {},
     "output_type": "execute_result"
    }
   ],
   "source": [
    "bool(m)"
   ]
  },
  {
   "cell_type": "code",
   "execution_count": 91,
   "id": "7e879e93",
   "metadata": {},
   "outputs": [],
   "source": [
    "def f(n):\n",
    "    n**2"
   ]
  },
  {
   "cell_type": "code",
   "execution_count": 95,
   "id": "5e959795",
   "metadata": {},
   "outputs": [],
   "source": [
    "x = f(10)\n",
    "x = None"
   ]
  },
  {
   "cell_type": "code",
   "execution_count": 94,
   "id": "0187cf9c",
   "metadata": {},
   "outputs": [
    {
     "data": {
      "text/plain": [
       "True"
      ]
     },
     "execution_count": 94,
     "metadata": {},
     "output_type": "execute_result"
    }
   ],
   "source": [
    "x is None"
   ]
  },
  {
   "cell_type": "code",
   "execution_count": 101,
   "id": "d6553bed",
   "metadata": {},
   "outputs": [
    {
     "data": {
      "text/plain": [
       "True"
      ]
     },
     "execution_count": 101,
     "metadata": {},
     "output_type": "execute_result"
    }
   ],
   "source": [
    "int(False)\n",
    "bool(10)"
   ]
  },
  {
   "cell_type": "code",
   "execution_count": 106,
   "id": "1985792a",
   "metadata": {},
   "outputs": [
    {
     "data": {
      "text/plain": [
       "10"
      ]
     },
     "execution_count": 106,
     "metadata": {},
     "output_type": "execute_result"
    }
   ],
   "source": [
    "sum([1,2,3,4])"
   ]
  },
  {
   "cell_type": "code",
   "execution_count": 107,
   "id": "8f8cd7ef",
   "metadata": {},
   "outputs": [
    {
     "data": {
      "text/plain": [
       "2"
      ]
     },
     "execution_count": 107,
     "metadata": {},
     "output_type": "execute_result"
    }
   ],
   "source": [
    "sum([False, True, True])"
   ]
  },
  {
   "cell_type": "code",
   "execution_count": 120,
   "id": "010a37fa",
   "metadata": {},
   "outputs": [
    {
     "name": "stdout",
     "output_type": "stream",
     "text": [
      "The textwrap module provides some convenience functions, as well as TextWrapper, the class that does all the work. If you’re just wrapping or filling one or two text strings, the convenience functions should be good enough; otherwise, you should use an instance of TextWrapper for efficiency.\n"
     ]
    }
   ],
   "source": [
    "content = '''The textwrap module provides some convenience functions, as well as TextWrapper, the class that does all the work. If you’re just wrapping or filling one or two text strings, the convenience functions should be good enough; otherwise, you should use an instance of TextWrapper for efficiency.'''\n",
    "print(content)"
   ]
  },
  {
   "cell_type": "code",
   "execution_count": 119,
   "id": "bc39af37",
   "metadata": {},
   "outputs": [
    {
     "data": {
      "text/plain": [
       "'The textwrap module provides s'"
      ]
     },
     "execution_count": 119,
     "metadata": {},
     "output_type": "execute_result"
    }
   ],
   "source": [
    "content[:30]"
   ]
  },
  {
   "cell_type": "code",
   "execution_count": 121,
   "id": "f19592ba",
   "metadata": {},
   "outputs": [],
   "source": [
    "import textwrap as tw"
   ]
  },
  {
   "cell_type": "code",
   "execution_count": 122,
   "id": "21f8e117",
   "metadata": {
    "scrolled": true
   },
   "outputs": [
    {
     "data": {
      "text/plain": [
       "['The textwrap module provides some convenience functions, as well as',\n",
       " 'TextWrapper, the class that does all the work. If you’re just wrapping',\n",
       " 'or filling one or two text strings, the convenience functions should',\n",
       " 'be good enough; otherwise, you should use an instance of TextWrapper',\n",
       " 'for efficiency.']"
      ]
     },
     "execution_count": 122,
     "metadata": {},
     "output_type": "execute_result"
    }
   ],
   "source": [
    "tw.wrap(content)"
   ]
  },
  {
   "cell_type": "code",
   "execution_count": 125,
   "id": "b6a3a699",
   "metadata": {
    "scrolled": true
   },
   "outputs": [
    {
     "name": "stdout",
     "output_type": "stream",
     "text": [
      "The textwrap module provides some\n",
      "convenience functions, as well as\n",
      "TextWrapper, the class that does all the\n",
      "work. If you’re just wrapping or filling\n",
      "one or two text strings, the convenience\n",
      "functions should be good enough;\n",
      "otherwise, you should use an instance of\n",
      "TextWrapper for efficiency.\n"
     ]
    }
   ],
   "source": [
    "print(tw.fill(content, 40))"
   ]
  },
  {
   "cell_type": "code",
   "execution_count": 126,
   "id": "9b2cf1a3",
   "metadata": {},
   "outputs": [
    {
     "data": {
      "text/plain": [
       "274877906944"
      ]
     },
     "execution_count": 126,
     "metadata": {},
     "output_type": "execute_result"
    }
   ],
   "source": [
    "2 ** 38"
   ]
  },
  {
   "cell_type": "code",
   "execution_count": 129,
   "id": "244bd18c",
   "metadata": {},
   "outputs": [
    {
     "data": {
      "text/plain": [
       "'C'"
      ]
     },
     "execution_count": 129,
     "metadata": {},
     "output_type": "execute_result"
    }
   ],
   "source": [
    "chr(ord('')+2)\n",
    "# chr(65)"
   ]
  },
  {
   "cell_type": "code",
   "execution_count": 130,
   "id": "108c9558",
   "metadata": {},
   "outputs": [],
   "source": [
    "content = '''g fmnc wms bgblr rpylqjyrc gr zw fylb. rfyrq ufyr amknsrcpq ypc dmp. bmgle gr gl zw fylb gq glcddgagclr ylb rfyr'q ufw rfgq rcvr gq qm jmle. sqgle qrpgle.kyicrpylq() gq pcamkkclbcb. lmu ynnjw ml rfc spj.'''"
   ]
  },
  {
   "cell_type": "code",
   "execution_count": 132,
   "id": "023913d7",
   "metadata": {},
   "outputs": [
    {
     "name": "stdout",
     "output_type": "stream",
     "text": [
      "i\"hope\"you\"didnt\"tr{nsl{te\"it\"|y\"h{nd0\"th{ts\"wh{t\"computers\"{re\"for0\"doing\"it\"in\"|y\"h{nd\"is\"inefficient\"{nd\"th{t)s\"why\"this\"text\"is\"so\"long0\"using\"string0m{ketr{ns*+\"is\"recommended0\"now\"{pply\"on\"the\"url0"
     ]
    }
   ],
   "source": [
    "for char in content:\n",
    "    print(chr(ord(char)+2), end='')"
   ]
  },
  {
   "cell_type": "code",
   "execution_count": null,
   "id": "c701edfc",
   "metadata": {},
   "outputs": [],
   "source": []
  },
  {
   "cell_type": "markdown",
   "id": "c8552125",
   "metadata": {},
   "source": [
    "# Data"
   ]
  },
  {
   "cell_type": "code",
   "execution_count": 133,
   "id": "33ace056",
   "metadata": {},
   "outputs": [],
   "source": [
    "import numpy as np"
   ]
  },
  {
   "cell_type": "code",
   "execution_count": 135,
   "id": "f4215773",
   "metadata": {},
   "outputs": [],
   "source": [
    "arr = np.array([1,2,3,4])"
   ]
  },
  {
   "cell_type": "code",
   "execution_count": 136,
   "id": "e14ee76d",
   "metadata": {},
   "outputs": [
    {
     "data": {
      "text/plain": [
       "numpy.ndarray"
      ]
     },
     "execution_count": 136,
     "metadata": {},
     "output_type": "execute_result"
    }
   ],
   "source": [
    "type(arr)"
   ]
  },
  {
   "cell_type": "code",
   "execution_count": 137,
   "id": "306b98c3",
   "metadata": {},
   "outputs": [],
   "source": [
    "nums = [1,2,3,4]"
   ]
  },
  {
   "cell_type": "code",
   "execution_count": 139,
   "id": "a54bf32f",
   "metadata": {},
   "outputs": [
    {
     "data": {
      "text/plain": [
       "[2, 3, 4]"
      ]
     },
     "execution_count": 139,
     "metadata": {},
     "output_type": "execute_result"
    }
   ],
   "source": [
    "nums[1:]"
   ]
  },
  {
   "cell_type": "code",
   "execution_count": 141,
   "id": "757c0e7e",
   "metadata": {},
   "outputs": [
    {
     "data": {
      "text/plain": [
       "array([2, 3, 4])"
      ]
     },
     "execution_count": 141,
     "metadata": {},
     "output_type": "execute_result"
    }
   ],
   "source": [
    "arr[1:]"
   ]
  },
  {
   "cell_type": "code",
   "execution_count": 143,
   "id": "4b4a7d88",
   "metadata": {},
   "outputs": [
    {
     "name": "stdout",
     "output_type": "stream",
     "text": [
      "1\n",
      "2\n",
      "3\n",
      "4\n"
     ]
    }
   ],
   "source": [
    "for num in arr:\n",
    "    print(num)"
   ]
  },
  {
   "cell_type": "code",
   "execution_count": 144,
   "id": "a59be91a",
   "metadata": {},
   "outputs": [
    {
     "data": {
      "text/plain": [
       "1"
      ]
     },
     "execution_count": 144,
     "metadata": {},
     "output_type": "execute_result"
    }
   ],
   "source": [
    "arr.ndim"
   ]
  },
  {
   "cell_type": "code",
   "execution_count": 145,
   "id": "216b648c",
   "metadata": {},
   "outputs": [
    {
     "data": {
      "text/plain": [
       "(4,)"
      ]
     },
     "execution_count": 145,
     "metadata": {},
     "output_type": "execute_result"
    }
   ],
   "source": [
    "arr.shape"
   ]
  },
  {
   "cell_type": "code",
   "execution_count": 146,
   "id": "ec833048",
   "metadata": {},
   "outputs": [],
   "source": [
    "arr2d = np.array([[1,2,3],\n",
    "                  [4,5,6]])"
   ]
  },
  {
   "cell_type": "code",
   "execution_count": 147,
   "id": "31dda05a",
   "metadata": {},
   "outputs": [
    {
     "data": {
      "text/plain": [
       "2"
      ]
     },
     "execution_count": 147,
     "metadata": {},
     "output_type": "execute_result"
    }
   ],
   "source": [
    "arr2d.ndim"
   ]
  },
  {
   "cell_type": "code",
   "execution_count": 148,
   "id": "7fd4f95c",
   "metadata": {},
   "outputs": [
    {
     "data": {
      "text/plain": [
       "(2, 3)"
      ]
     },
     "execution_count": 148,
     "metadata": {},
     "output_type": "execute_result"
    }
   ],
   "source": [
    "arr2d.shape"
   ]
  },
  {
   "cell_type": "code",
   "execution_count": 149,
   "id": "10f415c0",
   "metadata": {},
   "outputs": [
    {
     "data": {
      "text/plain": [
       "[1, 2, 3, 4, 4, 5, 6]"
      ]
     },
     "execution_count": 149,
     "metadata": {},
     "output_type": "execute_result"
    }
   ],
   "source": [
    "nums + [4,5,6]"
   ]
  },
  {
   "cell_type": "code",
   "execution_count": 150,
   "id": "4cff9924",
   "metadata": {},
   "outputs": [],
   "source": [
    "arr1 = np.arange(10)\n",
    "arr2 = np.arange(10,20)"
   ]
  },
  {
   "cell_type": "code",
   "execution_count": 152,
   "id": "92c35dee",
   "metadata": {},
   "outputs": [
    {
     "data": {
      "text/plain": [
       "array([0, 1, 2, 3, 4, 5, 6, 7, 8, 9])"
      ]
     },
     "execution_count": 152,
     "metadata": {},
     "output_type": "execute_result"
    }
   ],
   "source": [
    "arr1"
   ]
  },
  {
   "cell_type": "code",
   "execution_count": 153,
   "id": "972691fa",
   "metadata": {},
   "outputs": [
    {
     "data": {
      "text/plain": [
       "array([10, 11, 12, 13, 14, 15, 16, 17, 18, 19])"
      ]
     },
     "execution_count": 153,
     "metadata": {},
     "output_type": "execute_result"
    }
   ],
   "source": [
    "arr2"
   ]
  },
  {
   "cell_type": "code",
   "execution_count": 151,
   "id": "137877c0",
   "metadata": {},
   "outputs": [
    {
     "data": {
      "text/plain": [
       "array([10, 12, 14, 16, 18, 20, 22, 24, 26, 28])"
      ]
     },
     "execution_count": 151,
     "metadata": {},
     "output_type": "execute_result"
    }
   ],
   "source": [
    "arr1 + arr2"
   ]
  },
  {
   "cell_type": "code",
   "execution_count": 154,
   "id": "d430ab3e",
   "metadata": {},
   "outputs": [
    {
     "data": {
      "text/plain": [
       "array([10, 10, 10, 10, 10, 10, 10, 10, 10, 10])"
      ]
     },
     "execution_count": 154,
     "metadata": {},
     "output_type": "execute_result"
    }
   ],
   "source": [
    "arr2 - arr1"
   ]
  },
  {
   "cell_type": "code",
   "execution_count": 155,
   "id": "347eafbe",
   "metadata": {},
   "outputs": [
    {
     "ename": "ValueError",
     "evalue": "operands could not be broadcast together with shapes (2,3) (10,) ",
     "output_type": "error",
     "traceback": [
      "\u001b[1;31m---------------------------------------------------------------------------\u001b[0m",
      "\u001b[1;31mValueError\u001b[0m                                Traceback (most recent call last)",
      "\u001b[1;32m<ipython-input-155-60c2bc774ebf>\u001b[0m in \u001b[0;36m<module>\u001b[1;34m\u001b[0m\n\u001b[1;32m----> 1\u001b[1;33m \u001b[0marr2d\u001b[0m \u001b[1;33m+\u001b[0m \u001b[0marr1\u001b[0m\u001b[1;33m\u001b[0m\u001b[1;33m\u001b[0m\u001b[0m\n\u001b[0m",
      "\u001b[1;31mValueError\u001b[0m: operands could not be broadcast together with shapes (2,3) (10,) "
     ]
    }
   ],
   "source": [
    "arr2d + arr1"
   ]
  },
  {
   "cell_type": "code",
   "execution_count": 166,
   "id": "19664d90",
   "metadata": {},
   "outputs": [
    {
     "data": {
      "text/plain": [
       "array([ True,  True,  True,  True,  True,  True,  True,  True,  True,\n",
       "        True])"
      ]
     },
     "execution_count": 166,
     "metadata": {},
     "output_type": "execute_result"
    }
   ],
   "source": [
    "check = arr1 + 10 == arr2\n",
    "check"
   ]
  },
  {
   "cell_type": "code",
   "execution_count": 167,
   "id": "31b36e41",
   "metadata": {},
   "outputs": [
    {
     "data": {
      "text/plain": [
       "dtype('bool')"
      ]
     },
     "execution_count": 167,
     "metadata": {},
     "output_type": "execute_result"
    }
   ],
   "source": [
    "check.dtype"
   ]
  },
  {
   "cell_type": "code",
   "execution_count": 175,
   "id": "23b91f07",
   "metadata": {},
   "outputs": [
    {
     "data": {
      "text/plain": [
       "1"
      ]
     },
     "execution_count": 175,
     "metadata": {},
     "output_type": "execute_result"
    }
   ],
   "source": [
    "arr2d[0][0]\n",
    "arr2d[0,0]"
   ]
  },
  {
   "cell_type": "code",
   "execution_count": 178,
   "id": "8bfaaf8c",
   "metadata": {},
   "outputs": [
    {
     "data": {
      "text/plain": [
       "array([0, 1, 2, 3, 4, 5, 6, 7, 8, 9])"
      ]
     },
     "execution_count": 178,
     "metadata": {},
     "output_type": "execute_result"
    }
   ],
   "source": [
    "arr1"
   ]
  },
  {
   "cell_type": "code",
   "execution_count": 179,
   "id": "8d1fda58",
   "metadata": {},
   "outputs": [
    {
     "data": {
      "text/plain": [
       "array([False, False, False, False, False, False,  True,  True,  True,\n",
       "        True])"
      ]
     },
     "execution_count": 179,
     "metadata": {},
     "output_type": "execute_result"
    }
   ],
   "source": [
    "check = arr1>5\n",
    "check"
   ]
  },
  {
   "cell_type": "code",
   "execution_count": 180,
   "id": "a2ffc717",
   "metadata": {},
   "outputs": [
    {
     "data": {
      "text/plain": [
       "array([6, 7, 8, 9])"
      ]
     },
     "execution_count": 180,
     "metadata": {},
     "output_type": "execute_result"
    }
   ],
   "source": [
    "arr1[check]"
   ]
  },
  {
   "cell_type": "code",
   "execution_count": 186,
   "id": "1c93886c",
   "metadata": {},
   "outputs": [
    {
     "data": {
      "text/plain": [
       "array([3, 4, 5, 6, 7])"
      ]
     },
     "execution_count": 186,
     "metadata": {},
     "output_type": "execute_result"
    }
   ],
   "source": [
    "arr1[(arr1>=3) & (arr1<=7)]"
   ]
  },
  {
   "cell_type": "code",
   "execution_count": 207,
   "id": "a4460578",
   "metadata": {},
   "outputs": [
    {
     "data": {
      "text/plain": [
       "array([157.6946016 , 165.39318218, 161.56022142, 175.42630462,\n",
       "       108.81254442, 187.01321281, 102.7032522 , 145.24463078,\n",
       "       126.93610022, 124.65669708])"
      ]
     },
     "execution_count": 207,
     "metadata": {},
     "output_type": "execute_result"
    }
   ],
   "source": [
    "np.random.rand(10) * 100 + 100"
   ]
  },
  {
   "cell_type": "code",
   "execution_count": 209,
   "id": "9e3d64c1",
   "metadata": {},
   "outputs": [
    {
     "data": {
      "text/plain": [
       "array([97.26762893, 97.79480487, 96.1046163 , 90.22356287, 95.77106668,\n",
       "       99.29129273, 91.35266638, 98.84240421, 93.61356045, 97.56423121])"
      ]
     },
     "execution_count": 209,
     "metadata": {},
     "output_type": "execute_result"
    }
   ],
   "source": [
    "np.random.rand(10) * 10 + 90"
   ]
  },
  {
   "cell_type": "code",
   "execution_count": null,
   "id": "c1602e87",
   "metadata": {},
   "outputs": [],
   "source": [
    "# sqs on nums from 11-20\n",
    "# cubes of nums from 1-10\n",
    "sqs = [100, 121, 169, ..]\n",
    "cubes = 1"
   ]
  },
  {
   "cell_type": "code",
   "execution_count": 215,
   "id": "018cef6a",
   "metadata": {},
   "outputs": [],
   "source": [
    "sqs   = np.arange(11,21)**2\n",
    "cubes = np.arange(1,11)**3"
   ]
  },
  {
   "cell_type": "code",
   "execution_count": 216,
   "id": "672c4b8e",
   "metadata": {},
   "outputs": [
    {
     "data": {
      "text/plain": [
       "array([ 122,  152,  196,  260,  350,  472,  632,  836, 1090, 1400],\n",
       "      dtype=int32)"
      ]
     },
     "execution_count": 216,
     "metadata": {},
     "output_type": "execute_result"
    }
   ],
   "source": [
    "# All values in cubes that are greater than their equiv in squares"
   ]
  },
  {
   "cell_type": "code",
   "execution_count": 217,
   "id": "33d1a582",
   "metadata": {},
   "outputs": [
    {
     "data": {
      "text/plain": [
       "array([121, 144, 169, 196, 225, 256, 289, 324, 361, 400], dtype=int32)"
      ]
     },
     "execution_count": 217,
     "metadata": {},
     "output_type": "execute_result"
    }
   ],
   "source": [
    "sqs"
   ]
  },
  {
   "cell_type": "code",
   "execution_count": 218,
   "id": "6598705a",
   "metadata": {},
   "outputs": [
    {
     "data": {
      "text/plain": [
       "array([   1,    8,   27,   64,  125,  216,  343,  512,  729, 1000],\n",
       "      dtype=int32)"
      ]
     },
     "execution_count": 218,
     "metadata": {},
     "output_type": "execute_result"
    }
   ],
   "source": [
    "cubes"
   ]
  },
  {
   "cell_type": "code",
   "execution_count": 220,
   "id": "ddba3167",
   "metadata": {},
   "outputs": [
    {
     "data": {
      "text/plain": [
       "array([ 343,  512,  729, 1000], dtype=int32)"
      ]
     },
     "execution_count": 220,
     "metadata": {},
     "output_type": "execute_result"
    }
   ],
   "source": [
    "cubes[cubes > sqs]"
   ]
  },
  {
   "cell_type": "code",
   "execution_count": null,
   "id": "8a1d7d1f",
   "metadata": {},
   "outputs": [],
   "source": []
  },
  {
   "cell_type": "code",
   "execution_count": null,
   "id": "bfe3da6d",
   "metadata": {},
   "outputs": [],
   "source": []
  },
  {
   "cell_type": "code",
   "execution_count": 159,
   "id": "b29f6ad1",
   "metadata": {},
   "outputs": [
    {
     "data": {
      "text/plain": [
       "array(['1', 'a', '2.4'], dtype='<U32')"
      ]
     },
     "execution_count": 159,
     "metadata": {},
     "output_type": "execute_result"
    }
   ],
   "source": [
    "np.array([1,'a', 2.4])"
   ]
  },
  {
   "cell_type": "code",
   "execution_count": 160,
   "id": "b97d2138",
   "metadata": {},
   "outputs": [
    {
     "data": {
      "text/plain": [
       "dtype('int32')"
      ]
     },
     "execution_count": 160,
     "metadata": {},
     "output_type": "execute_result"
    }
   ],
   "source": [
    "arr.dtype"
   ]
  },
  {
   "cell_type": "code",
   "execution_count": 161,
   "id": "fc913238",
   "metadata": {},
   "outputs": [
    {
     "data": {
      "text/plain": [
       "4294967296"
      ]
     },
     "execution_count": 161,
     "metadata": {},
     "output_type": "execute_result"
    }
   ],
   "source": [
    "2**32"
   ]
  },
  {
   "cell_type": "code",
   "execution_count": 162,
   "id": "bd1c4c78",
   "metadata": {},
   "outputs": [
    {
     "data": {
      "text/plain": [
       "256"
      ]
     },
     "execution_count": 162,
     "metadata": {},
     "output_type": "execute_result"
    }
   ],
   "source": [
    "2**8"
   ]
  },
  {
   "cell_type": "code",
   "execution_count": 163,
   "id": "b65f82d1",
   "metadata": {},
   "outputs": [],
   "source": [
    "arr = np.array([1,2,3,4], dtype=np.int8)"
   ]
  },
  {
   "cell_type": "code",
   "execution_count": 165,
   "id": "e680fb33",
   "metadata": {},
   "outputs": [
    {
     "data": {
      "text/plain": [
       "88"
      ]
     },
     "execution_count": 165,
     "metadata": {},
     "output_type": "execute_result"
    }
   ],
   "source": [
    "nums = [1,2,3,4]\n",
    "sys.getsizeof(nums)"
   ]
  },
  {
   "cell_type": "code",
   "execution_count": null,
   "id": "3b891e90",
   "metadata": {},
   "outputs": [],
   "source": []
  },
  {
   "cell_type": "code",
   "execution_count": null,
   "id": "2cfb70b4",
   "metadata": {},
   "outputs": [],
   "source": []
  },
  {
   "cell_type": "code",
   "execution_count": null,
   "id": "c4257dcf",
   "metadata": {},
   "outputs": [],
   "source": []
  },
  {
   "cell_type": "code",
   "execution_count": null,
   "id": "d549fea8",
   "metadata": {},
   "outputs": [],
   "source": []
  }
 ],
 "metadata": {
  "kernelspec": {
   "display_name": "Python 3",
   "language": "python",
   "name": "python3"
  },
  "language_info": {
   "codemirror_mode": {
    "name": "ipython",
    "version": 3
   },
   "file_extension": ".py",
   "mimetype": "text/x-python",
   "name": "python",
   "nbconvert_exporter": "python",
   "pygments_lexer": "ipython3",
   "version": "3.8.8"
  }
 },
 "nbformat": 4,
 "nbformat_minor": 5
}
