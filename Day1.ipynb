{
 "cells": [
  {
   "cell_type": "code",
   "execution_count": 1,
   "id": "e14b5ed3",
   "metadata": {},
   "outputs": [
    {
     "name": "stdout",
     "output_type": "stream",
     "text": [
      "hello\n"
     ]
    }
   ],
   "source": [
    "print('hello')"
   ]
  },
  {
   "cell_type": "markdown",
   "id": "fba69db9",
   "metadata": {},
   "source": [
    "# Language Features\n",
    "\n",
    "- Dynamic (vs static)\n",
    "- Inferred/implicit typing\n",
    "- Interpreted (vs compiled)\n",
    "- Strict typing"
   ]
  },
  {
   "cell_type": "code",
   "execution_count": 5,
   "id": "45004d9a",
   "metadata": {},
   "outputs": [],
   "source": [
    "# int i = 123;\n",
    "i = 123\n",
    "f = 12.34\n",
    "flag = True\n",
    "name = 'leonardo'"
   ]
  },
  {
   "cell_type": "code",
   "execution_count": 6,
   "id": "47ddf028",
   "metadata": {},
   "outputs": [
    {
     "data": {
      "text/plain": [
       "int"
      ]
     },
     "execution_count": 6,
     "metadata": {},
     "output_type": "execute_result"
    }
   ],
   "source": [
    "type(i)"
   ]
  },
  {
   "cell_type": "code",
   "execution_count": 7,
   "id": "7c6d5b1e",
   "metadata": {},
   "outputs": [
    {
     "ename": "SyntaxError",
     "evalue": "invalid syntax (<ipython-input-7-91d98530ca86>, line 1)",
     "output_type": "error",
     "traceback": [
      "\u001b[1;36m  File \u001b[1;32m\"<ipython-input-7-91d98530ca86>\"\u001b[1;36m, line \u001b[1;32m1\u001b[0m\n\u001b[1;33m    int i = 123\u001b[0m\n\u001b[1;37m        ^\u001b[0m\n\u001b[1;31mSyntaxError\u001b[0m\u001b[1;31m:\u001b[0m invalid syntax\n"
     ]
    }
   ],
   "source": [
    "int i = 123"
   ]
  },
  {
   "cell_type": "markdown",
   "id": "eb6ea21d",
   "metadata": {},
   "source": [
    "# Types\n",
    "\n",
    "- Numeric\n",
    "    - int\n",
    "    - float\n",
    "    - bool\n",
    "    - complex\n",
    "- str\n",
    "- Collection/Aggregate\n",
    "    - list (tuple)\n",
    "    - dict"
   ]
  },
  {
   "cell_type": "markdown",
   "id": "313bbe5a",
   "metadata": {},
   "source": [
    "# Numerics\n",
    "\n",
    "## Operators\n",
    "\n",
    "- Arithmetic: `** / * % + -`\n",
    "- Comparison: `== != < > <= >=`\n",
    "- Logical/Boolean: `and`, `or`, `not` \n",
    "\n",
    "\n",
    "- Type-casting"
   ]
  },
  {
   "cell_type": "code",
   "execution_count": 8,
   "id": "e22feae1",
   "metadata": {},
   "outputs": [
    {
     "data": {
      "text/plain": [
       "80"
      ]
     },
     "execution_count": 8,
     "metadata": {},
     "output_type": "execute_result"
    }
   ],
   "source": [
    "10 * 2 ** 3"
   ]
  },
  {
   "cell_type": "code",
   "execution_count": 15,
   "id": "1eb3a8dd",
   "metadata": {},
   "outputs": [
    {
     "name": "stdout",
     "output_type": "stream",
     "text": [
      "30\n"
     ]
    }
   ],
   "source": [
    "10 + 20.11\n",
    "10 + int(20.11)"
   ]
  },
  {
   "cell_type": "code",
   "execution_count": 16,
   "id": "77d46f2a",
   "metadata": {},
   "outputs": [
    {
     "ename": "TypeError",
     "evalue": "unsupported operand type(s) for +: 'int' and 'str'",
     "output_type": "error",
     "traceback": [
      "\u001b[1;31m---------------------------------------------------------------------------\u001b[0m",
      "\u001b[1;31mTypeError\u001b[0m                                 Traceback (most recent call last)",
      "\u001b[1;32m<ipython-input-16-5cf6de391c43>\u001b[0m in \u001b[0;36m<module>\u001b[1;34m\u001b[0m\n\u001b[1;32m----> 1\u001b[1;33m \u001b[1;36m10\u001b[0m \u001b[1;33m+\u001b[0m \u001b[1;34m'hello'\u001b[0m\u001b[1;33m\u001b[0m\u001b[1;33m\u001b[0m\u001b[0m\n\u001b[0m",
      "\u001b[1;31mTypeError\u001b[0m: unsupported operand type(s) for +: 'int' and 'str'"
     ]
    }
   ],
   "source": [
    "10 + 'hello'"
   ]
  },
  {
   "cell_type": "code",
   "execution_count": 17,
   "id": "d292f332",
   "metadata": {},
   "outputs": [
    {
     "data": {
      "text/plain": [
       "'helloworld'"
      ]
     },
     "execution_count": 17,
     "metadata": {},
     "output_type": "execute_result"
    }
   ],
   "source": [
    "'hello' + 'world'"
   ]
  },
  {
   "cell_type": "code",
   "execution_count": 20,
   "id": "93fbb7c9",
   "metadata": {},
   "outputs": [
    {
     "data": {
      "text/plain": [
       "0"
      ]
     },
     "execution_count": 20,
     "metadata": {},
     "output_type": "execute_result"
    }
   ],
   "source": [
    "int(True)\n",
    "int(False)"
   ]
  },
  {
   "cell_type": "code",
   "execution_count": 21,
   "id": "faef44e6",
   "metadata": {},
   "outputs": [
    {
     "data": {
      "text/plain": [
       "2"
      ]
     },
     "execution_count": 21,
     "metadata": {},
     "output_type": "execute_result"
    }
   ],
   "source": [
    "True + True"
   ]
  },
  {
   "cell_type": "code",
   "execution_count": 22,
   "id": "294e8782",
   "metadata": {},
   "outputs": [
    {
     "data": {
      "text/plain": [
       "True"
      ]
     },
     "execution_count": 22,
     "metadata": {},
     "output_type": "execute_result"
    }
   ],
   "source": [
    "10 == 21 - 11"
   ]
  },
  {
   "cell_type": "code",
   "execution_count": 23,
   "id": "ef52a5f7",
   "metadata": {},
   "outputs": [
    {
     "data": {
      "text/plain": [
       "False"
      ]
     },
     "execution_count": 23,
     "metadata": {},
     "output_type": "execute_result"
    }
   ],
   "source": [
    "'hello' == 'Hello'"
   ]
  },
  {
   "cell_type": "code",
   "execution_count": 24,
   "id": "bf2f2d61",
   "metadata": {},
   "outputs": [
    {
     "data": {
      "text/plain": [
       "False"
      ]
     },
     "execution_count": 24,
     "metadata": {},
     "output_type": "execute_result"
    }
   ],
   "source": [
    "10 == 21 - 11 and 'hello' == 'Hello'"
   ]
  },
  {
   "cell_type": "code",
   "execution_count": 28,
   "id": "4f607589",
   "metadata": {},
   "outputs": [
    {
     "data": {
      "text/plain": [
       "True"
      ]
     },
     "execution_count": 28,
     "metadata": {},
     "output_type": "execute_result"
    }
   ],
   "source": [
    "# Double your money..\n",
    "principle = 12345\n",
    "rate = 8\n",
    "period = 10\n",
    "\n",
    "amt = principle * (1 + rate/100) ** period\n",
    "ci = amt - principle\n",
    "amt >= 2*principle\n",
    "# ci >= principle"
   ]
  },
  {
   "cell_type": "markdown",
   "id": "b44b773a",
   "metadata": {},
   "source": [
    "# Strings"
   ]
  },
  {
   "cell_type": "code",
   "execution_count": 36,
   "id": "47ff8c54",
   "metadata": {},
   "outputs": [],
   "source": [
    "name = 'leonardo'\n",
    "name = \"davinci\"\n",
    "address = '1\\'st street powai'\n",
    "address = \"1'st street powai\"\n",
    "long = '''many\n",
    "lines\n",
    "long'''\n",
    "win_path = r'c:\\windows\\table\\new\\file.txt'"
   ]
  },
  {
   "cell_type": "code",
   "execution_count": 30,
   "id": "26a64c7d",
   "metadata": {},
   "outputs": [
    {
     "data": {
      "text/plain": [
       "str"
      ]
     },
     "execution_count": 30,
     "metadata": {},
     "output_type": "execute_result"
    }
   ],
   "source": [
    "type(address)"
   ]
  },
  {
   "cell_type": "code",
   "execution_count": 35,
   "id": "648a6b4c",
   "metadata": {},
   "outputs": [
    {
     "name": "stdout",
     "output_type": "stream",
     "text": [
      "c:\\windows\\table\\new\\file.txt\n"
     ]
    },
    {
     "data": {
      "text/plain": [
       "'c:\\\\windows\\\\table\\\\new\\\\file.txt'"
      ]
     },
     "execution_count": 35,
     "metadata": {},
     "output_type": "execute_result"
    }
   ],
   "source": [
    "print(win_path)\n",
    "win_path"
   ]
  },
  {
   "cell_type": "code",
   "execution_count": 37,
   "id": "d4317204",
   "metadata": {},
   "outputs": [
    {
     "data": {
      "text/plain": [
       "\"davinci1'st street powai\""
      ]
     },
     "execution_count": 37,
     "metadata": {},
     "output_type": "execute_result"
    }
   ],
   "source": [
    "name + address # concatenation"
   ]
  },
  {
   "cell_type": "code",
   "execution_count": 38,
   "id": "00b1932d",
   "metadata": {},
   "outputs": [
    {
     "ename": "TypeError",
     "evalue": "can't multiply sequence by non-int of type 'str'",
     "output_type": "error",
     "traceback": [
      "\u001b[1;31m---------------------------------------------------------------------------\u001b[0m",
      "\u001b[1;31mTypeError\u001b[0m                                 Traceback (most recent call last)",
      "\u001b[1;32m<ipython-input-38-25281d2a5099>\u001b[0m in \u001b[0;36m<module>\u001b[1;34m\u001b[0m\n\u001b[1;32m----> 1\u001b[1;33m \u001b[0mname\u001b[0m \u001b[1;33m*\u001b[0m \u001b[0maddress\u001b[0m\u001b[1;33m\u001b[0m\u001b[1;33m\u001b[0m\u001b[0m\n\u001b[0m",
      "\u001b[1;31mTypeError\u001b[0m: can't multiply sequence by non-int of type 'str'"
     ]
    }
   ],
   "source": [
    "name * address"
   ]
  },
  {
   "cell_type": "code",
   "execution_count": 39,
   "id": "661341e7",
   "metadata": {},
   "outputs": [
    {
     "data": {
      "text/plain": [
       "'davincidavincidavincidavincidavinci'"
      ]
     },
     "execution_count": 39,
     "metadata": {},
     "output_type": "execute_result"
    }
   ],
   "source": [
    "name * 5 # repetition"
   ]
  },
  {
   "cell_type": "code",
   "execution_count": 40,
   "id": "06faaadf",
   "metadata": {},
   "outputs": [
    {
     "data": {
      "text/plain": [
       "True"
      ]
     },
     "execution_count": 40,
     "metadata": {},
     "output_type": "execute_result"
    }
   ],
   "source": [
    "name == 'davinci'"
   ]
  },
  {
   "cell_type": "code",
   "execution_count": 41,
   "id": "11de71c1",
   "metadata": {},
   "outputs": [
    {
     "data": {
      "text/plain": [
       "False"
      ]
     },
     "execution_count": 41,
     "metadata": {},
     "output_type": "execute_result"
    }
   ],
   "source": [
    "name > 'leonardo'"
   ]
  },
  {
   "cell_type": "code",
   "execution_count": 43,
   "id": "09675b7b",
   "metadata": {},
   "outputs": [
    {
     "data": {
      "text/plain": [
       "True"
      ]
     },
     "execution_count": 43,
     "metadata": {},
     "output_type": "execute_result"
    }
   ],
   "source": [
    "name > '123'"
   ]
  },
  {
   "cell_type": "code",
   "execution_count": 44,
   "id": "615f3e24",
   "metadata": {},
   "outputs": [
    {
     "data": {
      "text/plain": [
       "True"
      ]
     },
     "execution_count": 44,
     "metadata": {},
     "output_type": "execute_result"
    }
   ],
   "source": [
    "'davinci' > 'Davinci'"
   ]
  },
  {
   "cell_type": "code",
   "execution_count": 45,
   "id": "0ebc016f",
   "metadata": {},
   "outputs": [
    {
     "data": {
      "text/plain": [
       "'davinci'"
      ]
     },
     "execution_count": 45,
     "metadata": {},
     "output_type": "execute_result"
    }
   ],
   "source": [
    "name"
   ]
  },
  {
   "cell_type": "code",
   "execution_count": 49,
   "id": "3caf88e0",
   "metadata": {},
   "outputs": [
    {
     "data": {
      "text/plain": [
       "'i'"
      ]
     },
     "execution_count": 49,
     "metadata": {},
     "output_type": "execute_result"
    }
   ],
   "source": [
    "name[0]\n",
    "name[len(name)-1]\n",
    "name[-1]"
   ]
  },
  {
   "cell_type": "code",
   "execution_count": 48,
   "id": "6042bfd6",
   "metadata": {},
   "outputs": [
    {
     "data": {
      "text/plain": [
       "7"
      ]
     },
     "execution_count": 48,
     "metadata": {},
     "output_type": "execute_result"
    }
   ],
   "source": [
    "len(name)"
   ]
  },
  {
   "cell_type": "markdown",
   "id": "a8676fb0",
   "metadata": {},
   "source": [
    "## Slices\n",
    "\n",
    "    sequence[from:to]\n",
    "    \n",
    "- `from`: inclusive, default=0\n",
    "- `to`: non-inclusive/exclusive, default=end"
   ]
  },
  {
   "cell_type": "code",
   "execution_count": 52,
   "id": "3f0a14c6",
   "metadata": {},
   "outputs": [
    {
     "data": {
      "text/plain": [
       "'vinc'"
      ]
     },
     "execution_count": 52,
     "metadata": {},
     "output_type": "execute_result"
    }
   ],
   "source": [
    "# slice\n",
    "name[2:5+1]"
   ]
  },
  {
   "cell_type": "code",
   "execution_count": 54,
   "id": "49821124",
   "metadata": {},
   "outputs": [
    {
     "data": {
      "text/plain": [
       "'dav'"
      ]
     },
     "execution_count": 54,
     "metadata": {},
     "output_type": "execute_result"
    }
   ],
   "source": [
    "name[0:3]\n",
    "name[:3]"
   ]
  },
  {
   "cell_type": "code",
   "execution_count": 56,
   "id": "8dfa708a",
   "metadata": {},
   "outputs": [
    {
     "data": {
      "text/plain": [
       "'vinci'"
      ]
     },
     "execution_count": 56,
     "metadata": {},
     "output_type": "execute_result"
    }
   ],
   "source": [
    "name[2:]"
   ]
  },
  {
   "cell_type": "code",
   "execution_count": 60,
   "id": "bfffd79a",
   "metadata": {},
   "outputs": [
    {
     "data": {
      "text/plain": [
       "'DAVINCI'"
      ]
     },
     "execution_count": 60,
     "metadata": {},
     "output_type": "execute_result"
    }
   ],
   "source": [
    "name.upper()"
   ]
  },
  {
   "cell_type": "code",
   "execution_count": 58,
   "id": "b6b1fc19",
   "metadata": {},
   "outputs": [
    {
     "name": "stdout",
     "output_type": "stream",
     "text": [
      "Help on built-in function len in module builtins:\n",
      "\n",
      "len(obj, /)\n",
      "    Return the number of items in a container.\n",
      "\n"
     ]
    }
   ],
   "source": [
    "help(len)"
   ]
  },
  {
   "cell_type": "code",
   "execution_count": 59,
   "id": "2410b95d",
   "metadata": {},
   "outputs": [
    {
     "name": "stdout",
     "output_type": "stream",
     "text": [
      "Help on built-in function upper:\n",
      "\n",
      "upper() method of builtins.str instance\n",
      "    Return a copy of the string converted to uppercase.\n",
      "\n"
     ]
    }
   ],
   "source": [
    "help(name.upper)"
   ]
  },
  {
   "cell_type": "code",
   "execution_count": 61,
   "id": "d872eb14",
   "metadata": {},
   "outputs": [
    {
     "data": {
      "text/plain": [
       "True"
      ]
     },
     "execution_count": 61,
     "metadata": {},
     "output_type": "execute_result"
    }
   ],
   "source": [
    "name.isalpha()"
   ]
  },
  {
   "cell_type": "code",
   "execution_count": 62,
   "id": "0ba19db5",
   "metadata": {},
   "outputs": [
    {
     "data": {
      "text/plain": [
       "False"
      ]
     },
     "execution_count": 62,
     "metadata": {},
     "output_type": "execute_result"
    }
   ],
   "source": [
    "'leonardo da vinci'.isalpha()"
   ]
  },
  {
   "cell_type": "code",
   "execution_count": 63,
   "id": "ae906058",
   "metadata": {},
   "outputs": [
    {
     "data": {
      "text/plain": [
       "'DAV'"
      ]
     },
     "execution_count": 63,
     "metadata": {},
     "output_type": "execute_result"
    }
   ],
   "source": [
    "name[:3].upper()"
   ]
  },
  {
   "cell_type": "code",
   "execution_count": 64,
   "id": "7b3086cd",
   "metadata": {},
   "outputs": [
    {
     "data": {
      "text/plain": [
       "False"
      ]
     },
     "execution_count": 64,
     "metadata": {},
     "output_type": "execute_result"
    }
   ],
   "source": [
    "name.startswith('l') and name.endswith('o')"
   ]
  },
  {
   "cell_type": "code",
   "execution_count": 67,
   "id": "19df09a7",
   "metadata": {},
   "outputs": [
    {
     "data": {
      "text/plain": [
       "-1"
      ]
     },
     "execution_count": 67,
     "metadata": {},
     "output_type": "execute_result"
    }
   ],
   "source": [
    "name.find('Vin') != -1"
   ]
  },
  {
   "cell_type": "code",
   "execution_count": 69,
   "id": "1a432c84",
   "metadata": {},
   "outputs": [],
   "source": [
    "charm = 'abracadabra'\n",
    "idx1 = charm.find('ab')\n",
    "idx2 = charm.find('ab', idx1+1)"
   ]
  },
  {
   "cell_type": "code",
   "execution_count": 70,
   "id": "a3224405",
   "metadata": {},
   "outputs": [
    {
     "data": {
      "text/plain": [
       "(0, 7)"
      ]
     },
     "execution_count": 70,
     "metadata": {},
     "output_type": "execute_result"
    }
   ],
   "source": [
    "idx1, idx2"
   ]
  },
  {
   "cell_type": "code",
   "execution_count": 71,
   "id": "9668301c",
   "metadata": {},
   "outputs": [
    {
     "data": {
      "text/plain": [
       "True"
      ]
     },
     "execution_count": 71,
     "metadata": {},
     "output_type": "execute_result"
    }
   ],
   "source": [
    "'ab' in charm  # membership operator"
   ]
  },
  {
   "cell_type": "code",
   "execution_count": 73,
   "id": "ecf791c8",
   "metadata": {},
   "outputs": [
    {
     "data": {
      "text/plain": [
       "True"
      ]
     },
     "execution_count": 73,
     "metadata": {},
     "output_type": "execute_result"
    }
   ],
   "source": [
    "len([1,2,3,4])\n",
    "4 in [1,2,3,4]"
   ]
  },
  {
   "cell_type": "code",
   "execution_count": 77,
   "id": "f7daf883",
   "metadata": {},
   "outputs": [],
   "source": [
    "first, middle, last = 'mohandas', 'karamchand', 'GANDhi'\n",
    "first, middle, last = 'niel', 'nitin', 'mukesh'\n",
    "full_name = 'M.K.Gandhi'"
   ]
  },
  {
   "cell_type": "code",
   "execution_count": 78,
   "id": "8c46afb3",
   "metadata": {},
   "outputs": [
    {
     "data": {
      "text/plain": [
       "'N.N.Mukesh'"
      ]
     },
     "execution_count": 78,
     "metadata": {},
     "output_type": "execute_result"
    }
   ],
   "source": [
    "first[0].upper() + '.' + middle[0].upper() + '.' + last.capitalize()"
   ]
  },
  {
   "cell_type": "code",
   "execution_count": 79,
   "id": "23aef650",
   "metadata": {},
   "outputs": [
    {
     "data": {
      "text/plain": [
       "'niel nitin mukesh'"
      ]
     },
     "execution_count": 79,
     "metadata": {},
     "output_type": "execute_result"
    }
   ],
   "source": [
    "full_name = first + ' ' + middle + ' ' + last\n",
    "full_name"
   ]
  },
  {
   "cell_type": "code",
   "execution_count": 80,
   "id": "953c8ea0",
   "metadata": {},
   "outputs": [
    {
     "data": {
      "text/plain": [
       "['niel', 'nitin', 'mukesh']"
      ]
     },
     "execution_count": 80,
     "metadata": {},
     "output_type": "execute_result"
    }
   ],
   "source": [
    "full_name.split()"
   ]
  },
  {
   "cell_type": "code",
   "execution_count": 86,
   "id": "b2f62074",
   "metadata": {},
   "outputs": [],
   "source": [
    "first, middle, last = full_name.title().split()"
   ]
  },
  {
   "cell_type": "code",
   "execution_count": 87,
   "id": "6a58d588",
   "metadata": {},
   "outputs": [
    {
     "data": {
      "text/plain": [
       "'NNMukesh'"
      ]
     },
     "execution_count": 87,
     "metadata": {},
     "output_type": "execute_result"
    }
   ],
   "source": [
    "first[0] + middle[0] + last"
   ]
  },
  {
   "cell_type": "code",
   "execution_count": 89,
   "id": "09b4139d",
   "metadata": {},
   "outputs": [
    {
     "data": {
      "text/plain": [
       "['a.b.c']"
      ]
     },
     "execution_count": 89,
     "metadata": {},
     "output_type": "execute_result"
    }
   ],
   "source": [
    "'a.b.c'.split()"
   ]
  },
  {
   "cell_type": "code",
   "execution_count": 92,
   "id": "f87136ca",
   "metadata": {},
   "outputs": [
    {
     "data": {
      "text/plain": [
       "'a b c'"
      ]
     },
     "execution_count": 92,
     "metadata": {},
     "output_type": "execute_result"
    }
   ],
   "source": [
    "'  ..  a b c  ..'.strip('. ')"
   ]
  },
  {
   "cell_type": "code",
   "execution_count": null,
   "id": "8df96cdb",
   "metadata": {},
   "outputs": [],
   "source": [
    "str.strip()"
   ]
  },
  {
   "cell_type": "code",
   "execution_count": 94,
   "id": "75ed23f9",
   "metadata": {},
   "outputs": [
    {
     "data": {
      "text/plain": [
       "2"
      ]
     },
     "execution_count": 94,
     "metadata": {},
     "output_type": "execute_result"
    }
   ],
   "source": [
    "charm.count('ab')"
   ]
  },
  {
   "cell_type": "code",
   "execution_count": 96,
   "id": "33820eb0",
   "metadata": {},
   "outputs": [
    {
     "data": {
      "text/plain": [
       "0"
      ]
     },
     "execution_count": 96,
     "metadata": {},
     "output_type": "execute_result"
    }
   ],
   "source": [
    "charm.index('ab')"
   ]
  },
  {
   "cell_type": "markdown",
   "id": "918f375b",
   "metadata": {},
   "source": [
    "# Lists\n",
    "\n",
    "    A sequence of values"
   ]
  },
  {
   "cell_type": "code",
   "execution_count": 100,
   "id": "19a94d42",
   "metadata": {},
   "outputs": [],
   "source": [
    "nums = [1,2,3,4]\n",
    "names = ['tom', 'jerry', 'donald']\n",
    "misc = [42, 1.2, 'hello']\n",
    "multi = [nums, [names, misc]]"
   ]
  },
  {
   "cell_type": "code",
   "execution_count": 101,
   "id": "9f95f08e",
   "metadata": {},
   "outputs": [
    {
     "data": {
      "text/plain": [
       "list"
      ]
     },
     "execution_count": 101,
     "metadata": {},
     "output_type": "execute_result"
    }
   ],
   "source": [
    "type(multi)"
   ]
  },
  {
   "cell_type": "code",
   "execution_count": 104,
   "id": "4077f793",
   "metadata": {},
   "outputs": [
    {
     "data": {
      "text/plain": [
       "2"
      ]
     },
     "execution_count": 104,
     "metadata": {},
     "output_type": "execute_result"
    }
   ],
   "source": [
    "len(multi)"
   ]
  },
  {
   "cell_type": "code",
   "execution_count": 105,
   "id": "62cecf88",
   "metadata": {},
   "outputs": [
    {
     "data": {
      "text/plain": [
       "[1, 2, 3, 4, 'tom', 'jerry', 'donald']"
      ]
     },
     "execution_count": 105,
     "metadata": {},
     "output_type": "execute_result"
    }
   ],
   "source": [
    "nums + names"
   ]
  },
  {
   "cell_type": "code",
   "execution_count": 106,
   "id": "86bfdd4f",
   "metadata": {},
   "outputs": [
    {
     "data": {
      "text/plain": [
       "[1, 2, 3, 4, 1, 2, 3, 4, 1, 2, 3, 4, 1, 2, 3, 4, 1, 2, 3, 4]"
      ]
     },
     "execution_count": 106,
     "metadata": {},
     "output_type": "execute_result"
    }
   ],
   "source": [
    "nums * 5"
   ]
  },
  {
   "cell_type": "code",
   "execution_count": 108,
   "id": "4f051c27",
   "metadata": {},
   "outputs": [
    {
     "data": {
      "text/plain": [
       "4"
      ]
     },
     "execution_count": 108,
     "metadata": {},
     "output_type": "execute_result"
    }
   ],
   "source": [
    "nums[0]\n",
    "nums[-1]"
   ]
  },
  {
   "cell_type": "code",
   "execution_count": 119,
   "id": "bc52d21a",
   "metadata": {},
   "outputs": [
    {
     "data": {
      "text/plain": [
       "42"
      ]
     },
     "execution_count": 119,
     "metadata": {},
     "output_type": "execute_result"
    }
   ],
   "source": [
    "multi[-1][-1][0]"
   ]
  },
  {
   "cell_type": "code",
   "execution_count": 123,
   "id": "8beaeaa1",
   "metadata": {},
   "outputs": [
    {
     "data": {
      "text/plain": [
       "[0, 1, 2, 3, 4, 5, 6, 7, 8, 9]"
      ]
     },
     "execution_count": 123,
     "metadata": {},
     "output_type": "execute_result"
    }
   ],
   "source": [
    "range(10)          # lazy object/evaluation\n",
    "list(range(10))    # eager eval"
   ]
  },
  {
   "cell_type": "code",
   "execution_count": 124,
   "id": "4f95b367",
   "metadata": {},
   "outputs": [],
   "source": [
    "nums = list(range(10,21))"
   ]
  },
  {
   "cell_type": "code",
   "execution_count": 125,
   "id": "13ee9d74",
   "metadata": {},
   "outputs": [
    {
     "data": {
      "text/plain": [
       "[10, 11, 12, 13, 14, 15, 16, 17, 18, 19, 20]"
      ]
     },
     "execution_count": 125,
     "metadata": {},
     "output_type": "execute_result"
    }
   ],
   "source": [
    "nums"
   ]
  },
  {
   "cell_type": "code",
   "execution_count": 126,
   "id": "8e86c7f0",
   "metadata": {},
   "outputs": [],
   "source": [
    "nums.append(1)"
   ]
  },
  {
   "cell_type": "code",
   "execution_count": 127,
   "id": "cceb6c30",
   "metadata": {},
   "outputs": [
    {
     "data": {
      "text/plain": [
       "[10, 11, 12, 13, 14, 15, 16, 17, 18, 19, 20, 1]"
      ]
     },
     "execution_count": 127,
     "metadata": {},
     "output_type": "execute_result"
    }
   ],
   "source": [
    "nums"
   ]
  },
  {
   "cell_type": "code",
   "execution_count": 129,
   "id": "62ecb9dc",
   "metadata": {},
   "outputs": [],
   "source": [
    "first = nums.pop(0)"
   ]
  },
  {
   "cell_type": "code",
   "execution_count": 131,
   "id": "5ad91bcd",
   "metadata": {},
   "outputs": [
    {
     "data": {
      "text/plain": [
       "[11, 12, 13, 14, 15, 16, 17, 18, 19, 20]"
      ]
     },
     "execution_count": 131,
     "metadata": {},
     "output_type": "execute_result"
    }
   ],
   "source": [
    "nums"
   ]
  },
  {
   "cell_type": "code",
   "execution_count": 135,
   "id": "4fef7eee",
   "metadata": {},
   "outputs": [
    {
     "ename": "ValueError",
     "evalue": "100 is not in list",
     "output_type": "error",
     "traceback": [
      "\u001b[1;31m---------------------------------------------------------------------------\u001b[0m",
      "\u001b[1;31mValueError\u001b[0m                                Traceback (most recent call last)",
      "\u001b[1;32m<ipython-input-135-8c7e3b2ba1d6>\u001b[0m in \u001b[0;36m<module>\u001b[1;34m\u001b[0m\n\u001b[0;32m      1\u001b[0m \u001b[0mnums\u001b[0m\u001b[1;33m.\u001b[0m\u001b[0mcount\u001b[0m\u001b[1;33m(\u001b[0m\u001b[1;36m100\u001b[0m\u001b[1;33m)\u001b[0m\u001b[1;33m\u001b[0m\u001b[1;33m\u001b[0m\u001b[0m\n\u001b[1;32m----> 2\u001b[1;33m \u001b[0mnums\u001b[0m\u001b[1;33m.\u001b[0m\u001b[0mindex\u001b[0m\u001b[1;33m(\u001b[0m\u001b[1;36m100\u001b[0m\u001b[1;33m)\u001b[0m\u001b[1;33m\u001b[0m\u001b[1;33m\u001b[0m\u001b[0m\n\u001b[0m",
      "\u001b[1;31mValueError\u001b[0m: 100 is not in list"
     ]
    }
   ],
   "source": [
    "nums.count(100)\n",
    "nums.index(100)"
   ]
  },
  {
   "cell_type": "code",
   "execution_count": 136,
   "id": "c6a4eb2f",
   "metadata": {},
   "outputs": [
    {
     "data": {
      "text/plain": [
       "[100, 11, 12, 13, 14, 15, 16, 17, 18, 19, 20]"
      ]
     },
     "execution_count": 136,
     "metadata": {},
     "output_type": "execute_result"
    }
   ],
   "source": [
    "nums.insert(0, 100)\n",
    "nums"
   ]
  },
  {
   "cell_type": "code",
   "execution_count": 138,
   "id": "45dbb749",
   "metadata": {},
   "outputs": [
    {
     "data": {
      "text/plain": [
       "[100, 11, 12, 13, 14, 15, 16, 17, 18, 19]"
      ]
     },
     "execution_count": 138,
     "metadata": {},
     "output_type": "execute_result"
    }
   ],
   "source": [
    "nums.remove(20)\n",
    "nums"
   ]
  },
  {
   "cell_type": "code",
   "execution_count": 139,
   "id": "3965d8e8",
   "metadata": {},
   "outputs": [
    {
     "data": {
      "text/plain": [
       "[100, 11, 12, 13, 14, 15, 16, 17, 18, 19, 1, 2, 3, 4]"
      ]
     },
     "execution_count": 139,
     "metadata": {},
     "output_type": "execute_result"
    }
   ],
   "source": [
    "nums.extend([1,2,3,4])\n",
    "nums"
   ]
  },
  {
   "cell_type": "code",
   "execution_count": 140,
   "id": "467eb8a5",
   "metadata": {},
   "outputs": [
    {
     "data": {
      "text/plain": [
       "[100, 11, 12, 13, 14, 15, 16, 17, 18, 19, 1, 2, 3, 4, [1, 2, 3, 4]]"
      ]
     },
     "execution_count": 140,
     "metadata": {},
     "output_type": "execute_result"
    }
   ],
   "source": [
    "nums.append([1,2,3,4])\n",
    "nums"
   ]
  },
  {
   "cell_type": "code",
   "execution_count": 142,
   "id": "3edfd3ce",
   "metadata": {},
   "outputs": [],
   "source": [
    "# nums.extend(1)\n",
    "nums.extend('hello')"
   ]
  },
  {
   "cell_type": "code",
   "execution_count": 143,
   "id": "33ae7157",
   "metadata": {},
   "outputs": [
    {
     "data": {
      "text/plain": [
       "[100,\n",
       " 11,\n",
       " 12,\n",
       " 13,\n",
       " 14,\n",
       " 15,\n",
       " 16,\n",
       " 17,\n",
       " 18,\n",
       " 19,\n",
       " 1,\n",
       " 2,\n",
       " 3,\n",
       " 4,\n",
       " [1, 2, 3, 4],\n",
       " 'h',\n",
       " 'e',\n",
       " 'l',\n",
       " 'l',\n",
       " 'o']"
      ]
     },
     "execution_count": 143,
     "metadata": {},
     "output_type": "execute_result"
    }
   ],
   "source": [
    "nums"
   ]
  },
  {
   "cell_type": "code",
   "execution_count": 144,
   "id": "6864efdf",
   "metadata": {},
   "outputs": [],
   "source": [
    "nums = [4,1,8,5,9]\n",
    "names = ['tom', 'jerry', 'donald']"
   ]
  },
  {
   "cell_type": "code",
   "execution_count": 147,
   "id": "e70ddd4f",
   "metadata": {},
   "outputs": [],
   "source": [
    "nums.sort(reverse=True)"
   ]
  },
  {
   "cell_type": "code",
   "execution_count": 148,
   "id": "cb2f5251",
   "metadata": {},
   "outputs": [
    {
     "data": {
      "text/plain": [
       "[9, 8, 5, 4, 1]"
      ]
     },
     "execution_count": 148,
     "metadata": {},
     "output_type": "execute_result"
    }
   ],
   "source": [
    "nums"
   ]
  },
  {
   "cell_type": "code",
   "execution_count": 149,
   "id": "2cc9d109",
   "metadata": {},
   "outputs": [],
   "source": [
    "names.sort(reverse=True)"
   ]
  },
  {
   "cell_type": "code",
   "execution_count": 150,
   "id": "187282a7",
   "metadata": {},
   "outputs": [
    {
     "data": {
      "text/plain": [
       "['tom', 'jerry', 'donald']"
      ]
     },
     "execution_count": 150,
     "metadata": {},
     "output_type": "execute_result"
    }
   ],
   "source": [
    "names"
   ]
  },
  {
   "cell_type": "code",
   "execution_count": 153,
   "id": "913747b3",
   "metadata": {},
   "outputs": [
    {
     "ename": "TypeError",
     "evalue": "'<' not supported between instances of 'str' and 'int'",
     "output_type": "error",
     "traceback": [
      "\u001b[1;31m---------------------------------------------------------------------------\u001b[0m",
      "\u001b[1;31mTypeError\u001b[0m                                 Traceback (most recent call last)",
      "\u001b[1;32m<ipython-input-153-0aee4c6d3bfa>\u001b[0m in \u001b[0;36m<module>\u001b[1;34m\u001b[0m\n\u001b[1;32m----> 1\u001b[1;33m \u001b[1;33m(\u001b[0m\u001b[0mnums\u001b[0m \u001b[1;33m+\u001b[0m \u001b[0mnames\u001b[0m\u001b[1;33m)\u001b[0m\u001b[1;33m.\u001b[0m\u001b[0msort\u001b[0m\u001b[1;33m(\u001b[0m\u001b[1;33m)\u001b[0m\u001b[1;33m\u001b[0m\u001b[1;33m\u001b[0m\u001b[0m\n\u001b[0m",
      "\u001b[1;31mTypeError\u001b[0m: '<' not supported between instances of 'str' and 'int'"
     ]
    }
   ],
   "source": [
    "(nums + names).sort()"
   ]
  },
  {
   "cell_type": "code",
   "execution_count": 156,
   "id": "f72fd83d",
   "metadata": {},
   "outputs": [
    {
     "name": "stdout",
     "output_type": "stream",
     "text": [
      "9\n",
      "8\n",
      "5\n",
      "4\n",
      "1\n",
      "Done\n"
     ]
    }
   ],
   "source": [
    "for num in nums:\n",
    "    print(num)\n",
    "    \n",
    "print('Done')"
   ]
  },
  {
   "cell_type": "code",
   "execution_count": 160,
   "id": "9ed57f1b",
   "metadata": {},
   "outputs": [
    {
     "name": "stdout",
     "output_type": "stream",
     "text": [
      "0 10\n"
     ]
    }
   ],
   "source": [
    "nums = [-2,-1,0,1,2]\n",
    "added = 0\n",
    "sumofsqs = 0\n",
    "for num in nums:\n",
    "    added += num\n",
    "    sumofsqs += num**2\n",
    "    \n",
    "print(added, sumofsqs)"
   ]
  },
  {
   "cell_type": "code",
   "execution_count": null,
   "id": "91213c9e",
   "metadata": {},
   "outputs": [],
   "source": [
    "# sum of nums\n",
    "# sum of squares of nums"
   ]
  },
  {
   "cell_type": "code",
   "execution_count": 161,
   "id": "7eb55e54",
   "metadata": {},
   "outputs": [
    {
     "name": "stdout",
     "output_type": "stream",
     "text": [
      "a\n",
      "b\n",
      "c\n",
      "d\n",
      "e\n",
      "f\n"
     ]
    }
   ],
   "source": [
    "for char in 'abcdef':\n",
    "    print(char)"
   ]
  },
  {
   "cell_type": "code",
   "execution_count": 163,
   "id": "51c6c495",
   "metadata": {},
   "outputs": [
    {
     "name": "stdout",
     "output_type": "stream",
     "text": [
      "hello\n",
      "hello\n",
      "hello\n",
      "hello\n",
      "hello\n",
      "hello\n",
      "hello\n",
      "hello\n",
      "hello\n",
      "hello\n"
     ]
    }
   ],
   "source": [
    "for _ in range(10):\n",
    "    print('hello')"
   ]
  },
  {
   "cell_type": "code",
   "execution_count": 170,
   "id": "6fce6daf",
   "metadata": {},
   "outputs": [
    {
     "ename": "TypeError",
     "evalue": "'str' object does not support item assignment",
     "output_type": "error",
     "traceback": [
      "\u001b[1;31m---------------------------------------------------------------------------\u001b[0m",
      "\u001b[1;31mTypeError\u001b[0m                                 Traceback (most recent call last)",
      "\u001b[1;32m<ipython-input-170-667d0382a906>\u001b[0m in \u001b[0;36m<module>\u001b[1;34m\u001b[0m\n\u001b[1;32m----> 1\u001b[1;33m \u001b[0mname\u001b[0m\u001b[1;33m[\u001b[0m\u001b[1;36m2\u001b[0m\u001b[1;33m:\u001b[0m\u001b[1;33m]\u001b[0m \u001b[1;33m=\u001b[0m \u001b[1;34m'VINCI'\u001b[0m\u001b[1;33m\u001b[0m\u001b[1;33m\u001b[0m\u001b[0m\n\u001b[0m",
      "\u001b[1;31mTypeError\u001b[0m: 'str' object does not support item assignment"
     ]
    }
   ],
   "source": [
    "name[2:] = 'VINCI'"
   ]
  },
  {
   "cell_type": "code",
   "execution_count": 168,
   "id": "97fccfca",
   "metadata": {},
   "outputs": [],
   "source": [
    "nums[2:] = [1,2,3]"
   ]
  },
  {
   "cell_type": "code",
   "execution_count": 169,
   "id": "ffe1ac4e",
   "metadata": {},
   "outputs": [
    {
     "data": {
      "text/plain": [
       "[-2, -1, 1, 2, 3]"
      ]
     },
     "execution_count": 169,
     "metadata": {},
     "output_type": "execute_result"
    }
   ],
   "source": [
    "nums"
   ]
  },
  {
   "cell_type": "code",
   "execution_count": null,
   "id": "a5c4b4d5",
   "metadata": {},
   "outputs": [],
   "source": [
    "nums += [10,20,30]"
   ]
  },
  {
   "cell_type": "code",
   "execution_count": 175,
   "id": "83ecba06",
   "metadata": {},
   "outputs": [
    {
     "data": {
      "text/plain": [
       "[2, 3, 4, 5, 1]"
      ]
     },
     "execution_count": 175,
     "metadata": {},
     "output_type": "execute_result"
    }
   ],
   "source": [
    "nums = [1,2,3,4,5]\n",
    "[4,5,1,2,3]"
   ]
  },
  {
   "cell_type": "code",
   "execution_count": 178,
   "id": "0b78b080",
   "metadata": {},
   "outputs": [
    {
     "data": {
      "text/plain": [
       "[5, 1, 2, 3, 4]"
      ]
     },
     "execution_count": 178,
     "metadata": {},
     "output_type": "execute_result"
    }
   ],
   "source": [
    "nr = 1000000000000000004\n",
    "for _ in range(nr%len(nums)):\n",
    "    first = nums.pop(0)\n",
    "    nums.append(first)\n",
    "nums"
   ]
  },
  {
   "cell_type": "code",
   "execution_count": 184,
   "id": "1d5d73e6",
   "metadata": {},
   "outputs": [],
   "source": [
    "# poor person's bar chart\n",
    "nums = [500,100,800,300,400]\n",
    "\n",
    "##### 5\n",
    "# 1\n",
    "######## 8\n",
    "### 3"
   ]
  },
  {
   "cell_type": "code",
   "execution_count": 185,
   "id": "68b9c2d1",
   "metadata": {},
   "outputs": [
    {
     "name": "stdout",
     "output_type": "stream",
     "text": [
      "##### 5\n",
      "# 1\n",
      "######## 8\n",
      "### 3\n",
      "#### 4\n"
     ]
    }
   ],
   "source": [
    "for num in nums:\n",
    "    print('#' * num, num)"
   ]
  },
  {
   "cell_type": "markdown",
   "id": "bd4e3bb3",
   "metadata": {},
   "source": [
    "# Dictionaries\n",
    "\n",
    "    Key-value stores\n",
    "\n",
    "- Lookup\n",
    "- Unordered"
   ]
  },
  {
   "cell_type": "code",
   "execution_count": 191,
   "id": "95b78c93",
   "metadata": {},
   "outputs": [],
   "source": [
    "lengths = {1:'a', 2:'of', 3:'the'}\n",
    "sqs = {1:1, 2:4, 3:9}\n",
    "wordlens = {'a':1, 'of':2, 'the':3}"
   ]
  },
  {
   "cell_type": "code",
   "execution_count": 189,
   "id": "fbb10704",
   "metadata": {},
   "outputs": [
    {
     "data": {
      "text/plain": [
       "dict"
      ]
     },
     "execution_count": 189,
     "metadata": {},
     "output_type": "execute_result"
    }
   ],
   "source": [
    "type(lengths)"
   ]
  },
  {
   "cell_type": "code",
   "execution_count": 193,
   "id": "0ed76926",
   "metadata": {},
   "outputs": [
    {
     "data": {
      "text/plain": [
       "3"
      ]
     },
     "execution_count": 193,
     "metadata": {},
     "output_type": "execute_result"
    }
   ],
   "source": [
    "lengths[2]\n",
    "wordlens['the']"
   ]
  },
  {
   "cell_type": "code",
   "execution_count": 197,
   "id": "12844088",
   "metadata": {},
   "outputs": [
    {
     "ename": "KeyError",
     "evalue": "'hello'",
     "output_type": "error",
     "traceback": [
      "\u001b[1;31m---------------------------------------------------------------------------\u001b[0m",
      "\u001b[1;31mKeyError\u001b[0m                                  Traceback (most recent call last)",
      "\u001b[1;32m<ipython-input-197-ef01a012b705>\u001b[0m in \u001b[0;36m<module>\u001b[1;34m\u001b[0m\n\u001b[1;32m----> 1\u001b[1;33m \u001b[0mwordlens\u001b[0m\u001b[1;33m[\u001b[0m\u001b[1;34m'hello'\u001b[0m\u001b[1;33m]\u001b[0m\u001b[1;33m\u001b[0m\u001b[1;33m\u001b[0m\u001b[0m\n\u001b[0m",
      "\u001b[1;31mKeyError\u001b[0m: 'hello'"
     ]
    }
   ],
   "source": [
    "wordlens['hello']"
   ]
  },
  {
   "cell_type": "code",
   "execution_count": 198,
   "id": "0bf64cfd",
   "metadata": {},
   "outputs": [
    {
     "data": {
      "text/plain": [
       "{'a': 1, 'of': 2, 'the': 3, 'hello': 5}"
      ]
     },
     "execution_count": 198,
     "metadata": {},
     "output_type": "execute_result"
    }
   ],
   "source": [
    "wordlens['hello'] = len('hello')\n",
    "wordlens"
   ]
  },
  {
   "cell_type": "code",
   "execution_count": 199,
   "id": "b1e273b1",
   "metadata": {},
   "outputs": [
    {
     "data": {
      "text/plain": [
       "{'a': 1, 'of': 2, 'the': 3}"
      ]
     },
     "execution_count": 199,
     "metadata": {},
     "output_type": "execute_result"
    }
   ],
   "source": [
    "del wordlens['hello']\n",
    "wordlens"
   ]
  },
  {
   "cell_type": "code",
   "execution_count": 202,
   "id": "01100475",
   "metadata": {},
   "outputs": [
    {
     "data": {
      "text/plain": [
       "dict_items([('a', 1), ('of', 2), ('the', 3)])"
      ]
     },
     "execution_count": 202,
     "metadata": {},
     "output_type": "execute_result"
    }
   ],
   "source": [
    "wordlens.keys()\n",
    "wordlens.values()\n",
    "wordlens.items()"
   ]
  },
  {
   "cell_type": "code",
   "execution_count": 203,
   "id": "21dcdd7f",
   "metadata": {},
   "outputs": [
    {
     "data": {
      "text/plain": [
       "tuple"
      ]
     },
     "execution_count": 203,
     "metadata": {},
     "output_type": "execute_result"
    }
   ],
   "source": [
    "nums = (1,2,3)\n",
    "type(nums)"
   ]
  },
  {
   "cell_type": "code",
   "execution_count": 206,
   "id": "0e8527dc",
   "metadata": {},
   "outputs": [
    {
     "data": {
      "text/plain": [
       "(2, 3)"
      ]
     },
     "execution_count": 206,
     "metadata": {},
     "output_type": "execute_result"
    }
   ],
   "source": [
    "nums."
   ]
  },
  {
   "cell_type": "code",
   "execution_count": 207,
   "id": "f55d6768",
   "metadata": {},
   "outputs": [
    {
     "ename": "TypeError",
     "evalue": "unhashable type: 'list'",
     "output_type": "error",
     "traceback": [
      "\u001b[1;31m---------------------------------------------------------------------------\u001b[0m",
      "\u001b[1;31mTypeError\u001b[0m                                 Traceback (most recent call last)",
      "\u001b[1;32m<ipython-input-207-6a877ddfae00>\u001b[0m in \u001b[0;36m<module>\u001b[1;34m\u001b[0m\n\u001b[1;32m----> 1\u001b[1;33m \u001b[0mwordlens\u001b[0m\u001b[1;33m[\u001b[0m\u001b[1;33m[\u001b[0m\u001b[1;36m1\u001b[0m\u001b[1;33m,\u001b[0m\u001b[1;36m2\u001b[0m\u001b[1;33m,\u001b[0m\u001b[1;36m3\u001b[0m\u001b[1;33m]\u001b[0m\u001b[1;33m]\u001b[0m \u001b[1;33m=\u001b[0m \u001b[1;34m'abc'\u001b[0m\u001b[1;33m\u001b[0m\u001b[1;33m\u001b[0m\u001b[0m\n\u001b[0m",
      "\u001b[1;31mTypeError\u001b[0m: unhashable type: 'list'"
     ]
    }
   ],
   "source": [
    "wordlens[[1,2,3]] = 'abc'"
   ]
  },
  {
   "cell_type": "code",
   "execution_count": 208,
   "id": "6a6beb5d",
   "metadata": {},
   "outputs": [
    {
     "data": {
      "text/plain": [
       "{'a': 1, 'of': 2, 'the': 3, (1, 2, 3): 'abc'}"
      ]
     },
     "execution_count": 208,
     "metadata": {},
     "output_type": "execute_result"
    }
   ],
   "source": [
    "wordlens[(1,2,3)] = 'abc'\n",
    "wordlens"
   ]
  },
  {
   "cell_type": "code",
   "execution_count": 209,
   "id": "755080c4",
   "metadata": {},
   "outputs": [
    {
     "data": {
      "text/plain": [
       "{1: 'a', 2: 'of', 3: 'the'}"
      ]
     },
     "execution_count": 209,
     "metadata": {},
     "output_type": "execute_result"
    }
   ],
   "source": [
    "lengths"
   ]
  },
  {
   "cell_type": "code",
   "execution_count": 210,
   "id": "67b56eb1",
   "metadata": {},
   "outputs": [
    {
     "data": {
      "text/plain": [
       "{1: 'a', 2: 'an', 3: 'the'}"
      ]
     },
     "execution_count": 210,
     "metadata": {},
     "output_type": "execute_result"
    }
   ],
   "source": [
    "lengths[2] = 'an'\n",
    "lengths"
   ]
  },
  {
   "cell_type": "code",
   "execution_count": 211,
   "id": "2bd23879",
   "metadata": {},
   "outputs": [],
   "source": [
    "lengths = {2: ['of', 'an']}"
   ]
  },
  {
   "cell_type": "code",
   "execution_count": 212,
   "id": "5159565d",
   "metadata": {},
   "outputs": [
    {
     "data": {
      "text/plain": [
       "{2: ['of', 'an', 'on', 'in']}"
      ]
     },
     "execution_count": 212,
     "metadata": {},
     "output_type": "execute_result"
    }
   ],
   "source": [
    "lengths[2].extend('on in'.split())\n",
    "lengths"
   ]
  },
  {
   "cell_type": "code",
   "execution_count": 213,
   "id": "026af71d",
   "metadata": {},
   "outputs": [
    {
     "data": {
      "text/plain": [
       "True"
      ]
     },
     "execution_count": 213,
     "metadata": {},
     "output_type": "execute_result"
    }
   ],
   "source": [
    "2 in lengths"
   ]
  },
  {
   "cell_type": "code",
   "execution_count": null,
   "id": "303c0297",
   "metadata": {},
   "outputs": [],
   "source": []
  },
  {
   "cell_type": "code",
   "execution_count": null,
   "id": "c56d104a",
   "metadata": {},
   "outputs": [],
   "source": []
  },
  {
   "cell_type": "code",
   "execution_count": null,
   "id": "128075a5",
   "metadata": {},
   "outputs": [],
   "source": []
  }
 ],
 "metadata": {
  "kernelspec": {
   "display_name": "Python 3",
   "language": "python",
   "name": "python3"
  },
  "language_info": {
   "codemirror_mode": {
    "name": "ipython",
    "version": 3
   },
   "file_extension": ".py",
   "mimetype": "text/x-python",
   "name": "python",
   "nbconvert_exporter": "python",
   "pygments_lexer": "ipython3",
   "version": "3.8.8"
  }
 },
 "nbformat": 4,
 "nbformat_minor": 5
}
